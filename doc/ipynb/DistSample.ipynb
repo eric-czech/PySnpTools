{
 "cells": [
  {
   "cell_type": "markdown",
   "metadata": {},
   "source": [
    "#### Define a Bed reader and read a few values from it (they are a 2D numpy array)"
   ]
  },
  {
   "cell_type": "code",
   "execution_count": 10,
   "metadata": {},
   "outputs": [
    {
     "name": "stdout",
     "output_type": "stream",
     "text": [
      "Bed('all.bed',count_A1=True)\n"
     ]
    },
    {
     "data": {
      "text/plain": [
       "array([[0., 0., 1., 2.],\n",
       "       [0., 0., 1., 1.]])"
      ]
     },
     "execution_count": 10,
     "metadata": {},
     "output_type": "execute_result"
    }
   ],
   "source": [
    "import os\n",
    "import numpy as np\n",
    "\n",
    "from pysnptools.snpreader import Bed\n",
    "snpreader = Bed(\"all.bed\", count_A1=True)\n",
    "\n",
    "# What is snpreader?\n",
    "print(snpreader)\n",
    "snpreader[:2,:4].read().val"
   ]
  },
  {
   "cell_type": "markdown",
   "metadata": {},
   "source": [
    "#### Convert a Bed reader into a distribution reader"
   ]
  },
  {
   "cell_type": "code",
   "execution_count": 4,
   "metadata": {},
   "outputs": [
    {
     "data": {
      "text/plain": [
       "Snp2Dist(Bed('all.bed',count_A1=True))"
      ]
     },
     "execution_count": 4,
     "metadata": {},
     "output_type": "execute_result"
    }
   ],
   "source": [
    "from pysnptools.distreader import Snp2Dist\n",
    "distreader = Snp2Dist(snpreader)\n",
    "distreader"
   ]
  },
  {
   "cell_type": "markdown",
   "metadata": {},
   "source": [
    "#### Read a few values from the distribution reader. They are a 3D numpy array."
   ]
  },
  {
   "cell_type": "code",
   "execution_count": 12,
   "metadata": {},
   "outputs": [
    {
     "data": {
      "text/plain": [
       "array([[[1., 0., 0.],\n",
       "        [1., 0., 0.],\n",
       "        [0., 1., 0.],\n",
       "        [0., 0., 1.]],\n",
       "\n",
       "       [[1., 0., 0.],\n",
       "        [1., 0., 0.],\n",
       "        [0., 1., 0.],\n",
       "        [0., 1., 0.]]])"
      ]
     },
     "execution_count": 12,
     "metadata": {},
     "output_type": "execute_result"
    }
   ],
   "source": [
    "distdata = distreader[:2,:4].read()\n",
    "distdata.val"
   ]
  },
  {
   "cell_type": "markdown",
   "metadata": {},
   "source": [
    "#### Write the distribution values to a file."
   ]
  },
  {
   "cell_type": "code",
   "execution_count": 14,
   "metadata": {},
   "outputs": [
    {
     "data": {
      "text/plain": [
       "DistMemMap('sample.dist.memmap')"
      ]
     },
     "execution_count": 14,
     "metadata": {},
     "output_type": "execute_result"
    }
   ],
   "source": [
    "from pysnptools.distreader import DistMemMap\n",
    "DistMemMap.write('sample.dist.memmap',distdata)"
   ]
  },
  {
   "cell_type": "markdown",
   "metadata": {},
   "source": [
    "##### Read from the file. Listing the individual ID's the SNP id's and the values."
   ]
  },
  {
   "cell_type": "code",
   "execution_count": 15,
   "metadata": {},
   "outputs": [
    {
     "name": "stdout",
     "output_type": "stream",
     "text": [
      "[['cid0P0' 'cid0P0']\n",
      " ['cid1P0' 'cid1P0']]\n",
      "['snp625_m0_.03m1_.07' 'snp1750_m0_.02m1_.04' 'snp0_m0_.37m1_.24'\n",
      " 'snp375_m0_.52m1_.68']\n",
      "[[[1. 0. 0.]\n",
      "  [1. 0. 0.]\n",
      "  [0. 1. 0.]\n",
      "  [0. 0. 1.]]\n",
      "\n",
      " [[1. 0. 0.]\n",
      "  [1. 0. 0.]\n",
      "  [0. 1. 0.]\n",
      "  [0. 1. 0.]]]\n"
     ]
    }
   ],
   "source": [
    "distmemmap = DistMemMap('sample.dist.memmap')\n",
    "print(distmemmap.iid)\n",
    "print(distmemmap.sid)\n",
    "print(distmemmap.val)"
   ]
  },
  {
   "cell_type": "markdown",
   "metadata": {},
   "source": [
    "#### Create an in-memory distribution\n",
    "* Create via random\n",
    "* Create a second distribution with the individuals reversed and with every 10th SNP.\n",
    "* Print the start of the 2nd distribution's individual ID's the SNP id's and the values"
   ]
  },
  {
   "cell_type": "code",
   "execution_count": 22,
   "metadata": {},
   "outputs": [
    {
     "name": "stdout",
     "output_type": "stream",
     "text": [
      "[['fam0' 'iid99']\n",
      " ['fam0' 'iid98']\n",
      " ['fam0' 'iid97']]\n",
      "['sid0' 'sid10' 'sid20']\n",
      "[[[0.20081495 0.4737261  0.32545895]\n",
      "  [0.52343568 0.16311684 0.31344748]\n",
      "  [0.26296867 0.5548358  0.18219553]]\n",
      "\n",
      " [[0.29093073 0.36418333 0.34488594]\n",
      "  [0.12887058 0.64865356 0.22247586]\n",
      "  [0.00325359 0.69403215 0.30271426]]\n",
      "\n",
      " [[0.02445881 0.66399687 0.31154432]\n",
      "  [0.33538909 0.35483828 0.30977264]\n",
      "  [0.40125371 0.25403278 0.34471351]]]\n"
     ]
    }
   ],
   "source": [
    "from pysnptools.distreader import DistData\n",
    "import numpy as np\n",
    "\n",
    "np.random.seed(0)\n",
    "iid_count = 100\n",
    "sid_count = 1000\n",
    "val = np.random.random((iid_count,sid_count,3))\n",
    "val /= val.sum(axis=2,keepdims=True)  #make probabilities sum to 1\n",
    "distdata = DistData(val=val,\n",
    "                    iid=[('fam0','iid{0}'.format(i)) for i in range(iid_count)],\n",
    "                    sid=['sid{0}'.format(s) for s in range(sid_count)]\n",
    "                    )\n",
    "distdata2 = distdata[::-1,::10].read()\n",
    "print(distdata2.iid[:3])\n",
    "print(distdata2.sid[:3])\n",
    "print(distdata2.val[:3,:3])"
   ]
  },
  {
   "cell_type": "code",
   "execution_count": null,
   "metadata": {},
   "outputs": [],
   "source": []
  }
 ],
 "metadata": {
  "kernelspec": {
   "display_name": "Python 3",
   "language": "python",
   "name": "python3"
  },
  "language_info": {
   "codemirror_mode": {
    "name": "ipython",
    "version": 3
   },
   "file_extension": ".py",
   "mimetype": "text/x-python",
   "name": "python",
   "nbconvert_exporter": "python",
   "pygments_lexer": "ipython3",
   "version": "3.7.4"
  }
 },
 "nbformat": 4,
 "nbformat_minor": 2
}
