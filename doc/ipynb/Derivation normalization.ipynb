{
 "cells": [
  {
   "cell_type": "markdown",
   "metadata": {},
   "source": [
    "Assume we are given SNP matrix $G \\in \\mathbb{R}^{N,D}$. Standardizing it, will set the mean $\\mu$ to zero and the variance to one for each SNP $j$.\n",
    "\n",
    "The sample variance for SNP $j$ ($\\text{var}_j$) is defined as:\n",
    "$$  \\text{var}_j = \\frac{1}{N} \\sum_{i=1}^N (G_{ij} - \\mu)^2 = \\frac{1}{N} \\sum_{i=1}^N G_{ij}^2 = 1 $$\n",
    "\n",
    "Thus, when computing the sum of squared entries (as in the \"new\" normalization scheme), we get:\n",
    "\n",
    "$$  ss = \\sum_{i=1}^N \\sum_{j=1}^D G_{ij}^2 = \\sum_{j=1}^D N \\cdot \\text{var}_j = N \\sum_{j=1}^D 1 = N \\cdot D $$\n",
    "\n",
    "Thus, normalizing $G$ by $\\sqrt{\\frac{ss}{N}}$ is equivalent to normalizing by $\\sqrt{D}$ if $G$ was unit standardized."
   ]
  },
  {
   "cell_type": "code",
   "execution_count": 2,
   "metadata": {},
   "outputs": [
    {
     "name": "stdout",
     "output_type": "stream",
     "text": [
      "factor: 100.0 == D\n",
      "sum of diagonal 10.000000000000002\n"
     ]
    }
   ],
   "source": [
    "import numpy as np\n",
    "from pysnptools.standardizer.diag_K_to_N import DiagKtoN\n",
    "from pysnptools.standardizer import Unit\n",
    "\n",
    "N = 10\n",
    "D = 100\n",
    "\n",
    "np.random.seed(42)\n",
    "m = np.random.random((N,D))\n",
    "\n",
    "mu = Unit().standardize(m.copy())\n",
    "\n",
    "# get factor\n",
    "d2 = np.sum(mu**2) / float(N)\n",
    "\n",
    "print \"factor:\", d2, \"== D\"\n",
    "s = DiagKtoN(N)\n",
    "s.standardize(m)\n",
    "K = m.dot(m.T)\n",
    "sum_diag = np.sum(np.diag(K))\n",
    "\n",
    "print \"sum of diagonal\", sum_diag"
   ]
  },
  {
   "cell_type": "code",
   "execution_count": 1,
   "metadata": {},
   "outputs": [
    {
     "name": "stdout",
     "output_type": "stream",
     "text": [
      "factor:  7.8492188930247835 != D\n"
     ]
    }
   ],
   "source": [
    "# this may not hold true for other standardizers (e.g. beta)...\n",
    "\n",
    "import numpy as np\n",
    "from pysnptools.standardizer import Beta\n",
    "\n",
    "N = 10\n",
    "D = 100\n",
    "\n",
    "np.random.seed(42)\n",
    "m = np.random.random((N,D))\n",
    "\n",
    "mu = Beta(1,1).standardize(m.copy())\n",
    "\n",
    "# get factor\n",
    "d2 = np.sum(mu**2) / float(N)\n",
    "\n",
    "print \"factor: \", d2, \"!= D\"\n"
   ]
  },
  {
   "cell_type": "code",
   "execution_count": null,
   "metadata": {},
   "outputs": [],
   "source": []
  }
 ],
 "metadata": {
  "kernelspec": {
   "display_name": "Python 2",
   "language": "python",
   "name": "python2"
  },
  "language_info": {
   "codemirror_mode": {
    "name": "ipython",
    "version": 2
   },
   "file_extension": ".py",
   "mimetype": "text/x-python",
   "name": "python",
   "nbconvert_exporter": "python",
   "pygments_lexer": "ipython2",
   "version": "2.7.16"
  }
 },
 "nbformat": 4,
 "nbformat_minor": 1
}
