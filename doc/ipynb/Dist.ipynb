{
 "cells": [
  {
   "cell_type": "markdown",
   "metadata": {},
   "source": [
    "# Introduction\n",
    "\n",
    "This notebook illustates the use of the PySnpTools 'DistReader' features."
   ]
  },
  {
   "attachments": {},
   "cell_type": "markdown",
   "metadata": {},
   "source": [
    "# Set Up\n",
    "\n",
    "We assume you have Anaconda Python 3 installed.\n",
    "\n",
    "To install PySnpTools with DistReader, use this command\n",
    "\n",
    "> pip install git+https://github.com/fastlmm/PySnpTools.git@fce64625821e70da8d4ca921b9e2a38cbcfbb6cf\n",
    "\n",
    "Aside: To get this to work on Ubuntu, I had to first\n",
    "* Uninstall my previous pysnptools\n",
    "    > pip uninstall pysnptools\n",
    "* Install git\n",
    "    > sudo apt-get update\n",
    "    > sudo apt-get install git\n",
    "* Upgrade pip\n",
    "    > curl https://bootstrap.pypa.io/get-pip.py -o get-pip.py\n",
    "    > python3 get-pip.py --force-reinstall\n",
    "    \n",
    "If it is working, this Python command will work:"
   ]
  },
  {
   "cell_type": "code",
   "execution_count": 1,
   "metadata": {},
   "outputs": [],
   "source": [
    "from pysnptools.distreader import Bgen"
   ]
  },
  {
   "cell_type": "markdown",
   "metadata": {},
   "source": [
    "We also need an example file, which you can download inside Python like this:"
   ]
  },
  {
   "cell_type": "code",
   "execution_count": 2,
   "metadata": {},
   "outputs": [],
   "source": [
    "from bgen_reader import download\n",
    "download(\"http://rest.s3for.me/bgen-reader/example.bgen\")"
   ]
  },
  {
   "cell_type": "markdown",
   "metadata": {},
   "source": [
    "# Documentation\n",
    "\n",
    "Full documentation, with examples, for every function discussed can be found here:\n",
    "https://fastlmm.github.io/PySnpTools/branch/dist/#module-pysnptools.distreader"
   ]
  },
  {
   "cell_type": "markdown",
   "metadata": {},
   "source": [
    "# Reading a Bgen file\n",
    "\n",
    "The idea behind PySnpTools is that we create 'readers' for genomic data. Readers quickly can tells about the individuals (also known as samples) and SNPs (also known as variants) in the file. The actual genomic data is not read until a .read() command is given.\n",
    "\n",
    "For example:"
   ]
  },
  {
   "cell_type": "code",
   "execution_count": 5,
   "metadata": {},
   "outputs": [
    {
     "data": {
      "text/plain": [
       "Bgen('example.bgen')"
      ]
     },
     "execution_count": 5,
     "metadata": {},
     "output_type": "execute_result"
    }
   ],
   "source": [
    "from pysnptools.distreader import Bgen\n",
    "bgen = Bgen('example.bgen') #Create a Bgen reader, named 'bgen'\n",
    "bgen"
   ]
  },
  {
   "cell_type": "code",
   "execution_count": 11,
   "metadata": {},
   "outputs": [
    {
     "name": "stdout",
     "output_type": "stream",
     "text": [
      "(500, 199)\n",
      "[['0' 'sample_001']\n",
      " ['0' 'sample_002']\n",
      " ['0' 'sample_003']\n",
      " ['0' 'sample_004']\n",
      " ['0' 'sample_005']]\n",
      "['SNPID_2,RSID_2' 'SNPID_3,RSID_3' 'SNPID_4,RSID_4' 'SNPID_5,RSID_5'\n",
      " 'SNPID_6,RSID_6']\n",
      "[[1.e+00 0.e+00 2.e+03]\n",
      " [1.e+00 0.e+00 3.e+03]\n",
      " [1.e+00 0.e+00 4.e+03]\n",
      " [1.e+00 0.e+00 5.e+03]\n",
      " [1.e+00 0.e+00 6.e+03]]\n"
     ]
    }
   ],
   "source": [
    "print(bgen.shape)   #print the # of individuals and # of SNPs\n",
    "print(bgen.iid[:5]) #print 1st 5 individuals\n",
    "print(bgen.sid[:5]) #print 1st 5 SNPs\n",
    "print(bgen.pos[:5]) #print 1st chrom and position info for the 1st 5 SNPs"
   ]
  },
  {
   "cell_type": "markdown",
   "metadata": {},
   "source": [
    "Reading produces a 'DistData' object. It contains a .val property that is a numpy array of distribution values"
   ]
  },
  {
   "cell_type": "code",
   "execution_count": 15,
   "metadata": {},
   "outputs": [
    {
     "data": {
      "text/plain": [
       "DistData(Bgen('example.bgen'))"
      ]
     },
     "execution_count": 15,
     "metadata": {},
     "output_type": "execute_result"
    }
   ],
   "source": [
    "distdata = bgen.read() #Read all the data from the file\n",
    "distdata"
   ]
  },
  {
   "cell_type": "markdown",
   "metadata": {},
   "source": [
    "DistData objects also know the iid, sid, etc. But they also have an in-memory .val property containing the distribution."
   ]
  },
  {
   "cell_type": "code",
   "execution_count": 18,
   "metadata": {},
   "outputs": [
    {
     "name": "stdout",
     "output_type": "stream",
     "text": [
      "(500, 199)\n",
      "[['0' 'sample_001']\n",
      " ['0' 'sample_002']\n",
      " ['0' 'sample_003']\n",
      " ['0' 'sample_004']\n",
      " ['0' 'sample_005']]\n"
     ]
    },
    {
     "data": {
      "text/plain": [
       "array([[[       nan,        nan,        nan],\n",
       "        [0.00506592, 0.0020752 , 0.99285888]],\n",
       "\n",
       "       [[0.02780236, 0.00863674, 0.9635609 ],\n",
       "        [0.00964355, 0.00268555, 0.9876709 ]]])"
      ]
     },
     "execution_count": 18,
     "metadata": {},
     "output_type": "execute_result"
    }
   ],
   "source": [
    "print(distdata.shape) #print the # of individuals and # of SNPs\n",
    "print(distdata.iid[:5]) #print the first 5 individuals\n",
    "distdata.val[:2,:2] #Show the distribution data for the first 2 individuals and first 2 SNPs"
   ]
  },
  {
   "cell_type": "markdown",
   "metadata": {},
   "source": [
    "We can do all this in one line:\n",
    "\n",
    "    Aside: If you get a warning about re-opening a file, you can ignore it if you haven't changed the file being read."
   ]
  },
  {
   "cell_type": "code",
   "execution_count": 19,
   "metadata": {},
   "outputs": [
    {
     "name": "stderr",
     "output_type": "stream",
     "text": [
      "WARNING:root:Opening a file again, but its creation date has changed See https://github.com/limix/bgen-reader-py/issues/25. File \"example.bgen\"\n"
     ]
    },
    {
     "data": {
      "text/plain": [
       "array([[[       nan,        nan,        nan],\n",
       "        [0.00506592, 0.0020752 , 0.99285888]],\n",
       "\n",
       "       [[0.02780236, 0.00863674, 0.9635609 ],\n",
       "        [0.00964355, 0.00268555, 0.9876709 ]]])"
      ]
     },
     "execution_count": 19,
     "metadata": {},
     "output_type": "execute_result"
    }
   ],
   "source": [
    "Bgen('example.bgen').read().val[:2,:2]"
   ]
  },
  {
   "cell_type": "markdown",
   "metadata": {},
   "source": [
    "By default, the sid name for a SNP will be something like 'SNPID_2,RSID_2. If you only want the SNP id and not the RSID then create a Bgen reader with a sid_function if 'id'. (Likewise, if you want only the RSID, then 'rsid')"
   ]
  },
  {
   "cell_type": "code",
   "execution_count": 23,
   "metadata": {},
   "outputs": [
    {
     "name": "stderr",
     "output_type": "stream",
     "text": [
      "WARNING:root:Opening a file again, but its creation date has changed See https://github.com/limix/bgen-reader-py/issues/25. File \"example.bgen\"\n"
     ]
    },
    {
     "data": {
      "text/plain": [
       "array(['SNPID_2', 'SNPID_3', 'SNPID_4', 'SNPID_5', 'SNPID_6'],\n",
       "      dtype='<U64')"
      ]
     },
     "execution_count": 23,
     "metadata": {},
     "output_type": "execute_result"
    }
   ],
   "source": [
    "bgen2 = Bgen('example.bgen',sid_function='id') #Use the SNP ids in the BGEN file. Ignore the RSID.\n",
    "bgen2.sid[:5] #print the first 5 SNPs"
   ]
  },
  {
   "cell_type": "markdown",
   "metadata": {},
   "source": [
    "By default, the .read() function will read a float64 NumPy array. That is much more precision that many Bgen files use. So, you'll save 50% of memory by reading with a dtype of 'float32'"
   ]
  },
  {
   "cell_type": "code",
   "execution_count": 30,
   "metadata": {},
   "outputs": [
    {
     "data": {
      "text/plain": [
       "dtype('float32')"
      ]
     },
     "execution_count": 30,
     "metadata": {},
     "output_type": "execute_result"
    }
   ],
   "source": [
    "distdata2 = bgen2.read(dtype='float32') #Read into a NumPy array with dtype 'float32'\n",
    "distdata2.val.dtype #Show the dtype of the NumPy array"
   ]
  },
  {
   "cell_type": "markdown",
   "metadata": {},
   "source": [
    "# Example Matrix Operation\n",
    "\n",
    "In this example, we find the average distribution of each SNP and then list the 5 SNP with the least and greatest entropy. To save memory, we read data from 10 SNPs at a time."
   ]
  },
  {
   "cell_type": "code",
   "execution_count": 74,
   "metadata": {},
   "outputs": [
    {
     "name": "stderr",
     "output_type": "stream",
     "text": [
      "WARNING:root:Opening a file again, but its creation date has changed See https://github.com/limix/bgen-reader-py/issues/25. File \"example.bgen\"\n"
     ]
    },
    {
     "name": "stdout",
     "output_type": "stream",
     "text": [
      "DistData(Bgen('example.bgen')[:,0:10])\n",
      "DistData(Bgen('example.bgen')[:,10:20])\n",
      "DistData(Bgen('example.bgen')[:,20:30])\n",
      "DistData(Bgen('example.bgen')[:,30:40])\n",
      "DistData(Bgen('example.bgen')[:,40:50])\n",
      "DistData(Bgen('example.bgen')[:,50:60])\n",
      "DistData(Bgen('example.bgen')[:,60:70])\n",
      "DistData(Bgen('example.bgen')[:,70:80])\n",
      "DistData(Bgen('example.bgen')[:,80:90])\n",
      "DistData(Bgen('example.bgen')[:,90:100])\n",
      "DistData(Bgen('example.bgen')[:,100:110])\n",
      "DistData(Bgen('example.bgen')[:,110:120])\n",
      "DistData(Bgen('example.bgen')[:,120:130])\n",
      "DistData(Bgen('example.bgen')[:,130:140])\n",
      "DistData(Bgen('example.bgen')[:,140:150])\n",
      "DistData(Bgen('example.bgen')[:,150:160])\n",
      "DistData(Bgen('example.bgen')[:,160:170])\n",
      "DistData(Bgen('example.bgen')[:,170:180])\n",
      "DistData(Bgen('example.bgen')[:,180:190])\n",
      "DistData(Bgen('example.bgen')[:,190:200])\n"
     ]
    },
    {
     "data": {
      "text/html": [
       "<div>\n",
       "<style scoped>\n",
       "    .dataframe tbody tr th:only-of-type {\n",
       "        vertical-align: middle;\n",
       "    }\n",
       "\n",
       "    .dataframe tbody tr th {\n",
       "        vertical-align: top;\n",
       "    }\n",
       "\n",
       "    .dataframe thead th {\n",
       "        text-align: right;\n",
       "    }\n",
       "</style>\n",
       "<table border=\"1\" class=\"dataframe\">\n",
       "  <thead>\n",
       "    <tr style=\"text-align: right;\">\n",
       "      <th></th>\n",
       "      <th>sid</th>\n",
       "      <th>shannon2</th>\n",
       "      <th>meandist</th>\n",
       "    </tr>\n",
       "  </thead>\n",
       "  <tbody>\n",
       "    <tr>\n",
       "      <td>7</td>\n",
       "      <td>SNPID_129</td>\n",
       "      <td>0.157309</td>\n",
       "      <td>0.97979075,0.016114073,0.0040951488</td>\n",
       "    </tr>\n",
       "    <tr>\n",
       "      <td>7</td>\n",
       "      <td>SNPID_29</td>\n",
       "      <td>0.157309</td>\n",
       "      <td>0.0040951488,0.016114073,0.97979075</td>\n",
       "    </tr>\n",
       "    <tr>\n",
       "      <td>1</td>\n",
       "      <td>SNPID_173</td>\n",
       "      <td>0.255571</td>\n",
       "      <td>0.96289223,0.029730404,0.0073773814</td>\n",
       "    </tr>\n",
       "    <tr>\n",
       "      <td>1</td>\n",
       "      <td>SNPID_73</td>\n",
       "      <td>0.255571</td>\n",
       "      <td>0.0073773814,0.029730404,0.96289223</td>\n",
       "    </tr>\n",
       "    <tr>\n",
       "      <td>1</td>\n",
       "      <td>SNPID_193</td>\n",
       "      <td>0.288233</td>\n",
       "      <td>0.0066580246,0.03753765,0.95580435</td>\n",
       "    </tr>\n",
       "  </tbody>\n",
       "</table>\n",
       "</div>"
      ],
      "text/plain": [
       "         sid  shannon2                             meandist\n",
       "7  SNPID_129  0.157309  0.97979075,0.016114073,0.0040951488\n",
       "7   SNPID_29  0.157309  0.0040951488,0.016114073,0.97979075\n",
       "1  SNPID_173  0.255571  0.96289223,0.029730404,0.0073773814\n",
       "1   SNPID_73  0.255571  0.0073773814,0.029730404,0.96289223\n",
       "1  SNPID_193  0.288233   0.0066580246,0.03753765,0.95580435"
      ]
     },
     "execution_count": 74,
     "metadata": {},
     "output_type": "execute_result"
    }
   ],
   "source": [
    "import numpy as np\n",
    "import pandas as pd\n",
    "from pysnptools.distreader import Bgen\n",
    "\n",
    "bgen3 = Bgen('example.bgen',sid_function='id') #Create a Bgen reader, named 'bgen3'. Use the SNP id, ignore the RSID\n",
    "batch_size = 10\n",
    "df_list = []\n",
    "for start in range(0,bgen3.sid_count,batch_size): #Start every 10th SNP\n",
    "    distdata3 = bgen3[:,start:start+batch_size].read(dtype='float32')# Read batches of no more than 10 as a Numpy float32 array\n",
    "    print(distdata3)  \n",
    "    #Find the mean distribution for each SNP\n",
    "    meandist = np.nanmean(distdata3.val,axis=0) #axis0 is iid, axis1 is SNP, axis3 is allele count\n",
    "    meandist_as_string = [','.join(row) for row in meandist.astype('str')]\n",
    "    shannon2 = -np.sum(meandist*np.log2(meandist),axis=1) #compute the entropy of each distribution\n",
    "    #Create a Pandas dataframe of results\n",
    "    df_list.append(pd.DataFrame({'sid':distdata3.sid,'shannon2':shannon2,'meandist':meandist_as_string}))\n",
    "#Merge each batches Pandas dataframe, sort, and list the 5 most skewed SNPs    \n",
    "df = pd.concat(df_list)\n",
    "df.sort_values('shannon2',inplace=True)\n",
    "df[:5]"
   ]
  },
  {
   "cell_type": "code",
   "execution_count": 76,
   "metadata": {},
   "outputs": [
    {
     "data": {
      "text/html": [
       "<div>\n",
       "<style scoped>\n",
       "    .dataframe tbody tr th:only-of-type {\n",
       "        vertical-align: middle;\n",
       "    }\n",
       "\n",
       "    .dataframe tbody tr th {\n",
       "        vertical-align: top;\n",
       "    }\n",
       "\n",
       "    .dataframe thead th {\n",
       "        text-align: right;\n",
       "    }\n",
       "</style>\n",
       "<table border=\"1\" class=\"dataframe\">\n",
       "  <thead>\n",
       "    <tr style=\"text-align: right;\">\n",
       "      <th></th>\n",
       "      <th>sid</th>\n",
       "      <th>shannon2</th>\n",
       "      <th>meandist</th>\n",
       "    </tr>\n",
       "  </thead>\n",
       "  <tbody>\n",
       "    <tr>\n",
       "      <td>7</td>\n",
       "      <td>SNPID_79</td>\n",
       "      <td>1.513786</td>\n",
       "      <td>0.24601659,0.4847949,0.26918846</td>\n",
       "    </tr>\n",
       "    <tr>\n",
       "      <td>5</td>\n",
       "      <td>SNPID_57</td>\n",
       "      <td>1.519135</td>\n",
       "      <td>0.27145734,0.47892186,0.24962077</td>\n",
       "    </tr>\n",
       "    <tr>\n",
       "      <td>5</td>\n",
       "      <td>SNPID_157</td>\n",
       "      <td>1.519136</td>\n",
       "      <td>0.24962077,0.47892186,0.27145734</td>\n",
       "    </tr>\n",
       "    <tr>\n",
       "      <td>5</td>\n",
       "      <td>SNPID_37</td>\n",
       "      <td>1.528185</td>\n",
       "      <td>0.21882463,0.44508588,0.33608952</td>\n",
       "    </tr>\n",
       "    <tr>\n",
       "      <td>5</td>\n",
       "      <td>SNPID_137</td>\n",
       "      <td>1.528185</td>\n",
       "      <td>0.33608952,0.44508588,0.21882463</td>\n",
       "    </tr>\n",
       "  </tbody>\n",
       "</table>\n",
       "</div>"
      ],
      "text/plain": [
       "         sid  shannon2                          meandist\n",
       "7   SNPID_79  1.513786   0.24601659,0.4847949,0.26918846\n",
       "5   SNPID_57  1.519135  0.27145734,0.47892186,0.24962077\n",
       "5  SNPID_157  1.519136  0.24962077,0.47892186,0.27145734\n",
       "5   SNPID_37  1.528185  0.21882463,0.44508588,0.33608952\n",
       "5  SNPID_137  1.528185  0.33608952,0.44508588,0.21882463"
      ]
     },
     "execution_count": 76,
     "metadata": {},
     "output_type": "execute_result"
    }
   ],
   "source": [
    "#Here are 5 most even distributions\n",
    "df[-5:]"
   ]
  },
  {
   "cell_type": "markdown",
   "metadata": {},
   "source": [
    "# How fast does Bgen read?\n",
    "\n",
    "The PySnpTool's Bgen reader is built on Danilo Horta's Bgen-reader-py package. On top of that, the PySnpTool Bgen reader adds a layer of caching for iid, sid, and pos information that, after the first time a file is read, speeds up the start of reading.\n",
    "\n",
    "Currently, on my machine, with 1000 individuals, Bgen can read from about 100 SNPs per second, so about 100,000 3-value distribtions per second. When the number of individuals goes to 250,000, Bgen reads about 1 million 3-value distributions per second. (This means that on my machine, reading distribution data for 500,000 individuals and 5 million SNPs would take about 30 days.\n",
    "\n",
    "I shared some random large-data test Bgen files with Danilo. He is now working on a new version of Bgen-reader-py that will have a quicker start up time and other improvements. When his new version is ready, I'll update PySnpTools."
   ]
  },
  {
   "cell_type": "markdown",
   "metadata": {},
   "source": [
    "# Can PySnpTools write Bgen files?\n",
    "\n",
    "Yes, kind of. But you must install a 3rd party program and set an environment variable.\n",
    "\n",
    "> To write BGEN files, install QCTool from https://www.well.ox.ac.uk/~gav/qctool/\n",
    "\n",
    "> Set your QCTOOLPATH environment variable to the tool."
   ]
  },
  {
   "cell_type": "code",
   "execution_count": 91,
   "metadata": {},
   "outputs": [
    {
     "data": {
      "text/plain": [
       "'/mnt/m/qctool/build/release/qctool_v2.0.7'"
      ]
     },
     "execution_count": 91,
     "metadata": {},
     "output_type": "execute_result"
    }
   ],
   "source": [
    "import os\n",
    "if os.environ.get('QCTOOLPATH') is None:\n",
    "    print(\"To write BGEN files, install QCTool from https://www.well.ox.ac.uk/~gav/qctool/\")\n",
    "    print(\"Set your QCTOOLPATH environment variable to the tool.\")\n",
    "os.environ['QCTOOLPATH']"
   ]
  },
  {
   "cell_type": "markdown",
   "metadata": {},
   "source": [
    " With that installed (you may need to re-start this notebook), you can write BGEN files.\n",
    " \n",
    " Suppose we wish to write the first 10 SNPs to the example.bgen file to disk as example10.bgen.\n",
    " \n",
    " This example prints the size of the original exmaple.bgen file and then it creates example10.bgen and prints that size. "
   ]
  },
  {
   "cell_type": "code",
   "execution_count": 92,
   "metadata": {},
   "outputs": [
    {
     "name": "stderr",
     "output_type": "stream",
     "text": [
      "WARNING:root:Opening a file again, but its creation date has changed See https://github.com/limix/bgen-reader-py/issues/25. File \"example.bgen\"\n"
     ]
    },
    {
     "name": "stdout",
     "output_type": "stream",
     "text": [
      "665108\n",
      "30262\n",
      "Bgen('example10.bgen')\n"
     ]
    }
   ],
   "source": [
    "from pysnptools.distreader import Bgen\n",
    "import os\n",
    "print(os.path.getsize('example.bgen'))\n",
    "example = Bgen('example.bgen') # a Bgen reader for the whole file\n",
    "# create a reader for the subset of the file with all the individuals and the first 10 SNPs\n",
    "# write that to a file\n",
    "example10 = Bgen.write('example10.bgen',example[:,:10],bits=23)\n",
    "print(os.path.getsize('example10.bgen'))\n",
    "print(example10)"
   ]
  },
  {
   "cell_type": "markdown",
   "metadata": {},
   "source": [
    "Behind the scenes the 'write' method is generatating a text-based *.gen file and then using QCTool to convert *.gen to *.bgen. The 'bits' option is the number of bits used to represent each probability in the distribution. The number ranges from 1 to 32.\n",
    "\n",
    "* 1 - can only presesent probabilities of 0.0 and 1.0\n",
    "* 8 - how UK Biobank writes their data (according to https://bitbucket.org/gavinband/bgen/wiki/BGEN_in_the_UK_Biobank)\n",
    "* 16 - the default\n",
    "* 23 - full resolution for Numpy float32\n",
    "* 32 - the maximum\n",
    "* (52) - The not-allowed value that would be full resolution for Numpy float64."
   ]
  },
  {
   "cell_type": "markdown",
   "metadata": {},
   "source": [
    "# DistData, an In-Memory DistReader\n",
    "\n",
    "When we read from a Bgen, the result is a DistData object that contains an iid, sid, pos, and NumPy val (with dimensions iid_count * sid_count * 3), where iid is the list of individuals, sid is the list of SNPs, and pos is an array of position information for each SNP.\n",
    "\n",
    "We can also create a DistData object from scratch. For example,"
   ]
  },
  {
   "cell_type": "code",
   "execution_count": 102,
   "metadata": {},
   "outputs": [
    {
     "data": {
      "text/plain": [
       "DistData(in-memory sample)"
      ]
     },
     "execution_count": 102,
     "metadata": {},
     "output_type": "execute_result"
    }
   ],
   "source": [
    "import numpy as np\n",
    "from pysnptools.distreader import DistData\n",
    "\n",
    "iid = [('0','iid0'),('0','iid1')]\n",
    "sid = ['snp0','snp1','snp2']\n",
    "pos = [[1,0,1],[1,0,2],[1,0,3]] #chromosome, genetic distance, basepair distance\n",
    "val = np.array([[[0,0,1],[.5,.25,.25],[.95,.05,0]],\n",
    "                [[1,0,0],[50,50,50],[np.nan,np.nan,np.nan]]\n",
    "               ],dtype='float32')\n",
    "distdata = DistData(iid=iid,sid=sid,pos=pos,val=val,name='in-memory sample')\n",
    "distdata"
   ]
  },
  {
   "cell_type": "markdown",
   "metadata": {},
   "source": [
    "Two things to note:\n",
    "* Missing data is represented as [np.nan,np.nan,np.nan]\n",
    "* The values do not need to be proper, normalized probability distributions, so [50,50,50] is fine.\n",
    "\n",
    "We can extract the usual info."
   ]
  },
  {
   "cell_type": "code",
   "execution_count": 103,
   "metadata": {},
   "outputs": [
    {
     "name": "stdout",
     "output_type": "stream",
     "text": [
      "(2, 3)\n",
      "[['0' 'iid0']\n",
      " ['0' 'iid1']]\n",
      "['snp0' 'snp1' 'snp2']\n",
      "[[1 0 1]\n",
      " [1 0 2]\n",
      " [1 0 3]]\n",
      "[[[ 0.    0.    1.  ]\n",
      "  [ 0.5   0.25  0.25]\n",
      "  [ 0.95  0.05  0.  ]]\n",
      "\n",
      " [[ 1.    0.    0.  ]\n",
      "  [50.   50.   50.  ]\n",
      "  [  nan   nan   nan]]]\n"
     ]
    }
   ],
   "source": [
    "print(distdata.shape)\n",
    "print(distdata.iid)\n",
    "print(distdata.sid)\n",
    "print(distdata.pos)\n",
    "print(distdata.val)"
   ]
  },
  {
   "cell_type": "markdown",
   "metadata": {},
   "source": [
    "The library doesn't currently have a way to normalize the distributions (make them add up to 1), but this bit of code does the trick:"
   ]
  },
  {
   "cell_type": "code",
   "execution_count": 107,
   "metadata": {},
   "outputs": [
    {
     "data": {
      "text/plain": [
       "array([[[0.        , 0.        , 1.        ],\n",
       "        [0.5       , 0.25      , 0.25      ],\n",
       "        [0.95      , 0.05      , 0.        ]],\n",
       "\n",
       "       [[1.        , 0.        , 0.        ],\n",
       "        [0.33333334, 0.33333334, 0.33333334],\n",
       "        [       nan,        nan,        nan]]], dtype=float32)"
      ]
     },
     "execution_count": 107,
     "metadata": {},
     "output_type": "execute_result"
    }
   ],
   "source": [
    "distdata.val /= distdata.val.sum(axis=2,keepdims=True)\n",
    "distdata.val"
   ]
  },
  {
   "cell_type": "markdown",
   "metadata": {},
   "source": [
    "We can write a DistData to Bgen format. When we read it back, the numbers change slightly because Bgen rounds number different than NumPy."
   ]
  },
  {
   "cell_type": "code",
   "execution_count": 111,
   "metadata": {},
   "outputs": [
    {
     "name": "stderr",
     "output_type": "stream",
     "text": [
      "WARNING:root:Opening a file again, but its creation date has changed See https://github.com/limix/bgen-reader-py/issues/25. File \"2x3sample.bgen\"\n"
     ]
    },
    {
     "data": {
      "text/plain": [
       "array([[[0.        , 0.        , 1.        ],\n",
       "        [0.49999994, 0.25000003, 0.25000003],\n",
       "        [0.95000005, 0.04999996, 0.        ]],\n",
       "\n",
       "       [[1.        , 0.        , 0.        ],\n",
       "        [0.3333334 , 0.33333328, 0.33333328],\n",
       "        [       nan,        nan,        nan]]], dtype=float32)"
      ]
     },
     "execution_count": 111,
     "metadata": {},
     "output_type": "execute_result"
    }
   ],
   "source": [
    "from pysnptools.distreader import Bgen\n",
    "\n",
    "bgen = Bgen.write('2x3sample.bgen',distdata,bits=23) #write it\n",
    "\n",
    "bgen.read(dtype='float32').val #Read the data from disk"
   ]
  },
  {
   "cell_type": "markdown",
   "metadata": {},
   "source": [
    "# Fancy Reads\n",
    "\n",
    "All the PySnpTools provide nice ways to read just the data you want. For example, first first or last individuals or SNPs. Every 20th SNP, just named SNPs, etc. Here are some examples."
   ]
  },
  {
   "cell_type": "code",
   "execution_count": 113,
   "metadata": {},
   "outputs": [],
   "source": [
    "from pysnptools.distreader import Bgen\n",
    "example = Bgen('example.bgen',sid_function='id') #Create a reader"
   ]
  },
  {
   "cell_type": "markdown",
   "metadata": {},
   "source": [
    "Read the 1st 10 individuals, first 5 SNPs, both, and then the last"
   ]
  },
  {
   "cell_type": "code",
   "execution_count": 119,
   "metadata": {},
   "outputs": [
    {
     "name": "stdout",
     "output_type": "stream",
     "text": [
      "[['0' 'sample_001']\n",
      " ['0' 'sample_002']\n",
      " ['0' 'sample_003']\n",
      " ['0' 'sample_004']\n",
      " ['0' 'sample_005']\n",
      " ['0' 'sample_006']\n",
      " ['0' 'sample_007']\n",
      " ['0' 'sample_008']\n",
      " ['0' 'sample_009']\n",
      " ['0' 'sample_010']]\n"
     ]
    },
    {
     "data": {
      "text/plain": [
       "(10, 199, 3)"
      ]
     },
     "execution_count": 119,
     "metadata": {},
     "output_type": "execute_result"
    }
   ],
   "source": [
    "distdata10i = example[:10,:].read(dtype='float32') # read just first 10 individuals across all SNPs\n",
    "print(distdata10i.iid) #Print the iids\n",
    "distdata10i.val.shape #Print the shape of the numpy array"
   ]
  },
  {
   "cell_type": "code",
   "execution_count": 120,
   "metadata": {},
   "outputs": [
    {
     "name": "stdout",
     "output_type": "stream",
     "text": [
      "['SNPID_2' 'SNPID_3' 'SNPID_4' 'SNPID_5' 'SNPID_6']\n"
     ]
    },
    {
     "data": {
      "text/plain": [
       "(500, 5, 3)"
      ]
     },
     "execution_count": 120,
     "metadata": {},
     "output_type": "execute_result"
    }
   ],
   "source": [
    "distdata5s = example[:,:5].read(dtype='float32') # read all individuals from just first 5 SNPs\n",
    "print(distdata5s.sid) #Print the sids\n",
    "distdata5s.val.shape #Print the shape of the numpy array"
   ]
  },
  {
   "cell_type": "code",
   "execution_count": 122,
   "metadata": {},
   "outputs": [
    {
     "name": "stdout",
     "output_type": "stream",
     "text": [
      "[['0' 'sample_001']\n",
      " ['0' 'sample_002']\n",
      " ['0' 'sample_003']\n",
      " ['0' 'sample_004']\n",
      " ['0' 'sample_005']\n",
      " ['0' 'sample_006']\n",
      " ['0' 'sample_007']\n",
      " ['0' 'sample_008']\n",
      " ['0' 'sample_009']\n",
      " ['0' 'sample_010']]\n",
      "['SNPID_2' 'SNPID_3' 'SNPID_4' 'SNPID_5' 'SNPID_6']\n"
     ]
    },
    {
     "data": {
      "text/plain": [
       "(10, 5, 3)"
      ]
     },
     "execution_count": 122,
     "metadata": {},
     "output_type": "execute_result"
    }
   ],
   "source": [
    "distdata10i5s = example[:10,:5].read(dtype='float32') # read 1st 10 individuals from just first 5 SNPs\n",
    "print(distdata10i5s.iid) #Print the iids\n",
    "print(distdata10i5s.sid) #Print the sids\n",
    "distdata10i5s.val.shape #print the shape of the numpy array"
   ]
  },
  {
   "cell_type": "code",
   "execution_count": 127,
   "metadata": {},
   "outputs": [
    {
     "name": "stdout",
     "output_type": "stream",
     "text": [
      "[['0' 'sample_491']\n",
      " ['0' 'sample_492']\n",
      " ['0' 'sample_493']\n",
      " ['0' 'sample_494']\n",
      " ['0' 'sample_495']\n",
      " ['0' 'sample_496']\n",
      " ['0' 'sample_497']\n",
      " ['0' 'sample_498']\n",
      " ['0' 'sample_499']\n",
      " ['0' 'sample_500']]\n",
      "['SNPID_196' 'SNPID_197' 'SNPID_198' 'SNPID_199' 'SNPID_200']\n"
     ]
    },
    {
     "data": {
      "text/plain": [
       "(10, 5, 3)"
      ]
     },
     "execution_count": 127,
     "metadata": {},
     "output_type": "execute_result"
    }
   ],
   "source": [
    "distdata_last10i5s = example[-10:,-5:].read(dtype='float32') # read last 10 individuals from just last 5 SNPs\n",
    "print(distdata_last10i5s.iid) #Print the iids\n",
    "print(distdata_last10i5s.sid) #Print the sids\n",
    "distdata_last10i5s.val.shape #print the shape of the numpy array"
   ]
  },
  {
   "cell_type": "markdown",
   "metadata": {},
   "source": [
    "Here is how we read every 25th SNP."
   ]
  },
  {
   "cell_type": "code",
   "execution_count": 128,
   "metadata": {},
   "outputs": [
    {
     "name": "stdout",
     "output_type": "stream",
     "text": [
      "['SNPID_2' 'SNPID_22' 'SNPID_42' 'SNPID_62' 'SNPID_82' 'SNPID_102'\n",
      " 'SNPID_122' 'SNPID_142' 'SNPID_162' 'SNPID_182']\n"
     ]
    },
    {
     "data": {
      "text/plain": [
       "(500, 10, 3)"
      ]
     },
     "execution_count": 128,
     "metadata": {},
     "output_type": "execute_result"
    }
   ],
   "source": [
    "distdata_every25s = example[:,::25].read(dtype='float32') # read all individuals every 100th SNP\n",
    "print(distdata_every50s.sid) #Print the sids\n",
    "distdata_every50s.val.shape #Print the shape of the numpy array"
   ]
  },
  {
   "cell_type": "markdown",
   "metadata": {},
   "source": [
    "We can read named SNPs"
   ]
  },
  {
   "cell_type": "code",
   "execution_count": 132,
   "metadata": {},
   "outputs": [
    {
     "name": "stdout",
     "output_type": "stream",
     "text": [
      "['SNPID_22' 'SNPID_122' 'SNPID_2']\n"
     ]
    },
    {
     "data": {
      "text/plain": [
       "(500, 3, 3)"
      ]
     },
     "execution_count": 132,
     "metadata": {},
     "output_type": "execute_result"
    }
   ],
   "source": [
    "sid_list = ['SNPID_22','SNPID_122','SNPID_2']\n",
    "distdata_2s = example[:,example.sid_to_index(sid_list)].read(dtype='float32') # read the listed SNPs\n",
    "print(distdata_2s.sid) #Print the sids\n",
    "distdata_2s.val.shape #print the shape of the numpy array"
   ]
  },
  {
   "cell_type": "markdown",
   "metadata": {},
   "source": [
    "In addition, DistReader can be indexed by a list of index numbers or a list of Booleans. It is fine to \"stack\" such indexing. In every case, the final read will (to the degree possible) only read the final data requested.\n",
    "\n",
    "For example, here in one line, we selected a file, select every 2nd individual and every 25th SNP, and then select\n",
    "individuals by number and SNPs with a Boolean array, and then read and show the NumPy array."
   ]
  },
  {
   "cell_type": "code",
   "execution_count": 137,
   "metadata": {},
   "outputs": [
    {
     "name": "stderr",
     "output_type": "stream",
     "text": [
      "WARNING:root:Opening a file again, but its creation date has changed See https://github.com/limix/bgen-reader-py/issues/25. File \"example.bgen\"\n"
     ]
    },
    {
     "data": {
      "text/plain": [
       "array([[[2.2027607e-01, 7.4981719e-02, 7.0474219e-01],\n",
       "        [3.7230279e-03, 6.0117790e-03, 9.9026519e-01],\n",
       "        [9.9026519e-01, 6.0117790e-03, 3.7230279e-03]],\n",
       "\n",
       "       [[3.6285423e-02, 7.8558350e-01, 1.7813110e-01],\n",
       "        [1.7882757e-02, 1.8309942e-04, 9.8193413e-01],\n",
       "        [9.8193413e-01, 1.8309942e-04, 1.7882757e-02]],\n",
       "\n",
       "       [[1.1596701e-03, 6.5612802e-03, 9.9227905e-01],\n",
       "        [2.2156473e-02, 9.5220792e-01, 2.5635580e-02],\n",
       "        [2.5635580e-02, 9.5220792e-01, 2.2156473e-02]],\n",
       "\n",
       "       [[1.0857865e-01, 8.6313242e-01, 2.8288929e-02],\n",
       "        [1.8127393e-02, 1.0497996e-02, 9.7137463e-01],\n",
       "        [9.7137463e-01, 1.0497996e-02, 1.8127393e-02]]], dtype=float32)"
      ]
     },
     "execution_count": 137,
     "metadata": {},
     "output_type": "execute_result"
    }
   ],
   "source": [
    "from pysnptools.distreader import Bgen\n",
    "Bgen('example.bgen',sid_function='id')[::2,::25][[1,2,4,8],[False,False,True,True,False,False,False,True,False]].read(dtype='float32').val"
   ]
  },
  {
   "cell_type": "markdown",
   "metadata": {},
   "source": [
    "# Distributions to Expected Values and Bed Data to Distributions\n",
    "\n",
    "We've seen that a DistReader produces a 3-value probability distribution for every individual and SNP.\n",
    "We can turn those 3-value distributions into a single expected value with the 'as_snp' method."
   ]
  },
  {
   "cell_type": "code",
   "execution_count": 164,
   "metadata": {},
   "outputs": [
    {
     "name": "stderr",
     "output_type": "stream",
     "text": [
      "WARNING:root:Opening a file again, but its creation date has changed See https://github.com/limix/bgen-reader-py/issues/25. File \"example.bgen\"\n"
     ]
    },
    {
     "data": {
      "text/plain": [
       "array([[[       nan,        nan,        nan],\n",
       "        [0.00506592, 0.0020752 , 0.9928589 ]],\n",
       "\n",
       "       [[0.02780236, 0.00863674, 0.9635609 ],\n",
       "        [0.00964355, 0.00268555, 0.9876709 ]]], dtype=float32)"
      ]
     },
     "execution_count": 164,
     "metadata": {},
     "output_type": "execute_result"
    }
   ],
   "source": [
    "from pysnptools.distreader import Bgen\n",
    "distreader = Bgen('example.bgen',sid_function='id')\n",
    "distreader[:2,:2].read(dtype='float32').val\n",
    "#!!!cmk fix message over often"
   ]
  },
  {
   "cell_type": "code",
   "execution_count": 146,
   "metadata": {},
   "outputs": [
    {
     "data": {
      "text/plain": [
       "array([[       nan, 1.987793  , 0.01550294],\n",
       "       [1.9357585 , 1.9780273 , 0.99383545]], dtype=float32)"
      ]
     },
     "execution_count": 146,
     "metadata": {},
     "output_type": "execute_result"
    }
   ],
   "source": [
    "snpreader = distreader.as_snp()\n",
    "snpreader[:2,:3].read(dtype='float32').val"
   ]
  },
  {
   "cell_type": "markdown",
   "metadata": {},
   "source": [
    "By default, the expected values will range from 0 to 2, but you can change that to, for example, a range of 0 to 1"
   ]
  },
  {
   "cell_type": "code",
   "execution_count": 148,
   "metadata": {},
   "outputs": [
    {
     "data": {
      "text/plain": [
       "array([[       nan, 0.9938965 , 0.00775147],\n",
       "       [0.96787924, 0.9890137 , 0.49691772]], dtype=float32)"
      ]
     },
     "execution_count": 148,
     "metadata": {},
     "output_type": "execute_result"
    }
   ],
   "source": [
    "snpreader1 = distreader.as_snp(max_weight=1)\n",
    "snpreader1[:2,:3].read(dtype='float32').val"
   ]
  },
  {
   "cell_type": "markdown",
   "metadata": {},
   "source": [
    "We can also go in the opposite direction in a way. First, let's download some Bed data."
   ]
  },
  {
   "cell_type": "code",
   "execution_count": null,
   "metadata": {},
   "outputs": [],
   "source": [
    "from bgen_reader import download\n",
    "download(\"https://github.com/fastlmm/PySnpTools/raw/master/pysnptools/examples/toydata.bed\")\n",
    "download(\"https://github.com/fastlmm/PySnpTools/raw/master/pysnptools/examples/toydata.bim\")\n",
    "download(\"https://github.com/fastlmm/PySnpTools/raw/master/pysnptools/examples/toydata.fam\")"
   ]
  },
  {
   "cell_type": "code",
   "execution_count": 7,
   "metadata": {},
   "outputs": [
    {
     "name": "stdout",
     "output_type": "stream",
     "text": [
      "(500, 10000)\n",
      "[['per0' 'per0']\n",
      " ['per1' 'per1']\n",
      " ['per2' 'per2']\n",
      " ['per3' 'per3']\n",
      " ['per4' 'per4']]\n",
      "[[1 0 1]\n",
      " [1 0 2]\n",
      " [1 0 3]\n",
      " [1 0 4]\n",
      " [1 0 5]]\n"
     ]
    }
   ],
   "source": [
    "from pysnptools.snpreader import Bed\n",
    "bed = Bed('toydata.bed',count_A1=True)\n",
    "print(bed.shape)   #print the # of individuals and # of SNPs\n",
    "print(bed.iid[:5]) #print 1st 5 individuals\n",
    "print(bed.pos[:5]) #print 1st chrom and position info for the 1st 5 SNPs"
   ]
  },
  {
   "cell_type": "code",
   "execution_count": 9,
   "metadata": {},
   "outputs": [
    {
     "ename": "Exception",
     "evalue": "dtype 'float32' not known, only float64 and float32",
     "output_type": "error",
     "traceback": [
      "\u001b[0;31m---------------------------------------------------------------------------\u001b[0m",
      "\u001b[0;31mException\u001b[0m                                 Traceback (most recent call last)",
      "\u001b[0;32m<ipython-input-9-ba074f5e0495>\u001b[0m in \u001b[0;36m<module>\u001b[0;34m\u001b[0m\n\u001b[0;32m----> 1\u001b[0;31m \u001b[0mbed\u001b[0m\u001b[0;34m[\u001b[0m\u001b[0;34m:\u001b[0m\u001b[0;36m3\u001b[0m\u001b[0;34m,\u001b[0m\u001b[0;34m:\u001b[0m\u001b[0;36m2\u001b[0m\u001b[0;34m]\u001b[0m\u001b[0;34m.\u001b[0m\u001b[0mread\u001b[0m\u001b[0;34m(\u001b[0m\u001b[0mdtype\u001b[0m\u001b[0;34m=\u001b[0m\u001b[0;34m'float32'\u001b[0m\u001b[0;34m)\u001b[0m\u001b[0;34m.\u001b[0m\u001b[0mval\u001b[0m\u001b[0;34m\u001b[0m\u001b[0;34m\u001b[0m\u001b[0m\n\u001b[0m\u001b[1;32m      2\u001b[0m \u001b[0;31m#bed[:3,:2].read(dtype=np.float32).val\u001b[0m\u001b[0;34m\u001b[0m\u001b[0;34m\u001b[0m\u001b[0;34m\u001b[0m\u001b[0m\n",
      "\u001b[0;32m~/anaconda3/envs/dist/lib/python3.7/site-packages/pysnptools/snpreader/snpreader.py\u001b[0m in \u001b[0;36mread\u001b[0;34m(self, order, dtype, force_python_only, view_ok)\u001b[0m\n\u001b[1;32m    455\u001b[0m         \u001b[0;31m# print np.may_share_memory(subset_snpdata.val, subsub_snpdata.val) # Do the two ndarray's share memory? They could. Currently they won't.\u001b[0m\u001b[0;34m\u001b[0m\u001b[0;34m\u001b[0m\u001b[0;34m\u001b[0m\u001b[0m\n\u001b[1;32m    456\u001b[0m         \"\"\"\n\u001b[0;32m--> 457\u001b[0;31m         \u001b[0mval\u001b[0m \u001b[0;34m=\u001b[0m \u001b[0mself\u001b[0m\u001b[0;34m.\u001b[0m\u001b[0m_read\u001b[0m\u001b[0;34m(\u001b[0m\u001b[0;32mNone\u001b[0m\u001b[0;34m,\u001b[0m \u001b[0;32mNone\u001b[0m\u001b[0;34m,\u001b[0m \u001b[0morder\u001b[0m\u001b[0;34m,\u001b[0m \u001b[0mdtype\u001b[0m\u001b[0;34m,\u001b[0m \u001b[0mforce_python_only\u001b[0m\u001b[0;34m,\u001b[0m \u001b[0mview_ok\u001b[0m\u001b[0;34m)\u001b[0m\u001b[0;34m\u001b[0m\u001b[0;34m\u001b[0m\u001b[0m\n\u001b[0m\u001b[1;32m    458\u001b[0m         \u001b[0;32mfrom\u001b[0m \u001b[0mpysnptools\u001b[0m\u001b[0;34m.\u001b[0m\u001b[0msnpreader\u001b[0m \u001b[0;32mimport\u001b[0m \u001b[0mSnpData\u001b[0m\u001b[0;34m\u001b[0m\u001b[0;34m\u001b[0m\u001b[0m\n\u001b[1;32m    459\u001b[0m         \u001b[0mret\u001b[0m \u001b[0;34m=\u001b[0m \u001b[0mSnpData\u001b[0m\u001b[0;34m(\u001b[0m\u001b[0mself\u001b[0m\u001b[0;34m.\u001b[0m\u001b[0miid\u001b[0m\u001b[0;34m,\u001b[0m\u001b[0mself\u001b[0m\u001b[0;34m.\u001b[0m\u001b[0msid\u001b[0m\u001b[0;34m,\u001b[0m\u001b[0mval\u001b[0m\u001b[0;34m,\u001b[0m\u001b[0mpos\u001b[0m\u001b[0;34m=\u001b[0m\u001b[0mself\u001b[0m\u001b[0;34m.\u001b[0m\u001b[0mpos\u001b[0m\u001b[0;34m,\u001b[0m\u001b[0mname\u001b[0m\u001b[0;34m=\u001b[0m\u001b[0mstr\u001b[0m\u001b[0;34m(\u001b[0m\u001b[0mself\u001b[0m\u001b[0;34m)\u001b[0m\u001b[0;34m)\u001b[0m\u001b[0;34m\u001b[0m\u001b[0;34m\u001b[0m\u001b[0m\n",
      "\u001b[0;32m~/anaconda3/envs/dist/lib/python3.7/site-packages/pysnptools/pstreader/_subset.py\u001b[0m in \u001b[0;36m_read\u001b[0;34m(self, row_indexer, col_indexer, order, dtype, force_python_only, view_ok)\u001b[0m\n\u001b[1;32m     67\u001b[0m             \u001b[0mcol_index_or_none\u001b[0m \u001b[0;34m=\u001b[0m \u001b[0mPstReader\u001b[0m\u001b[0;34m.\u001b[0m\u001b[0m_make_sparray_from_sparray_or_slice\u001b[0m\u001b[0;34m(\u001b[0m\u001b[0mself\u001b[0m\u001b[0;34m.\u001b[0m\u001b[0mcol_count\u001b[0m\u001b[0;34m,\u001b[0m \u001b[0mcol_indexer\u001b[0m\u001b[0;34m)\u001b[0m\u001b[0;34m\u001b[0m\u001b[0;34m\u001b[0m\u001b[0m\n\u001b[1;32m     68\u001b[0m             \u001b[0mcomposed_col_index_or_none\u001b[0m \u001b[0;34m=\u001b[0m \u001b[0m_PstSubset\u001b[0m\u001b[0;34m.\u001b[0m\u001b[0mcompose_indexer_with_index_or_none\u001b[0m\u001b[0;34m(\u001b[0m\u001b[0mself\u001b[0m\u001b[0;34m.\u001b[0m\u001b[0m_internal\u001b[0m\u001b[0;34m.\u001b[0m\u001b[0mcol_count\u001b[0m\u001b[0;34m,\u001b[0m \u001b[0mself\u001b[0m\u001b[0;34m.\u001b[0m\u001b[0m_col_indexer\u001b[0m\u001b[0;34m,\u001b[0m \u001b[0mself\u001b[0m\u001b[0;34m.\u001b[0m\u001b[0mcol_count\u001b[0m\u001b[0;34m,\u001b[0m \u001b[0mcol_index_or_none\u001b[0m\u001b[0;34m)\u001b[0m\u001b[0;34m\u001b[0m\u001b[0;34m\u001b[0m\u001b[0m\n\u001b[0;32m---> 69\u001b[0;31m             \u001b[0mval\u001b[0m \u001b[0;34m=\u001b[0m \u001b[0mself\u001b[0m\u001b[0;34m.\u001b[0m\u001b[0m_internal\u001b[0m\u001b[0;34m.\u001b[0m\u001b[0m_read\u001b[0m\u001b[0;34m(\u001b[0m\u001b[0mcomposed_row_index_or_none\u001b[0m\u001b[0;34m,\u001b[0m \u001b[0mcomposed_col_index_or_none\u001b[0m\u001b[0;34m,\u001b[0m \u001b[0morder\u001b[0m\u001b[0;34m,\u001b[0m \u001b[0mdtype\u001b[0m\u001b[0;34m,\u001b[0m \u001b[0mforce_python_only\u001b[0m\u001b[0;34m,\u001b[0m \u001b[0mview_ok\u001b[0m\u001b[0;34m)\u001b[0m\u001b[0;34m\u001b[0m\u001b[0;34m\u001b[0m\u001b[0m\n\u001b[0m\u001b[1;32m     70\u001b[0m             \u001b[0;32mreturn\u001b[0m \u001b[0mval\u001b[0m\u001b[0;34m\u001b[0m\u001b[0;34m\u001b[0m\u001b[0m\n\u001b[1;32m     71\u001b[0m \u001b[0;34m\u001b[0m\u001b[0m\n",
      "\u001b[0;32m~/anaconda3/envs/dist/lib/python3.7/site-packages/pysnptools/snpreader/bed.py\u001b[0m in \u001b[0;36m_read\u001b[0;34m(self, iid_index_or_none, sid_index_or_none, order, dtype, force_python_only, view_ok)\u001b[0m\n\u001b[1;32m    263\u001b[0m                         \u001b[0;32mraise\u001b[0m \u001b[0mException\u001b[0m\u001b[0;34m(\u001b[0m\u001b[0;34m\"order '{0}' not known, only 'F' and 'C'\"\u001b[0m\u001b[0;34m.\u001b[0m\u001b[0mformat\u001b[0m\u001b[0;34m(\u001b[0m\u001b[0morder\u001b[0m\u001b[0;34m)\u001b[0m\u001b[0;34m)\u001b[0m\u001b[0;34m;\u001b[0m\u001b[0;34m\u001b[0m\u001b[0;34m\u001b[0m\u001b[0m\n\u001b[1;32m    264\u001b[0m                 \u001b[0;32melse\u001b[0m\u001b[0;34m:\u001b[0m\u001b[0;34m\u001b[0m\u001b[0;34m\u001b[0m\u001b[0m\n\u001b[0;32m--> 265\u001b[0;31m                     \u001b[0;32mraise\u001b[0m \u001b[0mException\u001b[0m\u001b[0;34m(\u001b[0m\u001b[0;34m\"dtype '{0}' not known, only float64 and float32\"\u001b[0m\u001b[0;34m.\u001b[0m\u001b[0mformat\u001b[0m\u001b[0;34m(\u001b[0m\u001b[0mdtype\u001b[0m\u001b[0;34m)\u001b[0m\u001b[0;34m)\u001b[0m\u001b[0;34m\u001b[0m\u001b[0;34m\u001b[0m\u001b[0m\n\u001b[0m\u001b[1;32m    266\u001b[0m \u001b[0;34m\u001b[0m\u001b[0m\n\u001b[1;32m    267\u001b[0m         \u001b[0;32melse\u001b[0m\u001b[0;34m:\u001b[0m\u001b[0;34m\u001b[0m\u001b[0;34m\u001b[0m\u001b[0m\n",
      "\u001b[0;31mException\u001b[0m: dtype 'float32' not known, only float64 and float32"
     ]
    }
   ],
   "source": [
    "bed[:3,:2].read(dtype='float32').val\n",
    "#bed[:3,:2].read(dtype=np.float32).val"
   ]
  },
  {
   "cell_type": "markdown",
   "metadata": {},
   "source": [
    "This says to read data for the first 3 individuals and the first 2 SNPs.  For the first individual and first SNP the value is \"1\" meaning allele A1 was seen once. We can use 'as_dist' to create a distribution reader. Our A1 count of 1 because a distribution of [0,1,0], meaning 0 probability of an A1 count 0, 100% probability of an A1 count of 1, and 0 probability of a count of 2."
   ]
  },
  {
   "cell_type": "code",
   "execution_count": 163,
   "metadata": {},
   "outputs": [
    {
     "data": {
      "text/plain": [
       "array([[[0., 1., 0.],\n",
       "        [1., 0., 0.]],\n",
       "\n",
       "       [[0., 1., 0.],\n",
       "        [1., 0., 0.]],\n",
       "\n",
       "       [[1., 0., 0.],\n",
       "        [1., 0., 0.]]], dtype=float32)"
      ]
     },
     "execution_count": 163,
     "metadata": {},
     "output_type": "execute_result"
    }
   ],
   "source": [
    "bedasdist = bed.as_dist()\n",
    "bedasdist[:3,:2].read(dtype=np.float32).val"
   ]
  },
  {
   "cell_type": "markdown",
   "metadata": {},
   "source": [
    "# Other DistReader File Types\n",
    "\n",
    "In addition to Bgen, we can also save distribution data into\n",
    "\n",
    "* *.dist.memmap -- puts NumPy array both on disk and in memory for instant access (but bigger size than Bgen)\n",
    "* *.dist.nzp -- save to compressed NumPy arrays on disk (medium size and medium access)\n",
    "* *.dist.hdf5 -- save arrays to Hdf5 format - like *.dist.npz but maybe more readable from other programs\n",
    "\n",
    "These are fully documented with examples in https://fastlmm.github.io/PySnpTools/branch/dist/#module-pysnptools.distreader.\n",
    "\n",
    "Let's re-do the matrix operation we did earlier, but using DistMemMap."
   ]
  },
  {
   "cell_type": "code",
   "execution_count": 170,
   "metadata": {},
   "outputs": [
    {
     "name": "stderr",
     "output_type": "stream",
     "text": [
      "WARNING:root:Opening a file again, but its creation date has changed See https://github.com/limix/bgen-reader-py/issues/25. File \"example.bgen\"\n"
     ]
    },
    {
     "name": "stdout",
     "output_type": "stream",
     "text": [
      "665108\n",
      "1222884\n"
     ]
    },
    {
     "data": {
      "text/html": [
       "<div>\n",
       "<style scoped>\n",
       "    .dataframe tbody tr th:only-of-type {\n",
       "        vertical-align: middle;\n",
       "    }\n",
       "\n",
       "    .dataframe tbody tr th {\n",
       "        vertical-align: top;\n",
       "    }\n",
       "\n",
       "    .dataframe thead th {\n",
       "        text-align: right;\n",
       "    }\n",
       "</style>\n",
       "<table border=\"1\" class=\"dataframe\">\n",
       "  <thead>\n",
       "    <tr style=\"text-align: right;\">\n",
       "      <th></th>\n",
       "      <th>sid</th>\n",
       "      <th>shannon2</th>\n",
       "      <th>meandist</th>\n",
       "    </tr>\n",
       "  </thead>\n",
       "  <tbody>\n",
       "    <tr>\n",
       "      <td>127</td>\n",
       "      <td>SNPID_129</td>\n",
       "      <td>0.157309</td>\n",
       "      <td>0.97979075,0.016114073,0.0040951488</td>\n",
       "    </tr>\n",
       "    <tr>\n",
       "      <td>27</td>\n",
       "      <td>SNPID_29</td>\n",
       "      <td>0.157309</td>\n",
       "      <td>0.0040951488,0.016114073,0.97979075</td>\n",
       "    </tr>\n",
       "    <tr>\n",
       "      <td>171</td>\n",
       "      <td>SNPID_173</td>\n",
       "      <td>0.255571</td>\n",
       "      <td>0.96289223,0.029730404,0.0073773814</td>\n",
       "    </tr>\n",
       "    <tr>\n",
       "      <td>71</td>\n",
       "      <td>SNPID_73</td>\n",
       "      <td>0.255571</td>\n",
       "      <td>0.0073773814,0.029730404,0.96289223</td>\n",
       "    </tr>\n",
       "    <tr>\n",
       "      <td>191</td>\n",
       "      <td>SNPID_193</td>\n",
       "      <td>0.288233</td>\n",
       "      <td>0.0066580246,0.03753765,0.95580435</td>\n",
       "    </tr>\n",
       "  </tbody>\n",
       "</table>\n",
       "</div>"
      ],
      "text/plain": [
       "           sid  shannon2                             meandist\n",
       "127  SNPID_129  0.157309  0.97979075,0.016114073,0.0040951488\n",
       "27    SNPID_29  0.157309  0.0040951488,0.016114073,0.97979075\n",
       "171  SNPID_173  0.255571  0.96289223,0.029730404,0.0073773814\n",
       "71    SNPID_73  0.255571  0.0073773814,0.029730404,0.96289223\n",
       "191  SNPID_193  0.288233   0.0066580246,0.03753765,0.95580435"
      ]
     },
     "execution_count": 170,
     "metadata": {},
     "output_type": "execute_result"
    }
   ],
   "source": [
    "import numpy as np\n",
    "import pandas as pd\n",
    "import os\n",
    "from pysnptools.distreader import Bgen, DistMemMap\n",
    "\n",
    "bgen3 = Bgen('example.bgen',sid_function='id') #Create a Bgen reader, named 'bgen3'. Use the SNP id, ignore the RSID\n",
    "print(os.path.getsize('example.bgen')) #print size of *.bgen file\n",
    "\n",
    "#Convert to an on-disk/in-memory dist.memmap file. Under the covers, it automatically reads in batchs from Bgen.\n",
    "distmm = DistMemMap.write('example.dist.memmap',bgen3,dtype='float32') \n",
    "print(os.path.getsize('example.dist.memmap')) #print size of *.dist.memmap\n",
    "\n",
    "#Find the mean distribution for each SNP. This takes very little memory.\n",
    "meandist = np.nanmean(distmm.val,axis=0) # Like a DistData, DistMemMap's have a 'val', the NumPy array\n",
    "meandist_as_string = [','.join(row) for row in meandist.astype('str')]\n",
    "shannon2 = -np.sum(meandist*np.log2(meandist),axis=1) #compute the entropy of each SNP's distribution\n",
    "#Create a Pandas dataframe of results\n",
    "df = pd.DataFrame({'sid':distmm.sid,'shannon2':shannon2,'meandist':meandist_as_string})\n",
    "df.sort_values('shannon2',inplace=True)\n",
    "df[:5]"
   ]
  },
  {
   "cell_type": "markdown",
   "metadata": {},
   "source": [
    "In this example, using DistMemMap gives us fast access, very low memory, and simplier code. The cost is the use of more diskspace. Also, the format is not known to other tools."
   ]
  },
  {
   "cell_type": "markdown",
   "metadata": {},
   "source": [
    "# More Features: On-the-fly random data and reading multiple files as one.\n",
    "\n",
    "In this example, we'll generate random distributions, write to 22 bgen files and then read from all the files as one."
   ]
  },
  {
   "cell_type": "code",
   "execution_count": 185,
   "metadata": {},
   "outputs": [
    {
     "name": "stdout",
     "output_type": "stream",
     "text": [
      "(10, 10000)\n",
      "[['0' 'iid_0']\n",
      " ['0' 'iid_1']\n",
      " ['0' 'iid_2']\n",
      " ['0' 'iid_3']\n",
      " ['0' 'iid_4']]\n",
      "[[1.000000e+00 0.000000e+00 2.013180e+05]\n",
      " [1.000000e+00 0.000000e+00 5.076180e+05]\n",
      " [1.000000e+00 0.000000e+00 8.139180e+05]\n",
      " [1.000000e+00 0.000000e+00 1.120218e+06]\n",
      " [1.000000e+00 0.000000e+00 1.426518e+06]]\n"
     ]
    },
    {
     "data": {
      "text/plain": [
       "array([[[0.5758514 , 0.23658438, 0.18756425],\n",
       "        [       nan,        nan,        nan]],\n",
       "\n",
       "       [[0.4861365 , 0.26529667, 0.24856684],\n",
       "        [0.42888874, 0.14374886, 0.42736238]]], dtype=float32)"
      ]
     },
     "execution_count": 185,
     "metadata": {},
     "output_type": "execute_result"
    }
   ],
   "source": [
    "from pysnptools.distreader import DistGen #\"Gen\" here stands for 'generate'\n",
    "from pysnptools.distreader import Bgen #\"Gen\" here stands for 'genetic'\n",
    "\n",
    "distgen = DistGen(seed=123,iid_count=10,sid_count=10*1000) #Create a random generator for 10 individuals and 10K SNPs\n",
    "\n",
    "#Ask about the generator and generate 4 distributions\n",
    "print(distgen.shape)   #print the # of individuals and # of SNPs\n",
    "print(distgen.iid[:5]) #print 1st 5 individuals\n",
    "print(distgen.pos[:5]) #print 1st chrom and position info for the 1st 5 SNPs\n",
    "distgen[:2,:2].read(dtype='float32').val"
   ]
  },
  {
   "cell_type": "markdown",
   "metadata": {},
   "source": [
    "How many SNPs in chromosomes 22?"
   ]
  },
  {
   "cell_type": "code",
   "execution_count": 186,
   "metadata": {},
   "outputs": [
    {
     "data": {
      "text/plain": [
       "183"
      ]
     },
     "execution_count": 186,
     "metadata": {},
     "output_type": "execute_result"
    }
   ],
   "source": [
    "distgen[:,distgen.pos[:,0]==22].sid_count"
   ]
  },
  {
   "cell_type": "markdown",
   "metadata": {},
   "source": [
    "We'll generate Bgen files from chrom 17 to 22."
   ]
  },
  {
   "cell_type": "code",
   "execution_count": 188,
   "metadata": {},
   "outputs": [
    {
     "name": "stdout",
     "output_type": "stream",
     "text": [
      "\"chrom17.bgen\" has size 34867\n",
      "\"chrom18.bgen\" has size 32185\n",
      "\"chrom19.bgen\" has size 25311\n",
      "\"chrom20.bgen\" has size 27290\n",
      "\"chrom21.bgen\" has size 19072\n",
      "\"chrom22.bgen\" has size 21377\n",
      "CPU times: user 281 ms, sys: 1min 49s, total: 1min 49s\n",
      "Wall time: 1min 50s\n"
     ]
    }
   ],
   "source": [
    "%%time\n",
    "for chrom in range(17,23): #generate Bgen files for chrom 17 to 22\n",
    "    filename = 'chrom{0}.bgen'.format(chrom)\n",
    "    Bgen.write(filename,distgen[:,distgen.pos[:,0]==chrom],bits=23)\n",
    "    print('\"{0}\" has size {1}'.format(filename,os.path.getsize(filename)))"
   ]
  },
  {
   "cell_type": "code",
   "execution_count": 3,
   "metadata": {},
   "outputs": [
    {
     "data": {
      "text/plain": [
       "1378"
      ]
     },
     "execution_count": 3,
     "metadata": {},
     "output_type": "execute_result"
    }
   ],
   "source": [
    "from pysnptools.distreader import _DistMergeSIDs\n",
    "from pysnptools.distreader import Bgen\n",
    "\n",
    "reader_list = [Bgen('chrom{0}.bgen'.format(chrom),sid_function='id') for chrom in range(17,23)]\n",
    "mergereader = _DistMergeSIDs(reader_list) #!!!cmk ,cache_file='mergecache.npz'\n",
    "mergereader.col_count"
   ]
  },
  {
   "cell_type": "code",
   "execution_count": 4,
   "metadata": {},
   "outputs": [
    {
     "name": "stdout",
     "output_type": "stream",
     "text": [
      "CPU times: user 0 ns, sys: 0 ns, total: 0 ns\n",
      "Wall time: 16.5 µs\n"
     ]
    },
    {
     "ename": "AttributeError",
     "evalue": "'_DistMergeSIDs' object has no attribute '_val_shape'",
     "output_type": "error",
     "traceback": [
      "\u001b[0;31m---------------------------------------------------------------------------\u001b[0m",
      "\u001b[0;31mAttributeError\u001b[0m                            Traceback (most recent call last)",
      "\u001b[0;32m<ipython-input-4-be93d6ea0949>\u001b[0m in \u001b[0;36m<module>\u001b[0;34m\u001b[0m\n\u001b[1;32m      1\u001b[0m \u001b[0mget_ipython\u001b[0m\u001b[0;34m(\u001b[0m\u001b[0;34m)\u001b[0m\u001b[0;34m.\u001b[0m\u001b[0mrun_line_magic\u001b[0m\u001b[0;34m(\u001b[0m\u001b[0;34m'time'\u001b[0m\u001b[0;34m,\u001b[0m \u001b[0;34m''\u001b[0m\u001b[0;34m)\u001b[0m\u001b[0;34m\u001b[0m\u001b[0;34m\u001b[0m\u001b[0m\n\u001b[0;32m----> 2\u001b[0;31m \u001b[0mmergereader\u001b[0m\u001b[0;34m[\u001b[0m\u001b[0;36m0\u001b[0m\u001b[0;34m,\u001b[0m\u001b[0;34m:\u001b[0m\u001b[0;34m]\u001b[0m\u001b[0;34m.\u001b[0m\u001b[0mread\u001b[0m\u001b[0;34m(\u001b[0m\u001b[0mdtype\u001b[0m\u001b[0;34m=\u001b[0m\u001b[0;34m'float32'\u001b[0m\u001b[0;34m)\u001b[0m\u001b[0;34m.\u001b[0m\u001b[0mval\u001b[0m\u001b[0;34m\u001b[0m\u001b[0;34m\u001b[0m\u001b[0m\n\u001b[0m",
      "\u001b[0;32m~/anaconda3/envs/dist/lib/python3.7/site-packages/pysnptools/distreader/distreader.py\u001b[0m in \u001b[0;36mread\u001b[0;34m(self, order, dtype, force_python_only, view_ok)\u001b[0m\n\u001b[1;32m    257\u001b[0m         \u001b[0;34m>>\u001b[0m\u001b[0;34m>\u001b[0m \u001b[0;31m# print np.may_share_memory(subset_distdata.val, subsub_distdata.val) # Do the two ndarray's share memory? They could. Currently they won't.\u001b[0m\u001b[0;34m\u001b[0m\u001b[0;34m\u001b[0m\u001b[0m\n\u001b[1;32m    258\u001b[0m         \"\"\"\n\u001b[0;32m--> 259\u001b[0;31m         \u001b[0mval\u001b[0m \u001b[0;34m=\u001b[0m \u001b[0mself\u001b[0m\u001b[0;34m.\u001b[0m\u001b[0m_read\u001b[0m\u001b[0;34m(\u001b[0m\u001b[0;32mNone\u001b[0m\u001b[0;34m,\u001b[0m \u001b[0;32mNone\u001b[0m\u001b[0;34m,\u001b[0m \u001b[0morder\u001b[0m\u001b[0;34m,\u001b[0m \u001b[0mdtype\u001b[0m\u001b[0;34m,\u001b[0m \u001b[0mforce_python_only\u001b[0m\u001b[0;34m,\u001b[0m \u001b[0mview_ok\u001b[0m\u001b[0;34m)\u001b[0m\u001b[0;34m\u001b[0m\u001b[0;34m\u001b[0m\u001b[0m\n\u001b[0m\u001b[1;32m    260\u001b[0m         \u001b[0;32mfrom\u001b[0m \u001b[0mpysnptools\u001b[0m\u001b[0;34m.\u001b[0m\u001b[0mdistreader\u001b[0m \u001b[0;32mimport\u001b[0m \u001b[0mDistData\u001b[0m\u001b[0;34m\u001b[0m\u001b[0;34m\u001b[0m\u001b[0m\n\u001b[1;32m    261\u001b[0m         \u001b[0mret\u001b[0m \u001b[0;34m=\u001b[0m \u001b[0mDistData\u001b[0m\u001b[0;34m(\u001b[0m\u001b[0mself\u001b[0m\u001b[0;34m.\u001b[0m\u001b[0miid\u001b[0m\u001b[0;34m,\u001b[0m\u001b[0mself\u001b[0m\u001b[0;34m.\u001b[0m\u001b[0msid\u001b[0m\u001b[0;34m,\u001b[0m\u001b[0mval\u001b[0m\u001b[0;34m,\u001b[0m\u001b[0mpos\u001b[0m\u001b[0;34m=\u001b[0m\u001b[0mself\u001b[0m\u001b[0;34m.\u001b[0m\u001b[0mpos\u001b[0m\u001b[0;34m,\u001b[0m\u001b[0mname\u001b[0m\u001b[0;34m=\u001b[0m\u001b[0mstr\u001b[0m\u001b[0;34m(\u001b[0m\u001b[0mself\u001b[0m\u001b[0;34m)\u001b[0m\u001b[0;34m)\u001b[0m\u001b[0;34m\u001b[0m\u001b[0;34m\u001b[0m\u001b[0m\n",
      "\u001b[0;32m~/anaconda3/envs/dist/lib/python3.7/site-packages/pysnptools/pstreader/_subset.py\u001b[0m in \u001b[0;36m_read\u001b[0;34m(self, row_indexer, col_indexer, order, dtype, force_python_only, view_ok)\u001b[0m\n\u001b[1;32m     67\u001b[0m             \u001b[0mcol_index_or_none\u001b[0m \u001b[0;34m=\u001b[0m \u001b[0mPstReader\u001b[0m\u001b[0;34m.\u001b[0m\u001b[0m_make_sparray_from_sparray_or_slice\u001b[0m\u001b[0;34m(\u001b[0m\u001b[0mself\u001b[0m\u001b[0;34m.\u001b[0m\u001b[0mcol_count\u001b[0m\u001b[0;34m,\u001b[0m \u001b[0mcol_indexer\u001b[0m\u001b[0;34m)\u001b[0m\u001b[0;34m\u001b[0m\u001b[0;34m\u001b[0m\u001b[0m\n\u001b[1;32m     68\u001b[0m             \u001b[0mcomposed_col_index_or_none\u001b[0m \u001b[0;34m=\u001b[0m \u001b[0m_PstSubset\u001b[0m\u001b[0;34m.\u001b[0m\u001b[0mcompose_indexer_with_index_or_none\u001b[0m\u001b[0;34m(\u001b[0m\u001b[0mself\u001b[0m\u001b[0;34m.\u001b[0m\u001b[0m_internal\u001b[0m\u001b[0;34m.\u001b[0m\u001b[0mcol_count\u001b[0m\u001b[0;34m,\u001b[0m \u001b[0mself\u001b[0m\u001b[0;34m.\u001b[0m\u001b[0m_col_indexer\u001b[0m\u001b[0;34m,\u001b[0m \u001b[0mself\u001b[0m\u001b[0;34m.\u001b[0m\u001b[0mcol_count\u001b[0m\u001b[0;34m,\u001b[0m \u001b[0mcol_index_or_none\u001b[0m\u001b[0;34m)\u001b[0m\u001b[0;34m\u001b[0m\u001b[0;34m\u001b[0m\u001b[0m\n\u001b[0;32m---> 69\u001b[0;31m             \u001b[0mval\u001b[0m \u001b[0;34m=\u001b[0m \u001b[0mself\u001b[0m\u001b[0;34m.\u001b[0m\u001b[0m_internal\u001b[0m\u001b[0;34m.\u001b[0m\u001b[0m_read\u001b[0m\u001b[0;34m(\u001b[0m\u001b[0mcomposed_row_index_or_none\u001b[0m\u001b[0;34m,\u001b[0m \u001b[0mcomposed_col_index_or_none\u001b[0m\u001b[0;34m,\u001b[0m \u001b[0morder\u001b[0m\u001b[0;34m,\u001b[0m \u001b[0mdtype\u001b[0m\u001b[0;34m,\u001b[0m \u001b[0mforce_python_only\u001b[0m\u001b[0;34m,\u001b[0m \u001b[0mview_ok\u001b[0m\u001b[0;34m)\u001b[0m\u001b[0;34m\u001b[0m\u001b[0;34m\u001b[0m\u001b[0m\n\u001b[0m\u001b[1;32m     70\u001b[0m             \u001b[0;32mreturn\u001b[0m \u001b[0mval\u001b[0m\u001b[0;34m\u001b[0m\u001b[0;34m\u001b[0m\u001b[0m\n\u001b[1;32m     71\u001b[0m \u001b[0;34m\u001b[0m\u001b[0m\n",
      "\u001b[0;32m~/anaconda3/envs/dist/lib/python3.7/site-packages/pysnptools/pstreader/_mergecols.py\u001b[0m in \u001b[0;36m_read\u001b[0;34m(self, row_index_or_none, col_index_or_none, order, dtype, force_python_only, view_ok)\u001b[0m\n\u001b[1;32m    138\u001b[0m                 \u001b[0morder\u001b[0m \u001b[0;34m=\u001b[0m \u001b[0;34m'F'\u001b[0m\u001b[0;34m\u001b[0m\u001b[0;34m\u001b[0m\u001b[0m\n\u001b[1;32m    139\u001b[0m             \u001b[0mval\u001b[0m \u001b[0;34m=\u001b[0m \u001b[0mnp\u001b[0m\u001b[0;34m.\u001b[0m\u001b[0mempty\u001b[0m\u001b[0;34m(\u001b[0m\u001b[0;34m(\u001b[0m\u001b[0mrow_index_or_none_count\u001b[0m\u001b[0;34m,\u001b[0m\u001b[0mlen\u001b[0m\u001b[0;34m(\u001b[0m\u001b[0mcol_index\u001b[0m\u001b[0;34m)\u001b[0m\u001b[0;34m)\u001b[0m\u001b[0;34m,\u001b[0m\u001b[0mdtype\u001b[0m\u001b[0;34m=\u001b[0m\u001b[0mdtype\u001b[0m\u001b[0;34m,\u001b[0m\u001b[0morder\u001b[0m\u001b[0;34m=\u001b[0m\u001b[0morder\u001b[0m\u001b[0;34m)\u001b[0m\u001b[0;34m\u001b[0m\u001b[0;34m\u001b[0m\u001b[0m\n\u001b[0;32m--> 140\u001b[0;31m             \u001b[0;32mif\u001b[0m \u001b[0mself\u001b[0m\u001b[0;34m.\u001b[0m\u001b[0m_val_shape\u001b[0m \u001b[0;32mis\u001b[0m \u001b[0;32mNone\u001b[0m\u001b[0;34m:\u001b[0m\u001b[0;34m\u001b[0m\u001b[0;34m\u001b[0m\u001b[0m\n\u001b[0m\u001b[1;32m    141\u001b[0m                 \u001b[0mval\u001b[0m \u001b[0;34m=\u001b[0m \u001b[0mnp\u001b[0m\u001b[0;34m.\u001b[0m\u001b[0mempty\u001b[0m\u001b[0;34m(\u001b[0m\u001b[0;34m[\u001b[0m\u001b[0mrow_index_count\u001b[0m\u001b[0;34m,\u001b[0m \u001b[0mcol_index_count\u001b[0m\u001b[0;34m]\u001b[0m\u001b[0;34m,\u001b[0m \u001b[0mdtype\u001b[0m\u001b[0;34m=\u001b[0m\u001b[0mdtype\u001b[0m\u001b[0;34m,\u001b[0m \u001b[0morder\u001b[0m\u001b[0;34m=\u001b[0m\u001b[0morder\u001b[0m\u001b[0;34m)\u001b[0m\u001b[0;34m\u001b[0m\u001b[0;34m\u001b[0m\u001b[0m\n\u001b[1;32m    142\u001b[0m             \u001b[0;32melse\u001b[0m\u001b[0;34m:\u001b[0m\u001b[0;34m\u001b[0m\u001b[0;34m\u001b[0m\u001b[0m\n",
      "\u001b[0;31mAttributeError\u001b[0m: '_DistMergeSIDs' object has no attribute '_val_shape'"
     ]
    }
   ],
   "source": [
    "%time\n",
    "mergereader[0,:].read(dtype='float32').val"
   ]
  },
  {
   "cell_type": "code",
   "execution_count": null,
   "metadata": {},
   "outputs": [],
   "source": []
  }
 ],
 "metadata": {
  "kernelspec": {
   "display_name": "Python 3",
   "language": "python",
   "name": "python3"
  },
  "language_info": {
   "codemirror_mode": {
    "name": "ipython",
    "version": 3
   },
   "file_extension": ".py",
   "mimetype": "text/x-python",
   "name": "python",
   "nbconvert_exporter": "python",
   "pygments_lexer": "ipython3",
   "version": "3.7.6"
  }
 },
 "nbformat": 4,
 "nbformat_minor": 2
}
