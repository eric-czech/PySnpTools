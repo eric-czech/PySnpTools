{
 "cells": [
  {
   "cell_type": "code",
   "execution_count": 2,
   "metadata": {},
   "outputs": [],
   "source": [
    "#had problems so put it here just for now\n",
    "from pysnptools.distreader._bgen2 import bgen_reader2, Bgen2"
   ]
  },
  {
   "cell_type": "code",
   "execution_count": 3,
   "metadata": {},
   "outputs": [],
   "source": [
    "filename = r'D:\\OneDrive\\Shares\\bgenreaderpy\\1x1000000.bgen'"
   ]
  },
  {
   "cell_type": "code",
   "execution_count": 2,
   "metadata": {},
   "outputs": [],
   "source": [
    "from bgen_reader import read_bgen"
   ]
  },
  {
   "cell_type": "code",
   "execution_count": 3,
   "metadata": {},
   "outputs": [
    {
     "name": "stdout",
     "output_type": "stream",
     "text": [
      "We will create the metafile `D:\\OneDrive\\Shares\\bgenreaderpy\\1x1000000.metadata`. This file will speed up further\n",
      "reads and only need to be created once. So, please, bear with me.\n"
     ]
    },
    {
     "name": "stderr",
     "output_type": "stream",
     "text": [
      "Mapping genotypes: 100%|██████████████████████████████████████████████████| 1000000/1000000 [00:40<00:00, 24824.73it/s]"
     ]
    },
    {
     "name": "stdout",
     "output_type": "stream",
     "text": [
      "Wall time: 43.6 s\n"
     ]
    },
    {
     "name": "stderr",
     "output_type": "stream",
     "text": [
      "\n"
     ]
    }
   ],
   "source": [
    "%%time #!!!cmk memory use goes up to 4GB!\n",
    "bgen = read_bgen(filename) #cmk: didn't say verbose, but was anyway. #cmk much of docs is blank"
   ]
  },
  {
   "cell_type": "code",
   "execution_count": 4,
   "metadata": {},
   "outputs": [
    {
     "name": "stderr",
     "output_type": "stream",
     "text": [
      "Mapping genotypes: 100%|██████████████████████████████████████████████████| 1000000/1000000 [00:43<00:00, 22971.93it/s]\n"
     ]
    },
    {
     "name": "stdout",
     "output_type": "stream",
     "text": [
      "Wall time: 44.4 s\n"
     ]
    }
   ],
   "source": [
    "%%time\n",
    "bgen = read_bgen(filename) #cmk reading a second time with metadata there takes another 48 seconds"
   ]
  },
  {
   "cell_type": "code",
   "execution_count": 4,
   "metadata": {},
   "outputs": [
    {
     "name": "stdout",
     "output_type": "stream",
     "text": [
      "['sid_0' 'sid_1' 'sid_2' 'sid_3' 'sid_4']\n",
      "Wall time: 8.46 s\n"
     ]
    }
   ],
   "source": [
    "%%time\n",
    "#We can use\n",
    "#with bgen_reader2(filename) as bgen2:\n",
    "#or\n",
    "bgen2 = Bgen2(filename)\n",
    "print(bgen2.id[:5]) #other property arrays include risd,chrom,position,nallels, and allele_ids"
   ]
  },
  {
   "cell_type": "code",
   "execution_count": 5,
   "metadata": {},
   "outputs": [
    {
     "name": "stdout",
     "output_type": "stream",
     "text": [
      "['sid_0' 'sid_1' 'sid_2' 'sid_3' 'sid_4']\n",
      "Wall time: 354 ms\n"
     ]
    }
   ],
   "source": [
    "%%time\n",
    "#second time we read, it is faster\n",
    "bgen2 = Bgen2(filename)\n",
    "print(bgen2.id[:5])"
   ]
  },
  {
   "cell_type": "code",
   "execution_count": 5,
   "metadata": {},
   "outputs": [
    {
     "name": "stdout",
     "output_type": "stream",
     "text": [
      "Wall time: 36 ms\n"
     ]
    },
    {
     "data": {
      "text/plain": [
       "array([[0.64705882, 0.07843137, 0.2745098 ]])"
      ]
     },
     "execution_count": 5,
     "metadata": {},
     "output_type": "execute_result"
    }
   ],
   "source": [
    "%%time\n",
    "variant_count = len(bgen[\"genotype\"])\n",
    "geno = bgen[\"genotype\"][variant_count-1].compute()\n",
    "geno[\"probs\"]"
   ]
  },
  {
   "cell_type": "code",
   "execution_count": 7,
   "metadata": {},
   "outputs": [
    {
     "name": "stdout",
     "output_type": "stream",
     "text": [
      "[[[0.64705882 0.07843137 0.2745098 ]]]\n",
      "Wall time: 999 µs\n"
     ]
    }
   ],
   "source": [
    "%%time\n",
    "#read one variant\n",
    "print(bgen2.read(-1))"
   ]
  },
  {
   "cell_type": "code",
   "execution_count": 6,
   "metadata": {},
   "outputs": [
    {
     "name": "stderr",
     "output_type": "stream",
     "text": [
      "UsageError: Can't use statement directly after '%%time'!\n"
     ]
    }
   ],
   "source": [
    "%%time\n",
    "#!!!cmk memory use about 2GB\n",
    "import numpy as np\n",
    "probs = [geno.compute()['probs'] for geno in bgen[\"genotype\"][:5]]\n",
    "print(np.array(probs)) #!!!cmk extra dimension of array (could likely be fixed with better numpy)\n",
    "\n",
    "chrom5_indexes = np.arange(variant_count)[np.array(bgen[\"variants\"]['chrom']=='5')]\n",
    "print(len(chrom5_indexes)) #len is 63336\n",
    "probs = [bgen[\"genotype\"][index].compute()['probs'] for index in chrom5_indexes] #Just 10 of them\n",
    "print(np.array(probs))"
   ]
  },
  {
   "cell_type": "code",
   "execution_count": 8,
   "metadata": {},
   "outputs": [
    {
     "name": "stdout",
     "output_type": "stream",
     "text": [
      "[[[0.46666667 0.38823529 0.14509804]\n",
      "  [0.48235294 0.10588235 0.41176471]\n",
      "  [0.7372549  0.11372549 0.14901961]\n",
      "  [0.28627451 0.10196078 0.61176471]\n",
      "  [0.05490196 0.38431373 0.56078431]]]\n",
      "[[[       nan        nan        nan        nan]\n",
      "  [0.65098039 0.01960784 0.32941176        nan]\n",
      "  [0.37254902 0.36078431 0.26666667        nan]\n",
      "  ...\n",
      "  [0.16862745 0.67843137 0.15294118        nan]\n",
      "  [       nan        nan        nan        nan]\n",
      "  [0.40784314 0.18823529 0.40392157        nan]]]\n",
      "Wall time: 794 ms\n"
     ]
    }
   ],
   "source": [
    "%%time\n",
    "print(bgen2.read(slice(5))) #read the first 5\n",
    "print(bgen2.read(bgen2.chrom=='5',max_ncombs=4)) #read chrom 5, allow more combos"
   ]
  },
  {
   "cell_type": "code",
   "execution_count": 11,
   "metadata": {},
   "outputs": [],
   "source": [
    "filename = r'g:\\deldir\\1000x500000.bgen' #Bigger file"
   ]
  },
  {
   "cell_type": "code",
   "execution_count": 9,
   "metadata": {},
   "outputs": [
    {
     "name": "stdout",
     "output_type": "stream",
     "text": [
      "We will create the metafile `g:\\deldir\\1000x500000.metadata`. This file will speed up further\n",
      "reads and only need to be created once. So, please, bear with me.\n"
     ]
    },
    {
     "name": "stderr",
     "output_type": "stream",
     "text": [
      "Mapping genotypes: 100%|████████████████████████████████████████████████████| 500000/500000 [00:22<00:00, 21812.93it/s]\n"
     ]
    },
    {
     "name": "stdout",
     "output_type": "stream",
     "text": [
      "Wall time: 3min 21s\n"
     ]
    }
   ],
   "source": [
    "%%time\n",
    "#!!!cmk memory use goes up to 2.1GB\n",
    "bgen = read_bgen(filename)"
   ]
  },
  {
   "cell_type": "code",
   "execution_count": 3,
   "metadata": {},
   "outputs": [
    {
     "name": "stderr",
     "output_type": "stream",
     "text": [
      "Mapping genotypes: 100%|████████████████████████████████████████████████████| 500000/500000 [00:20<00:00, 24585.47it/s]"
     ]
    },
    {
     "name": "stdout",
     "output_type": "stream",
     "text": [
      "Wall time: 20.4 s\n"
     ]
    },
    {
     "name": "stderr",
     "output_type": "stream",
     "text": [
      "\n"
     ]
    }
   ],
   "source": [
    "%%time\n",
    "bgen = read_bgen(filename) #2nd time"
   ]
  },
  {
   "cell_type": "code",
   "execution_count": 12,
   "metadata": {},
   "outputs": [
    {
     "name": "stdout",
     "output_type": "stream",
     "text": [
      "['sid_0' 'sid_1' 'sid_2' 'sid_3' 'sid_4']\n",
      "Wall time: 25.7 s\n"
     ]
    }
   ],
   "source": [
    "%%time\n",
    "bgen2 = Bgen2(filename)\n",
    "print(bgen2.id[:5]) "
   ]
  },
  {
   "cell_type": "code",
   "execution_count": 13,
   "metadata": {},
   "outputs": [
    {
     "name": "stdout",
     "output_type": "stream",
     "text": [
      "['sid_0' 'sid_1' 'sid_2' 'sid_3' 'sid_4']\n",
      "Wall time: 153 ms\n"
     ]
    }
   ],
   "source": [
    "%%time\n",
    "#faster after the first time\n",
    "\n",
    "bgen2 = Bgen2(filename)\n",
    "print(bgen2.id[:5]) "
   ]
  },
  {
   "cell_type": "code",
   "execution_count": 5,
   "metadata": {},
   "outputs": [
    {
     "name": "stdout",
     "output_type": "stream",
     "text": [
      "0.3333333333333333\n",
      "Wall time: 4.03 s\n"
     ]
    }
   ],
   "source": [
    "%%time\n",
    "import numpy as np\n",
    "#read 1000 samples x 1000 variants and average them\n",
    "probs = [geno.compute()['probs'] for geno in bgen[\"genotype\"][-1000:]]\n",
    "print(np.nanmean(np.array(probs)))"
   ]
  },
  {
   "cell_type": "code",
   "execution_count": 14,
   "metadata": {},
   "outputs": [
    {
     "name": "stdout",
     "output_type": "stream",
     "text": [
      "0.333333333333333\n",
      "Wall time: 235 ms\n"
     ]
    }
   ],
   "source": [
    "%%time\n",
    "import numpy as np\n",
    "\n",
    "#read 1000 samples x 1000 variants and average them\n",
    "print(np.nanmean(bgen2.read(np.s_[-1000:])))"
   ]
  },
  {
   "cell_type": "code",
   "execution_count": 6,
   "metadata": {},
   "outputs": [
    {
     "name": "stdout",
     "output_type": "stream",
     "text": [
      "Wall time: 3min 15s\n"
     ]
    },
    {
     "data": {
      "text/html": [
       "<div>\n",
       "<style scoped>\n",
       "    .dataframe tbody tr th:only-of-type {\n",
       "        vertical-align: middle;\n",
       "    }\n",
       "\n",
       "    .dataframe tbody tr th {\n",
       "        vertical-align: top;\n",
       "    }\n",
       "\n",
       "    .dataframe thead th {\n",
       "        text-align: right;\n",
       "    }\n",
       "</style>\n",
       "<table border=\"1\" class=\"dataframe\">\n",
       "  <thead>\n",
       "    <tr style=\"text-align: right;\">\n",
       "      <th></th>\n",
       "      <th>id</th>\n",
       "      <th>p0</th>\n",
       "      <th>p1</th>\n",
       "      <th>p2</th>\n",
       "    </tr>\n",
       "  </thead>\n",
       "  <tbody>\n",
       "    <tr>\n",
       "      <th>0</th>\n",
       "      <td>sid_0</td>\n",
       "      <td>0.327895</td>\n",
       "      <td>0.336770</td>\n",
       "      <td>0.335335</td>\n",
       "    </tr>\n",
       "    <tr>\n",
       "      <th>50</th>\n",
       "      <td>sid_50</td>\n",
       "      <td>0.321633</td>\n",
       "      <td>0.332449</td>\n",
       "      <td>0.345918</td>\n",
       "    </tr>\n",
       "    <tr>\n",
       "      <th>100</th>\n",
       "      <td>sid_100</td>\n",
       "      <td>0.334635</td>\n",
       "      <td>0.331595</td>\n",
       "      <td>0.333770</td>\n",
       "    </tr>\n",
       "    <tr>\n",
       "      <th>150</th>\n",
       "      <td>sid_150</td>\n",
       "      <td>0.327974</td>\n",
       "      <td>0.337406</td>\n",
       "      <td>0.334621</td>\n",
       "    </tr>\n",
       "    <tr>\n",
       "      <th>200</th>\n",
       "      <td>sid_200</td>\n",
       "      <td>0.337305</td>\n",
       "      <td>0.322352</td>\n",
       "      <td>0.340342</td>\n",
       "    </tr>\n",
       "    <tr>\n",
       "      <th>...</th>\n",
       "      <td>...</td>\n",
       "      <td>...</td>\n",
       "      <td>...</td>\n",
       "      <td>...</td>\n",
       "    </tr>\n",
       "    <tr>\n",
       "      <th>499750</th>\n",
       "      <td>sid_499750</td>\n",
       "      <td>0.341511</td>\n",
       "      <td>0.330225</td>\n",
       "      <td>0.328263</td>\n",
       "    </tr>\n",
       "    <tr>\n",
       "      <th>499800</th>\n",
       "      <td>sid_499800</td>\n",
       "      <td>0.331892</td>\n",
       "      <td>0.328181</td>\n",
       "      <td>0.339927</td>\n",
       "    </tr>\n",
       "    <tr>\n",
       "      <th>499850</th>\n",
       "      <td>sid_499850</td>\n",
       "      <td>0.332797</td>\n",
       "      <td>0.336960</td>\n",
       "      <td>0.330243</td>\n",
       "    </tr>\n",
       "    <tr>\n",
       "      <th>499900</th>\n",
       "      <td>sid_499900</td>\n",
       "      <td>0.337645</td>\n",
       "      <td>0.332883</td>\n",
       "      <td>0.329471</td>\n",
       "    </tr>\n",
       "    <tr>\n",
       "      <th>499950</th>\n",
       "      <td>sid_499950</td>\n",
       "      <td>0.320436</td>\n",
       "      <td>0.339466</td>\n",
       "      <td>0.340098</td>\n",
       "    </tr>\n",
       "  </tbody>\n",
       "</table>\n",
       "<p>10000 rows × 4 columns</p>\n",
       "</div>"
      ],
      "text/plain": [
       "                id        p0        p1        p2\n",
       "0            sid_0  0.327895  0.336770  0.335335\n",
       "50          sid_50  0.321633  0.332449  0.345918\n",
       "100        sid_100  0.334635  0.331595  0.333770\n",
       "150        sid_150  0.327974  0.337406  0.334621\n",
       "200        sid_200  0.337305  0.322352  0.340342\n",
       "...            ...       ...       ...       ...\n",
       "499750  sid_499750  0.341511  0.330225  0.328263\n",
       "499800  sid_499800  0.331892  0.328181  0.339927\n",
       "499850  sid_499850  0.332797  0.336960  0.330243\n",
       "499900  sid_499900  0.337645  0.332883  0.329471\n",
       "499950  sid_499950  0.320436  0.339466  0.340098\n",
       "\n",
       "[10000 rows x 4 columns]"
      ]
     },
     "execution_count": 6,
     "metadata": {},
     "output_type": "execute_result"
    }
   ],
   "source": [
    "%%time\n",
    "\n",
    "import pandas as pd #Uses 1.2 GB of memory\n",
    "\n",
    "#Find the mean distribution for every 50th variant and create a Pandas dataframe\n",
    "mean_per_variant = np.array([np.nanmean(geno.compute()['probs'],axis=0) for geno in bgen[\"genotype\"][::50]])\n",
    "indexes = np.arange(len(bgen[\"genotype\"]))[::50] #This is fast\n",
    "idx = bgen[\"variants\"].loc[indexes,'id'].compute()\n",
    "df = pd.DataFrame({'id':idx,'p0':mean_per_variant[:,0],'p1':mean_per_variant[:,1],'p2':mean_per_variant[:,2],})\n",
    "df"
   ]
  },
  {
   "cell_type": "code",
   "execution_count": 16,
   "metadata": {},
   "outputs": [
    {
     "name": "stdout",
     "output_type": "stream",
     "text": [
      "Wall time: 2.4 s\n"
     ]
    },
    {
     "data": {
      "text/html": [
       "<div>\n",
       "<style scoped>\n",
       "    .dataframe tbody tr th:only-of-type {\n",
       "        vertical-align: middle;\n",
       "    }\n",
       "\n",
       "    .dataframe tbody tr th {\n",
       "        vertical-align: top;\n",
       "    }\n",
       "\n",
       "    .dataframe thead th {\n",
       "        text-align: right;\n",
       "    }\n",
       "</style>\n",
       "<table border=\"1\" class=\"dataframe\">\n",
       "  <thead>\n",
       "    <tr style=\"text-align: right;\">\n",
       "      <th></th>\n",
       "      <th>id</th>\n",
       "      <th>p0</th>\n",
       "      <th>p1</th>\n",
       "      <th>p2</th>\n",
       "    </tr>\n",
       "  </thead>\n",
       "  <tbody>\n",
       "    <tr>\n",
       "      <th>0</th>\n",
       "      <td>sid_0</td>\n",
       "      <td>0.327895</td>\n",
       "      <td>0.336770</td>\n",
       "      <td>0.335335</td>\n",
       "    </tr>\n",
       "    <tr>\n",
       "      <th>1</th>\n",
       "      <td>sid_50</td>\n",
       "      <td>0.321633</td>\n",
       "      <td>0.332449</td>\n",
       "      <td>0.345918</td>\n",
       "    </tr>\n",
       "    <tr>\n",
       "      <th>2</th>\n",
       "      <td>sid_100</td>\n",
       "      <td>0.334635</td>\n",
       "      <td>0.331595</td>\n",
       "      <td>0.333770</td>\n",
       "    </tr>\n",
       "    <tr>\n",
       "      <th>3</th>\n",
       "      <td>sid_150</td>\n",
       "      <td>0.327974</td>\n",
       "      <td>0.337406</td>\n",
       "      <td>0.334621</td>\n",
       "    </tr>\n",
       "    <tr>\n",
       "      <th>4</th>\n",
       "      <td>sid_200</td>\n",
       "      <td>0.337305</td>\n",
       "      <td>0.322352</td>\n",
       "      <td>0.340342</td>\n",
       "    </tr>\n",
       "    <tr>\n",
       "      <th>...</th>\n",
       "      <td>...</td>\n",
       "      <td>...</td>\n",
       "      <td>...</td>\n",
       "      <td>...</td>\n",
       "    </tr>\n",
       "    <tr>\n",
       "      <th>9995</th>\n",
       "      <td>sid_499750</td>\n",
       "      <td>0.341511</td>\n",
       "      <td>0.330225</td>\n",
       "      <td>0.328263</td>\n",
       "    </tr>\n",
       "    <tr>\n",
       "      <th>9996</th>\n",
       "      <td>sid_499800</td>\n",
       "      <td>0.331892</td>\n",
       "      <td>0.328181</td>\n",
       "      <td>0.339927</td>\n",
       "    </tr>\n",
       "    <tr>\n",
       "      <th>9997</th>\n",
       "      <td>sid_499850</td>\n",
       "      <td>0.332797</td>\n",
       "      <td>0.336960</td>\n",
       "      <td>0.330243</td>\n",
       "    </tr>\n",
       "    <tr>\n",
       "      <th>9998</th>\n",
       "      <td>sid_499900</td>\n",
       "      <td>0.337645</td>\n",
       "      <td>0.332883</td>\n",
       "      <td>0.329471</td>\n",
       "    </tr>\n",
       "    <tr>\n",
       "      <th>9999</th>\n",
       "      <td>sid_499950</td>\n",
       "      <td>0.320436</td>\n",
       "      <td>0.339466</td>\n",
       "      <td>0.340098</td>\n",
       "    </tr>\n",
       "  </tbody>\n",
       "</table>\n",
       "<p>10000 rows × 4 columns</p>\n",
       "</div>"
      ],
      "text/plain": [
       "              id        p0        p1        p2\n",
       "0          sid_0  0.327895  0.336770  0.335335\n",
       "1         sid_50  0.321633  0.332449  0.345918\n",
       "2        sid_100  0.334635  0.331595  0.333770\n",
       "3        sid_150  0.327974  0.337406  0.334621\n",
       "4        sid_200  0.337305  0.322352  0.340342\n",
       "...          ...       ...       ...       ...\n",
       "9995  sid_499750  0.341511  0.330225  0.328263\n",
       "9996  sid_499800  0.331892  0.328181  0.339927\n",
       "9997  sid_499850  0.332797  0.336960  0.330243\n",
       "9998  sid_499900  0.337645  0.332883  0.329471\n",
       "9999  sid_499950  0.320436  0.339466  0.340098\n",
       "\n",
       "[10000 rows x 4 columns]"
      ]
     },
     "execution_count": 16,
     "metadata": {},
     "output_type": "execute_result"
    }
   ],
   "source": [
    "%%time\n",
    "import pandas as pd\n",
    "\n",
    "#Find the mean distribution for every 50th variant and create a Pandas dataframe\n",
    "\n",
    "mean_per_variant = np.nanmean(bgen2.read(np.s_[::50]),axis=0)\n",
    "df = pd.DataFrame({'id':bgen2.id[::50],'p0':mean_per_variant[:,0],'p1':mean_per_variant[:,1],'p2':mean_per_variant[:,2],})\n",
    "df"
   ]
  },
  {
   "cell_type": "code",
   "execution_count": null,
   "metadata": {},
   "outputs": [],
   "source": []
  }
 ],
 "metadata": {
  "kernelspec": {
   "display_name": "Python 3",
   "language": "python",
   "name": "python3"
  },
  "language_info": {
   "codemirror_mode": {
    "name": "ipython",
    "version": 3
   },
   "file_extension": ".py",
   "mimetype": "text/x-python",
   "name": "python",
   "nbconvert_exporter": "python",
   "pygments_lexer": "ipython3",
   "version": "3.7.4"
  }
 },
 "nbformat": 4,
 "nbformat_minor": 2
}
