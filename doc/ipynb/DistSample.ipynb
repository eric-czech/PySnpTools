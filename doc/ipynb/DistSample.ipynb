{
 "cells": [
  {
   "cell_type": "markdown",
   "metadata": {},
   "source": [
    "#### Set the the environment"
   ]
  },
  {
   "cell_type": "code",
   "execution_count": 5,
   "metadata": {},
   "outputs": [],
   "source": [
    "import os\n",
    "import numpy as np"
   ]
  },
  {
   "cell_type": "markdown",
   "metadata": {},
   "source": [
    "#### Define a Bgen reader and read a few values from it (they are a 3D numpy array)\n",
    "\n",
    "[nan, nan, nan] is \"missing\""
   ]
  },
  {
   "cell_type": "code",
   "execution_count": 2,
   "metadata": {},
   "outputs": [
    {
     "name": "stdout",
     "output_type": "stream",
     "text": [
      "Bgen('example.bgen')\n"
     ]
    },
    {
     "data": {
      "text/plain": [
       "array([[[           nan,            nan,            nan],\n",
       "        [5.06591937e-03, 2.07519974e-03, 9.92858881e-01],\n",
       "        [9.92095944e-01, 3.05176014e-04, 7.59887952e-03],\n",
       "        [4.88280947e-03, 2.83812969e-02, 9.66735894e-01]],\n",
       "\n",
       "       [[2.78023628e-02, 8.63673794e-03, 9.63560899e-01],\n",
       "        [9.64354910e-03, 2.68554967e-03, 9.87670901e-01],\n",
       "        [1.22986045e-02, 9.81567363e-01, 6.13403227e-03],\n",
       "        [9.90448002e-01, 9.27734003e-03, 2.74657970e-04]]])"
      ]
     },
     "execution_count": 2,
     "metadata": {},
     "output_type": "execute_result"
    }
   ],
   "source": [
    "from pysnptools.distreader import Bgen\n",
    "distreader = Bgen(\"example.bgen\")\n",
    "\n",
    "print(distreader)\n",
    "distreader[:2,:4].read().val"
   ]
  },
  {
   "cell_type": "markdown",
   "metadata": {},
   "source": [
    "#### Ask the distreader for the first 5 individual ID's, SNP ID's, and position info.\n",
    "\n",
    "By default, it fills in the family id with '0' and concats BGEN's RSID and SNPID with a comma."
   ]
  },
  {
   "cell_type": "code",
   "execution_count": 8,
   "metadata": {},
   "outputs": [
    {
     "name": "stdout",
     "output_type": "stream",
     "text": [
      "[['0' 'sample_001']\n",
      " ['0' 'sample_002']\n",
      " ['0' 'sample_003']\n",
      " ['0' 'sample_004']\n",
      " ['0' 'sample_005']]\n",
      "['SNPID_2,RSID_2' 'SNPID_3,RSID_3' 'SNPID_4,RSID_4' 'SNPID_5,RSID_5'\n",
      " 'SNPID_6,RSID_6']\n",
      "[[1.e+00 0.e+00 2.e+03]\n",
      " [1.e+00 0.e+00 3.e+03]\n",
      " [1.e+00 0.e+00 4.e+03]\n",
      " [1.e+00 0.e+00 5.e+03]\n",
      " [1.e+00 0.e+00 6.e+03]]\n"
     ]
    }
   ],
   "source": [
    "print(distreader.iid[:5])\n",
    "print(distreader.sid[:5])\n",
    "print(distreader.pos[:5])"
   ]
  },
  {
   "cell_type": "markdown",
   "metadata": {},
   "source": [
    "#### Convert distribution to expected value, on the fly, with 'as_snp'"
   ]
  },
  {
   "cell_type": "code",
   "execution_count": 12,
   "metadata": {},
   "outputs": [
    {
     "name": "stdout",
     "output_type": "stream",
     "text": [
      "Bgen('example.bgen').as_snp()\n"
     ]
    },
    {
     "data": {
      "text/plain": [
       "array([[       nan, 0.99389648, 0.00775147, 0.98092654],\n",
       "       [0.96787927, 0.98901368, 0.49691771, 0.00491333]])"
      ]
     },
     "execution_count": 12,
     "metadata": {},
     "output_type": "execute_result"
    }
   ],
   "source": [
    "expectedreader = distreader.as_snp(max_weight=1)\n",
    "print(expectedreader)\n",
    "expectedreader[:2,:4].read().val"
   ]
  },
  {
   "cell_type": "markdown",
   "metadata": {},
   "source": [
    "#### We can also turn any SNP reader (such as 'Bed') into an on-the-fly distribution reader with 'as_dist'."
   ]
  },
  {
   "cell_type": "code",
   "execution_count": 13,
   "metadata": {},
   "outputs": [
    {
     "name": "stdout",
     "output_type": "stream",
     "text": [
      "[[0. 0. 1. 2.]\n",
      " [0. 0. 1. 1.]]\n",
      "Bed('all.bed',count_A1=True).as_dist()\n"
     ]
    },
    {
     "data": {
      "text/plain": [
       "array([[[1., 0., 0.],\n",
       "        [1., 0., 0.],\n",
       "        [0., 1., 0.],\n",
       "        [0., 0., 1.]],\n",
       "\n",
       "       [[1., 0., 0.],\n",
       "        [1., 0., 0.],\n",
       "        [0., 1., 0.],\n",
       "        [0., 1., 0.]]])"
      ]
     },
     "execution_count": 13,
     "metadata": {},
     "output_type": "execute_result"
    }
   ],
   "source": [
    "from pysnptools.snpreader import Bed\n",
    "snpreader = Bed(\"all.bed\", count_A1=True)\n",
    "print(snpreader[:2,:4].read().val)\n",
    "snptodist = snpreader.as_dist()\n",
    "print(snptodist)\n",
    "snptodist[:2,:4].read().val"
   ]
  },
  {
   "cell_type": "code",
   "execution_count": null,
   "metadata": {},
   "outputs": [],
   "source": [
    "#!!!cmk If we have qctools installed and an e variable set, we can write to BGEN."
   ]
  },
  {
   "cell_type": "code",
   "execution_count": 15,
   "metadata": {},
   "outputs": [
    {
     "name": "stdout",
     "output_type": "stream",
     "text": [
      "Bgen('temp.bgen')\n"
     ]
    }
   ],
   "source": [
    "tempbgen = Bgen.write('temp.bgen',distreader,bits=16,compression='zlib')\n",
    "print(tempbgen)"
   ]
  },
  {
   "cell_type": "code",
   "execution_count": null,
   "metadata": {},
   "outputs": [],
   "source": []
  },
  {
   "cell_type": "code",
   "execution_count": null,
   "metadata": {},
   "outputs": [],
   "source": []
  },
  {
   "cell_type": "code",
   "execution_count": null,
   "metadata": {},
   "outputs": [],
   "source": []
  },
  {
   "cell_type": "code",
   "execution_count": null,
   "metadata": {},
   "outputs": [],
   "source": []
  },
  {
   "cell_type": "markdown",
   "metadata": {},
   "source": [
    "#### Convert a Bed reader into a distribution reader"
   ]
  },
  {
   "cell_type": "code",
   "execution_count": 3,
   "metadata": {},
   "outputs": [
    {
     "name": "stdout",
     "output_type": "stream",
     "text": [
      "Bed('all.bed',count_A1=True).as_dist()\n"
     ]
    },
    {
     "data": {
      "text/plain": [
       "array([[[1., 0., 0.],\n",
       "        [1., 0., 0.],\n",
       "        [0., 1., 0.],\n",
       "        [0., 0., 1.]],\n",
       "\n",
       "       [[1., 0., 0.],\n",
       "        [1., 0., 0.],\n",
       "        [0., 1., 0.],\n",
       "        [0., 1., 0.]]])"
      ]
     },
     "execution_count": 3,
     "metadata": {},
     "output_type": "execute_result"
    }
   ],
   "source": [
    "snptodist = snpreader.as_dist()\n",
    "print(snptodist)\n",
    "snptodist[:2,:4].read().val"
   ]
  },
  {
   "cell_type": "markdown",
   "metadata": {},
   "source": [
    "#### Read a few values from the distribution reader. They are a 3D numpy array."
   ]
  },
  {
   "cell_type": "code",
   "execution_count": 5,
   "metadata": {},
   "outputs": [
    {
     "data": {
      "text/plain": [
       "array([[[1., 0., 0.],\n",
       "        [1., 0., 0.],\n",
       "        [0., 1., 0.],\n",
       "        [0., 0., 1.]],\n",
       "\n",
       "       [[1., 0., 0.],\n",
       "        [1., 0., 0.],\n",
       "        [0., 1., 0.],\n",
       "        [0., 1., 0.]]])"
      ]
     },
     "execution_count": 5,
     "metadata": {},
     "output_type": "execute_result"
    }
   ],
   "source": [
    "distdata = distreader[:2,:4].read()\n",
    "distdata.val"
   ]
  },
  {
   "cell_type": "markdown",
   "metadata": {},
   "source": [
    "#### Write the distribution values to a file."
   ]
  },
  {
   "cell_type": "code",
   "execution_count": 6,
   "metadata": {},
   "outputs": [
    {
     "data": {
      "text/plain": [
       "DistMemMap('sample.dist.memmap')"
      ]
     },
     "execution_count": 6,
     "metadata": {},
     "output_type": "execute_result"
    }
   ],
   "source": [
    "from pysnptools.distreader import DistMemMap\n",
    "DistMemMap.write('sample.dist.memmap',distdata)"
   ]
  },
  {
   "cell_type": "markdown",
   "metadata": {},
   "source": [
    "##### Read from the file. Listing the individual ID's the SNP id's and the values."
   ]
  },
  {
   "cell_type": "code",
   "execution_count": 7,
   "metadata": {},
   "outputs": [
    {
     "name": "stdout",
     "output_type": "stream",
     "text": [
      "[['cid0P0' 'cid0P0']\n",
      " ['cid1P0' 'cid1P0']]\n",
      "['snp625_m0_.03m1_.07' 'snp1750_m0_.02m1_.04' 'snp0_m0_.37m1_.24'\n",
      " 'snp375_m0_.52m1_.68']\n",
      "[[[1. 0. 0.]\n",
      "  [1. 0. 0.]\n",
      "  [0. 1. 0.]\n",
      "  [0. 0. 1.]]\n",
      "\n",
      " [[1. 0. 0.]\n",
      "  [1. 0. 0.]\n",
      "  [0. 1. 0.]\n",
      "  [0. 1. 0.]]]\n"
     ]
    }
   ],
   "source": [
    "distmemmap = DistMemMap('sample.dist.memmap')\n",
    "print(distmemmap.iid)\n",
    "print(distmemmap.sid)\n",
    "print(distmemmap.val)"
   ]
  },
  {
   "cell_type": "markdown",
   "metadata": {},
   "source": [
    "#### Create an in-memory distribution\n",
    "* Create via random\n",
    "* Create a second distribution with the individuals reversed and with every 10th SNP.\n",
    "* Print the start of the 2nd distribution's individual ID's the SNP id's and the values"
   ]
  },
  {
   "cell_type": "code",
   "execution_count": 8,
   "metadata": {},
   "outputs": [
    {
     "name": "stdout",
     "output_type": "stream",
     "text": [
      "[['fam0' 'iid99']\n",
      " ['fam0' 'iid98']\n",
      " ['fam0' 'iid97']]\n",
      "['sid0' 'sid10' 'sid20']\n",
      "[[[0.20081495 0.4737261  0.32545895]\n",
      "  [0.52343568 0.16311684 0.31344748]\n",
      "  [0.26296867 0.5548358  0.18219553]]\n",
      "\n",
      " [[0.29093073 0.36418333 0.34488594]\n",
      "  [0.12887058 0.64865356 0.22247586]\n",
      "  [0.00325359 0.69403215 0.30271426]]\n",
      "\n",
      " [[0.02445881 0.66399687 0.31154432]\n",
      "  [0.33538909 0.35483828 0.30977264]\n",
      "  [0.40125371 0.25403278 0.34471351]]]\n"
     ]
    }
   ],
   "source": [
    "from pysnptools.distreader import DistData\n",
    "import numpy as np\n",
    "\n",
    "np.random.seed(0)\n",
    "iid_count = 100\n",
    "sid_count = 1000\n",
    "val = np.random.random((iid_count,sid_count,3))\n",
    "val /= val.sum(axis=2,keepdims=True)  #make probabilities sum to 1\n",
    "distdata = DistData(val=val,\n",
    "                    iid=[('fam0','iid{0}'.format(i)) for i in range(iid_count)],\n",
    "                    sid=['sid{0}'.format(s) for s in range(sid_count)]\n",
    "                    )\n",
    "distdata2 = distdata[::-1,::10].read()\n",
    "print(distdata2.iid[:3])\n",
    "print(distdata2.sid[:3])\n",
    "print(distdata2.val[:3,:3])"
   ]
  },
  {
   "cell_type": "code",
   "execution_count": 10,
   "metadata": {},
   "outputs": [
    {
     "data": {
      "text/plain": [
       "'/mnt/d/OneDrive/programs/pysnptools/doc/ipynb'"
      ]
     },
     "execution_count": 10,
     "metadata": {},
     "output_type": "execute_result"
    }
   ],
   "source": [
    "import os\n",
    "os.getcwd()"
   ]
  },
  {
   "cell_type": "code",
   "execution_count": 12,
   "metadata": {},
   "outputs": [
    {
     "data": {
      "text/plain": [
       "(500, 199)"
      ]
     },
     "execution_count": 12,
     "metadata": {},
     "output_type": "execute_result"
    }
   ],
   "source": [
    "# test bgen reading\n",
    "from pysnptools.distreader.bgen import Bgen\n",
    "bgenfile = '../../pysnptools/examples/example.bgen'\n",
    "bgen = Bgen(bgenfile)\n",
    "bgen.shape"
   ]
  },
  {
   "cell_type": "code",
   "execution_count": 14,
   "metadata": {},
   "outputs": [],
   "source": [
    "#!!!cmk would be nice to have *MemMap writes know how to work from *Readers and have optional runners\n",
    "memmapfile = 'example32.dist.memmap'\n",
    "memmap = DistMemMap.write(memmapfile,bgen,dtype=np.float32)"
   ]
  },
  {
   "cell_type": "code",
   "execution_count": 15,
   "metadata": {},
   "outputs": [
    {
     "data": {
      "text/plain": [
       "(665108, 1223028, 1.8388412107507353)"
      ]
     },
     "execution_count": 15,
     "metadata": {},
     "output_type": "execute_result"
    }
   ],
   "source": [
    "bgensize = os.stat(bgenfile).st_size\n",
    "memmapsize = os.stat(memmapfile).st_size\n",
    "bgensize,memmapsize,memmapsize/bgensize"
   ]
  },
  {
   "cell_type": "code",
   "execution_count": null,
   "metadata": {},
   "outputs": [],
   "source": []
  },
  {
   "cell_type": "code",
   "execution_count": null,
   "metadata": {},
   "outputs": [],
   "source": []
  },
  {
   "cell_type": "code",
   "execution_count": 16,
   "metadata": {},
   "outputs": [
    {
     "data": {
      "text/plain": [
       "memmap([[[           nan,            nan,            nan],\n",
       "         [5.06591937e-03, 2.07519974e-03, 9.92858887e-01],\n",
       "         [9.92095947e-01, 3.05176014e-04, 7.59887975e-03],\n",
       "         [4.88280971e-03, 2.83812974e-02, 9.66735899e-01],\n",
       "         [2.92977947e-03, 9.96612430e-01, 4.57778107e-04]],\n",
       "\n",
       "        [[2.78023630e-02, 8.63673817e-03, 9.63560879e-01],\n",
       "         [9.64354910e-03, 2.68554967e-03, 9.87670898e-01],\n",
       "         [1.22986045e-02, 9.81567383e-01, 6.13403227e-03],\n",
       "         [9.90447998e-01, 9.27734002e-03, 2.74657970e-04],\n",
       "         [9.93530273e-01, 2.38037063e-03, 4.08936106e-03]],\n",
       "\n",
       "        [[1.73650365e-02, 4.96841371e-02, 9.32950854e-01],\n",
       "         [9.79705811e-01, 1.94701962e-02, 8.23974842e-04],\n",
       "         [4.79125930e-03, 1.10778986e-02, 9.84130859e-01],\n",
       "         [9.89319146e-01, 3.90613219e-03, 6.77469606e-03],\n",
       "         [9.84344482e-01, 7.14111375e-03, 8.51440430e-03]],\n",
       "\n",
       "        [[2.48717945e-02, 9.32830811e-01, 4.22973931e-02],\n",
       "         [9.81903613e-01, 5.30989561e-03, 1.27865039e-02],\n",
       "         [4.73022042e-03, 9.94934082e-01, 3.35693127e-04],\n",
       "         [6.62231259e-03, 9.83276367e-01, 1.01013044e-02],\n",
       "         [9.95758057e-01, 1.77002023e-03, 2.47192010e-03]],\n",
       "\n",
       "        [[3.46068814e-02, 1.91955902e-02, 9.46197510e-01],\n",
       "         [7.20192678e-03, 9.84375477e-01, 8.42258893e-03],\n",
       "         [9.00269020e-03, 3.20434989e-03, 9.87792969e-01],\n",
       "         [2.89917015e-03, 9.82666016e-01, 1.44348005e-02],\n",
       "         [1.20239053e-02, 9.86816406e-01, 1.15967053e-03]]], dtype=float32)"
      ]
     },
     "execution_count": 16,
     "metadata": {},
     "output_type": "execute_result"
    }
   ],
   "source": [
    "memmap.val[:5,:5,:]"
   ]
  },
  {
   "cell_type": "code",
   "execution_count": 17,
   "metadata": {},
   "outputs": [],
   "source": [
    "memmap.flush()"
   ]
  },
  {
   "cell_type": "markdown",
   "metadata": {},
   "source": [
    "#/mnt/f/backup/carlk4d/data/carlk/cachebio/genetics/onemil/id1000000.sid_1000000.seed0.byiid.bychrom/iid620000to630000.chrom1.bed\n",
    "#F:\\backup\\carlk4d\\data\\carlk\\cachebio\\genetics\\onemil\\id1000000.sid_1000000.seed0.byiid.bychrom\\iid620000to630000.chrom1.bed\n",
    "209,629,000 bytes\n",
    "#to \n",
    "#UKbio using 8 bits per probability, \n",
    "#Qctool convertion with 10K IID and 100K SNPs takes 3000 seconds\n",
    "(py2) carlk@kadie2:/mnt/m/qctool$ build/release/qctool_v2.0.7 -g /mnt/f/backup/carlk4d/data/carlk/cachebio/genetics/onemil/id1000000.sid_1000000.seed0.byiid.bychrom/iid620000to630000.chrom1.bed -og /mnt/m/big.bgen\n",
    "    \n",
    "#-bgen-bits\tFor use when outputting BGEN files only. Tell QCTOOL to use this number of bits to store each probability.\n",
    "#-bgen-compression\tSpecify what compression to use when outputting BGEN files only. This can be \"none\", \"zlib\", or \"zstd\".    \n",
    "\n",
    "#https://bitbucket.org/gavinband/bgen/wiki/BGEN_in_the_UK_Biobank\n",
    "8bit and zlib\n",
    "\n",
    "(py2) carlk@kadie2:/mnt/m/qctool$ build/release/qctool_v2.0.7 -g /mnt/d/deldir/testsnps_1_10_50000_50000/data/chrom8.piece4of5.bed -og /mnt/m/1m.bgen -bg\n",
    "en-bits 8 -bgen-compression zlib\n",
    "9827000 bytes, 50Kiid, 805 snps, convertion takes 1.5 minutes\n",
    "5492 bgen"
   ]
  },
  {
   "cell_type": "code",
   "execution_count": 25,
   "metadata": {},
   "outputs": [],
   "source": [
    "mtop = '/mnt/m' # r'M:'\n",
    "dtop = '/mnt/d' # r'D:''"
   ]
  },
  {
   "cell_type": "code",
   "execution_count": 20,
   "metadata": {},
   "outputs": [
    {
     "data": {
      "text/plain": [
       "(50000, 805)"
      ]
     },
     "execution_count": 20,
     "metadata": {},
     "output_type": "execute_result"
    }
   ],
   "source": [
    "from pysnptools.distreader.bgen import Bgen\n",
    "bgenfile = mtop+'/1m.bgen'\n",
    "bgen = Bgen(bgenfile)\n",
    "bgen.shape"
   ]
  },
  {
   "cell_type": "code",
   "execution_count": 22,
   "metadata": {},
   "outputs": [],
   "source": [
    "memmapfile = mtop+'/1m.dist.memmap'\n",
    "memmap = DistMemMap.write(memmapfile,bgen,dtype=np.float32)"
   ]
  },
  {
   "cell_type": "code",
   "execution_count": 23,
   "metadata": {},
   "outputs": [
    {
     "data": {
      "text/plain": [
       "(5623459, 484272356, 86.11645537026233)"
      ]
     },
     "execution_count": 23,
     "metadata": {},
     "output_type": "execute_result"
    }
   ],
   "source": [
    "bgensize = os.stat(bgenfile).st_size\n",
    "memmapsize = os.stat(memmapfile).st_size\n",
    "bgensize,memmapsize,memmapsize/bgensize"
   ]
  },
  {
   "cell_type": "code",
   "execution_count": 24,
   "metadata": {},
   "outputs": [
    {
     "data": {
      "text/plain": [
       "array([[[nan, nan, nan],\n",
       "        [ 0.,  0.,  1.],\n",
       "        [ 0.,  0.,  1.],\n",
       "        [ 0.,  0.,  1.],\n",
       "        [ 0.,  0.,  1.],\n",
       "        [nan, nan, nan],\n",
       "        [ 0.,  0.,  1.],\n",
       "        [nan, nan, nan],\n",
       "        [ 0.,  0.,  1.],\n",
       "        [ 0.,  0.,  1.]]])"
      ]
     },
     "execution_count": 24,
     "metadata": {},
     "output_type": "execute_result"
    }
   ],
   "source": [
    "bgen[1,50:60].read().val"
   ]
  },
  {
   "cell_type": "code",
   "execution_count": 28,
   "metadata": {},
   "outputs": [
    {
     "data": {
      "text/plain": [
       "array([[nan,  0.,  0., ...,  0.,  0.,  0.],\n",
       "       [ 0.,  0.,  0., ...,  0.,  0.,  0.],\n",
       "       [ 0.,  0.,  0., ...,  0.,  0., nan],\n",
       "       ...,\n",
       "       [nan, nan,  0., ...,  0.,  0.,  0.],\n",
       "       [ 0.,  0.,  0., ...,  0., nan, nan],\n",
       "       [ 0.,  0.,  0., ...,  0.,  0.,  0.]])"
      ]
     },
     "execution_count": 28,
     "metadata": {},
     "output_type": "execute_result"
    }
   ],
   "source": [
    "from pysnptools.snpreader import Bed\n",
    "bed = Bed(dtop+'/deldir/testsnps_1_10_50000_50000/data/chrom8.piece4of5.bed',count_A1=True)\n",
    "bed[0:20,300:5000].read().val"
   ]
  },
  {
   "cell_type": "code",
   "execution_count": null,
   "metadata": {},
   "outputs": [],
   "source": [
    "iid_count = 500*1000\n",
    "sid_count = 500\n",
    "from pysnptools.distreader import DistGen\n",
    "from pysnptools.distreader import Bgen\n",
    "gen_file = r'm:\\deldir\\{0}x{1}.gen'.format(iid_count,sid_count)\n",
    "sample_file2 = r'/mnt/m/deldir/{0}x{1}.sample'.format(iid_count,sid_count)\n",
    "gen_file2 = r'/mnt/m/deldir/{0}x{1}.gen'.format(iid_count,sid_count)\n",
    "bgen_file = r'm:\\deldir\\{0}x{1}.bgen'.format(iid_count,sid_count)\n",
    "bgen_file2 = r'/mnt/m/deldir/{0}x{1}.bgen'.format(iid_count,sid_count)"
   ]
  },
  {
   "cell_type": "code",
   "execution_count": null,
   "metadata": {},
   "outputs": [],
   "source": [
    "distgen = DistGen(seed=332,iid_count=iid_count,sid_count=sid_count)\n",
    "Bgen.genwrite(gen_file,distgen.read(),decimal_places=5)\n",
    "print ('/mnt/m/qctool/build/release/qctool_v2.0.7 -g {0} -s {1} -og {2} -bgen-bits 8 -bgen-compression zlib'.format(gen_file2,sample_file2,bgen_file2))"
   ]
  },
  {
   "cell_type": "code",
   "execution_count": null,
   "metadata": {},
   "outputs": [],
   "source": [
    "distgen.pos"
   ]
  },
  {
   "cell_type": "code",
   "execution_count": null,
   "metadata": {},
   "outputs": [],
   "source": [
    "bgen_file"
   ]
  },
  {
   "cell_type": "code",
   "execution_count": null,
   "metadata": {},
   "outputs": [],
   "source": [
    "bgen = Bgen(bgen_file,metadata=False) #!!!cmk metadata creation will fail, #!!!cmk False will create it?????\n",
    "bgen.iid,bgen.sid,bgen.pos"
   ]
  },
  {
   "cell_type": "code",
   "execution_count": null,
   "metadata": {},
   "outputs": [],
   "source": [
    "bgen[::100000,::50].read().val"
   ]
  },
  {
   "cell_type": "code",
   "execution_count": null,
   "metadata": {},
   "outputs": [],
   "source": [
    "iid_count = 500*1000\n",
    "sid_count = 5*1000*1000\n",
    "\n",
    "from pysnptools.distreader import DistGen\n",
    "from pysnptools.distreader import Bgen\n",
    "distgen = DistGen(seed=332,iid_count=iid_count,sid_count=sid_count)\n",
    "chrom_list = sorted(set(distgen.pos[:,0]))\n",
    "len(chrom_list)"
   ]
  },
  {
   "cell_type": "code",
   "execution_count": null,
   "metadata": {},
   "outputs": [],
   "source": [
    "import logging\n",
    "logging.basicConfig(level=logging.INFO)\n",
    "for chrom in chrom_list[::-1]:\n",
    "    chromgen = distgen[:,distgen.pos[:,0]==chrom]\n",
    "    print(chrom,chromgen.sid_count)\n",
    "    name = '{0}x{1}.chrom{2}'.format(iid_count,sid_count,int(chrom))\n",
    "    gen_file = r'm:\\deldir\\{0}.gen'.format(name)\n",
    "    sample_file2 = r'/mnt/m/deldir/{0}.sample'.format(name)\n",
    "    gen_file2 = r'/mnt/m/deldir/{0}.gen'.format(name)\n",
    "    print(\"about to read {0}x{1}\".format(chromgen.iid_count,chromgen.sid_count))\n",
    "    Bgen.genwrite(gen_file,chromgen,decimal_places=5) #better in batches?\n",
    "    print(\"done\")\n",
    "    bgen_file = r'm:\\deldir\\{0}.bgen'.format(name)\n",
    "    bgen_file2 = r'/mnt/m/deldir/{0}.bgen'.format(name)\n",
    "    print ('/mnt/m/qctool/build/release/qctool_v2.0.7 -g {0} -s {1} -og {2} -bgen-bits 8 -bgen-compression zlib'.format(gen_file2,sample_file2,bgen_file2))"
   ]
  },
  {
   "cell_type": "code",
   "execution_count": null,
   "metadata": {},
   "outputs": [],
   "source": [
    "chromgen"
   ]
  },
  {
   "cell_type": "code",
   "execution_count": null,
   "metadata": {},
   "outputs": [],
   "source": [
    "import logging\n",
    "logging.basicConfig(level=logging.INFO)\n",
    "from pysnptools.distreader import Bgen\n",
    "bgen = Bgen(r'M:\\deldir\\500000x100.bgen',verbose=True)\n",
    "print(bgen.shape)"
   ]
  },
  {
   "cell_type": "code",
   "execution_count": null,
   "metadata": {},
   "outputs": [],
   "source": [
    "%%time\n",
    "bgen[0,50:60].read().val"
   ]
  },
  {
   "cell_type": "code",
   "execution_count": null,
   "metadata": {},
   "outputs": [],
   "source": [
    "import logging\n",
    "import os\n",
    "logging.basicConfig(level=logging.INFO)\n",
    "from pysnptools.distreader import DistMemMap\n",
    "distmammap_file = r'M:\\deldir\\500000x100.dist.memmap'\n",
    "if not os.path.exists(distmammap_file):\n",
    "    distmemmap = DistMemMap.write(distmammap_file,bgen,dtype='float32',sid_batch_size=2)\n",
    "else:\n",
    "    distmemmap = DistMemMap(distmammap_file)\n",
    "distmemmap    "
   ]
  },
  {
   "cell_type": "code",
   "execution_count": null,
   "metadata": {},
   "outputs": [],
   "source": [
    "%%time\n",
    "distmemmap.val[::50000,::10]"
   ]
  },
  {
   "cell_type": "code",
   "execution_count": null,
   "metadata": {},
   "outputs": [],
   "source": [
    "%%time\n",
    "from pysnptools.distreader import Bgen\n",
    "bgen2 = Bgen(r'M:\\deldir\\1x1000000.bgen',verbose=True) #!!!cmk why does this keep re-\"Mapping variants\" after metadata file already there?\n",
    "#!!!cmk why slow even after mapping is done?\n",
    "print(bgen2.shape)"
   ]
  },
  {
   "cell_type": "code",
   "execution_count": null,
   "metadata": {},
   "outputs": [],
   "source": [
    "%%time\n",
    "bgen2.shape"
   ]
  },
  {
   "cell_type": "code",
   "execution_count": null,
   "metadata": {},
   "outputs": [],
   "source": [
    "%%time\n",
    "start = 2500000\n",
    "bgen2[-1,start:start+100].read().val"
   ]
  },
  {
   "cell_type": "code",
   "execution_count": null,
   "metadata": {},
   "outputs": [],
   "source": [
    "import logging\n",
    "import os\n",
    "logging.basicConfig(level=logging.INFO)\n",
    "from pysnptools.distreader import DistMemMap\n",
    "distmammap_file2 = r'M:\\deldir\\1x5000000.dist.memmap'\n",
    "if not os.path.exists(distmammap_file2):\n",
    "    distmemmap2 = DistMemMap.write(distmammap_file2,bgen2,dtype='float32',sid_batch_size=10)\n",
    "else:\n",
    "    distmemmap2 = DistMemMap(distmammap_file2)\n",
    "distmemmap2    "
   ]
  },
  {
   "cell_type": "code",
   "execution_count": 6,
   "metadata": {},
   "outputs": [
    {
     "name": "stdout",
     "output_type": "stream",
     "text": [
      "We will create the metafile `m:\\deldir\\1x1000000.bgen.metadata`. This file will speed up further\n",
      "reads and only need to be created once. So, please, bear with me.\n"
     ]
    },
    {
     "name": "stderr",
     "output_type": "stream",
     "text": [
      "Mapping variants: 100%|███████████████████████████████████████████████████| 1000000/1000000 [00:16<00:00, 59736.24it/s]"
     ]
    },
    {
     "name": "stdout",
     "output_type": "stream",
     "text": [
      "Wall time: 22.5 s\n"
     ]
    },
    {
     "name": "stderr",
     "output_type": "stream",
     "text": [
      "\n"
     ]
    }
   ],
   "source": [
    "%%time\n",
    "#/mnt/m/qctool/build/release/qctool_v2.0.7 -g /mnt/m/deldir/1x1000000.gen -s /mnt/m/deldir/1x1000000.sample -og /mnt/m/deldir/1x1000000.bgen -bgen-bits 8 -bgen-compression zlib   \n",
    "from bgen_reader import read_bgen\n",
    "filename = r'm:\\deldir\\1x1000000.bgen'\n",
    "bgen = read_bgen(filename,verbose=True)"
   ]
  },
  {
   "cell_type": "code",
   "execution_count": 4,
   "metadata": {},
   "outputs": [
    {
     "name": "stdout",
     "output_type": "stream",
     "text": [
      "Wall time: 10.9 s -- time=0:00:03.93, 990,000 of 1,000,000\n"
     ]
    }
   ],
   "source": [
    "%%time\n",
    "import logging\n",
    "logging.basicConfig(level=logging.INFO)\n",
    "from pysnptools.distreader import Bgen\n",
    "bgen2 = Bgen(filename,verbose=True)\n",
    "bgen2._run_once() #Force it to create its metafile.npz now (does not use *.metadata)"
   ]
  },
  {
   "cell_type": "code",
   "execution_count": 7,
   "metadata": {},
   "outputs": [
    {
     "name": "stdout",
     "output_type": "stream",
     "text": [
      "Wall time: 16.5 s\n"
     ]
    },
    {
     "data": {
      "text/plain": [
       "1000000"
      ]
     },
     "execution_count": 7,
     "metadata": {},
     "output_type": "execute_result"
    }
   ],
   "source": [
    "%%time\n",
    "id_list = bgen['variants']['id']\n",
    "len(id_list)"
   ]
  },
  {
   "cell_type": "code",
   "execution_count": 9,
   "metadata": {},
   "outputs": [
    {
     "name": "stdout",
     "output_type": "stream",
     "text": [
      "Wall time: 0 ns\n"
     ]
    },
    {
     "data": {
      "text/plain": [
       "1000000"
      ]
     },
     "execution_count": 9,
     "metadata": {},
     "output_type": "execute_result"
    }
   ],
   "source": [
    "%%time\n",
    "id_list = bgen2.sid\n",
    "len(id_list)"
   ]
  },
  {
   "cell_type": "code",
   "execution_count": 10,
   "metadata": {},
   "outputs": [
    {
     "name": "stdout",
     "output_type": "stream",
     "text": [
      "Wall time: 18.4 s\n"
     ]
    },
    {
     "data": {
      "text/plain": [
       "1000000"
      ]
     },
     "execution_count": 10,
     "metadata": {},
     "output_type": "execute_result"
    }
   ],
   "source": [
    "%%time\n",
    "chrom_list = bgen['variants']['chrom']\n",
    "len(chrom_list)"
   ]
  },
  {
   "cell_type": "code",
   "execution_count": 11,
   "metadata": {},
   "outputs": [
    {
     "name": "stdout",
     "output_type": "stream",
     "text": [
      "Wall time: 0 ns\n"
     ]
    },
    {
     "data": {
      "text/plain": [
       "1000000"
      ]
     },
     "execution_count": 11,
     "metadata": {},
     "output_type": "execute_result"
    }
   ],
   "source": [
    "%%time\n",
    "chrom_list = bgen2.pos[:,0]\n",
    "len(chrom_list)"
   ]
  },
  {
   "cell_type": "code",
   "execution_count": 12,
   "metadata": {},
   "outputs": [
    {
     "name": "stdout",
     "output_type": "stream",
     "text": [
      "Wall time: 151 ms\n"
     ]
    },
    {
     "data": {
      "text/plain": [
       "array([[0.65490196, 0.2       , 0.14509804]])"
      ]
     },
     "execution_count": 12,
     "metadata": {},
     "output_type": "execute_result"
    }
   ],
   "source": [
    "%%time\n",
    "bgen[\"genotype\"][500000].compute()['probs']"
   ]
  },
  {
   "cell_type": "code",
   "execution_count": 13,
   "metadata": {},
   "outputs": [
    {
     "name": "stdout",
     "output_type": "stream",
     "text": [
      "Reading Metadata  -- time=0:00:00, 0 of 1\r",
      "Wall time: 53.3 ms\n"
     ]
    },
    {
     "data": {
      "text/plain": [
       "DistData(Bgen('m:\\deldir\\1x1000000.bgen')[:,500000])"
      ]
     },
     "execution_count": 13,
     "metadata": {},
     "output_type": "execute_result"
    }
   ],
   "source": [
    "%%time\n",
    "bgen2[:,500000].read()"
   ]
  },
  {
   "cell_type": "code",
   "execution_count": 29,
   "metadata": {},
   "outputs": [
    {
     "name": "stdout",
     "output_type": "stream",
     "text": [
      "0.33333334\n",
      "Wall time: 21 s\n"
     ]
    }
   ],
   "source": [
    "%%time\n",
    "import numpy as np\n",
    "stop = 1000\n",
    "parray = np.zeros((1,stop,3),dtype='float32')\n",
    "for i in range(stop):\n",
    "    parray[0,i,:] =bgen[\"genotype\"][i].compute()['probs']\n",
    "print(np.nanmean(parray))"
   ]
  },
  {
   "cell_type": "code",
   "execution_count": 35,
   "metadata": {},
   "outputs": [
    {
     "name": "stdout",
     "output_type": "stream",
     "text": [
      "Reading Metadata  -- time=0:00:00.00, 0 of 1,000\r",
      "0.33333334\n",
      "Wall time: 45 ms\n"
     ]
    }
   ],
   "source": [
    "%%time\n",
    "stop = 1000\n",
    "parray = bgen2[:,:stop].read(dtype='float32')\n",
    "print(np.nanmean(parray.val))"
   ]
  },
  {
   "cell_type": "code",
   "execution_count": 39,
   "metadata": {},
   "outputs": [
    {
     "name": "stdout",
     "output_type": "stream",
     "text": [
      "(1, 1000000)data  -- time=0:00:31.14, 999,000 of 1,000,000\n",
      "0.3333333\n",
      "Wall time: 31.2 s\n"
     ]
    }
   ],
   "source": [
    "%%time\n",
    "stop = 1*1000*1000\n",
    "parray = bgen2[:,:stop].read(dtype='float32')\n",
    "print(parray.shape)\n",
    "print(np.nanmean(parray.val))"
   ]
  },
  {
   "cell_type": "code",
   "execution_count": null,
   "metadata": {},
   "outputs": [],
   "source": [
    "%%time\n",
    "del bgen\n",
    "bgen = read_bgen(filename,verbose=True)"
   ]
  },
  {
   "cell_type": "code",
   "execution_count": null,
   "metadata": {},
   "outputs": [],
   "source": [
    "%%time\n",
    "chrom_list = bgen['variants']['chrom']\n",
    "len(chrom_list)"
   ]
  },
  {
   "cell_type": "code",
   "execution_count": 1,
   "metadata": {},
   "outputs": [
    {
     "data": {
      "text/plain": [
       "DistGen(seed=332,iid_count=100,sid_count=1000,chrom_count=22,sid_batch_size=1000,cache_file=None)"
      ]
     },
     "execution_count": 1,
     "metadata": {},
     "output_type": "execute_result"
    }
   ],
   "source": [
    "from pysnptools.distreader import DistGen\n",
    "iid_count = 100\n",
    "sid_count = 1000\n",
    "distgen = DistGen(seed=332,iid_count=iid_count,sid_count=sid_count)\n",
    "distgen"
   ]
  },
  {
   "cell_type": "code",
   "execution_count": 2,
   "metadata": {},
   "outputs": [
    {
     "data": {
      "text/plain": [
       "Bgen('/mnt/m/100x1000.bgen')"
      ]
     },
     "execution_count": 2,
     "metadata": {},
     "output_type": "execute_result"
    }
   ],
   "source": [
    "from pysnptools.distreader import Bgen\n",
    "mtop = '/mnt/m'\n",
    "qctool_path='/mnt/m/qctool/build/release/qctool_v2.0.7'\n",
    "bgen = Bgen.write(mtop+'/{0}x{1}.bgen'.format(iid_count,sid_count),distgen,qctool_path=qctool_path)#bits=32,\n",
    "bgen"
   ]
  },
  {
   "cell_type": "code",
   "execution_count": 9,
   "metadata": {},
   "outputs": [
    {
     "data": {
      "text/plain": [
       "0.466804"
      ]
     },
     "execution_count": 9,
     "metadata": {},
     "output_type": "execute_result"
    }
   ],
   "source": [
    "Bgen('/mnt/m/100x1000.bgen')[0,:5].read(dtype='float32').val[0,0][0]"
   ]
  },
  {
   "cell_type": "code",
   "execution_count": 8,
   "metadata": {},
   "outputs": [
    {
     "data": {
      "text/plain": [
       "0.4668119"
      ]
     },
     "execution_count": 8,
     "metadata": {},
     "output_type": "execute_result"
    }
   ],
   "source": [
    "distgen[0,:5].read(dtype='float32').val[0,0][0]"
   ]
  },
  {
   "cell_type": "code",
   "execution_count": 11,
   "metadata": {},
   "outputs": [
    {
     "name": "stdout",
     "output_type": "stream",
     "text": [
      "7\n"
     ]
    }
   ],
   "source": [
    "import math\n",
    "bits=23\n",
    "decimal_places = math.ceil(math.log(2**bits,10))\n",
    "print(decimal_places )"
   ]
  },
  {
   "cell_type": "code",
   "execution_count": 20,
   "metadata": {},
   "outputs": [
    {
     "data": {
      "text/plain": [
       "9.632959861247397"
      ]
     },
     "execution_count": 20,
     "metadata": {},
     "output_type": "execute_result"
    }
   ],
   "source": [
    "math.log(2**bits,10)"
   ]
  },
  {
   "cell_type": "code",
   "execution_count": 10,
   "metadata": {},
   "outputs": [
    {
     "data": {
      "text/plain": [
       "2"
      ]
     },
     "execution_count": 10,
     "metadata": {},
     "output_type": "execute_result"
    }
   ],
   "source": [
    "math.ceil(math.log(2^bits,10))"
   ]
  },
  {
   "cell_type": "markdown",
   "metadata": {},
   "source": [
    "2^32"
   ]
  },
  {
   "cell_type": "code",
   "execution_count": 12,
   "metadata": {},
   "outputs": [
    {
     "data": {
      "text/plain": [
       "4294967296"
      ]
     },
     "execution_count": 12,
     "metadata": {},
     "output_type": "execute_result"
    }
   ],
   "source": [
    "2**32"
   ]
  },
  {
   "cell_type": "code",
   "execution_count": 14,
   "metadata": {},
   "outputs": [
    {
     "data": {
      "text/plain": [
       "34"
      ]
     },
     "execution_count": 14,
     "metadata": {},
     "output_type": "execute_result"
    }
   ],
   "source": [
    "2^32"
   ]
  },
  {
   "cell_type": "code",
   "execution_count": 19,
   "metadata": {},
   "outputs": [
    {
     "data": {
      "text/plain": [
       "7"
      ]
     },
     "execution_count": 19,
     "metadata": {},
     "output_type": "execute_result"
    }
   ],
   "source": [
    "2^5"
   ]
  },
  {
   "cell_type": "code",
   "execution_count": 25,
   "metadata": {},
   "outputs": [
    {
     "name": "stderr",
     "output_type": "stream",
     "text": [
      "Mapping variants: 100%|██████████| 1/1 [00:00<00:00, 3994.58it/s]\n",
      "Mapping variants: 100%|██████████| 1/1 [00:00<00:00, 5017.11it/s]\n",
      "Mapping variants: 100%|██████████| 1/1 [00:00<00:00, 2205.21it/s]\n",
      "Mapping variants: 100%|██████████| 1/1 [00:00<00:00, 2343.19it/s]\n",
      "Mapping variants: 100%|██████████| 1/1 [00:00<00:00, 5405.03it/s]"
     ]
    },
    {
     "name": "stdout",
     "output_type": "stream",
     "text": [
      "6189 [1. 0. 0.]\n",
      "9545 [0.99346924 0.0027771  0.00375366]\n",
      "We will create the metafile `/mnt/d/OneDrive/Shares/bgenreaderpy/abs_errorX.bgen.metadata`. This file will speed up further\n",
      "reads and only need to be created once. So, please, bear with me.\n",
      "6189 [1. 0. 0.]\n",
      "File `/mnt/d/OneDrive/Shares/bgenreaderpy/abs_errorX.bgen` has been modified after the creation of `/mnt/d/OneDrive/Shares/bgenreaderpy/abs_errorX.bgen.metadata`.\n",
      "We will therefore recreate the metadata file. So, please, bear with me.\n",
      "9545 [1. 0. 0.]\n",
      "We will create the metafile `/mnt/d/OneDrive/Shares/bgenreaderpy/abs_errorX.bgen.metadata`. This file will speed up further\n",
      "reads and only need to be created once. So, please, bear with me.\n",
      "9545 [1. 0. 0.]\n"
     ]
    },
    {
     "name": "stderr",
     "output_type": "stream",
     "text": [
      "\n"
     ]
    }
   ],
   "source": [
    "import os\n",
    "import shutil\n",
    "from bgen_reader import read_bgen\n",
    "\n",
    "filename1 = '/mnt/d/OneDrive/Shares/bgenreaderpy/abs_error1.bgen'\n",
    "filename31 = '/mnt/d/OneDrive/Shares/bgenreaderpy/abs_error31.bgen'\n",
    "filenameX = '/mnt/d/OneDrive/Shares/bgenreaderpy/abs_errorX.bgen'\n",
    "\n",
    "rb1 = read_bgen(filename1,verbose=True)\n",
    "print(os.path.getsize(filename1), rb1[\"genotype\"][0].compute()['probs'][0])\n",
    "del rb1\n",
    "\n",
    "rb31 = read_bgen(filename31,verbose=True)\n",
    "print(os.path.getsize(filename31),rb31[\"genotype\"][0].compute()['probs'][0])\n",
    "del rb31\n",
    "\n",
    "shutil.copy(filename1,filenameX)\n",
    "rbX = read_bgen(filenameX,verbose=True)\n",
    "print(os.path.getsize(filenameX),rbX[\"genotype\"][0].compute()['probs'][0])\n",
    "del rbX\n",
    "\n",
    "shutil.copy(filename31,filenameX)\n",
    "rbX = read_bgen(filenameX,verbose=True)\n",
    "print(os.path.getsize(filenameX),rbX[\"genotype\"][0].compute()['probs'][0])\n",
    "del rbX\n",
    "\n",
    "os.remove(filenameX+'.metadata')\n",
    "rbX = read_bgen(filenameX,verbose=True)\n",
    "print(os.path.getsize(filenameX),rbX[\"genotype\"][0].compute()['probs'][0])\n",
    "del rbX\n"
   ]
  },
  {
   "cell_type": "code",
   "execution_count": null,
   "metadata": {},
   "outputs": [],
   "source": []
  }
 ],
 "metadata": {
  "kernelspec": {
   "display_name": "Python 3",
   "language": "python",
   "name": "python3"
  },
  "language_info": {
   "codemirror_mode": {
    "name": "ipython",
    "version": 3
   },
   "file_extension": ".py",
   "mimetype": "text/x-python",
   "name": "python",
   "nbconvert_exporter": "python",
   "pygments_lexer": "ipython3",
   "version": "3.7.4"
  }
 },
 "nbformat": 4,
 "nbformat_minor": 2
}
