{
 "cells": [
  {
   "cell_type": "markdown",
   "metadata": {},
   "source": [
    "#### Define a Bed reader and read a few values from it (they are a 2D numpy array)"
   ]
  },
  {
   "cell_type": "code",
   "execution_count": 2,
   "metadata": {},
   "outputs": [
    {
     "name": "stdout",
     "output_type": "stream",
     "text": [
      "Bed('all.bed',count_A1=True)\n"
     ]
    },
    {
     "data": {
      "text/plain": [
       "array([[0., 0., 1., 2.],\n",
       "       [0., 0., 1., 1.]])"
      ]
     },
     "execution_count": 2,
     "metadata": {},
     "output_type": "execute_result"
    }
   ],
   "source": [
    "import os\n",
    "import numpy as np\n",
    "\n",
    "from pysnptools.snpreader import Bed\n",
    "snpreader = Bed(\"all.bed\", count_A1=True)\n",
    "\n",
    "# What is snpreader?\n",
    "print(snpreader)\n",
    "snpreader[:2,:4].read().val"
   ]
  },
  {
   "cell_type": "markdown",
   "metadata": {},
   "source": [
    "#### Convert a Bed reader into a distribution reader"
   ]
  },
  {
   "cell_type": "code",
   "execution_count": 3,
   "metadata": {},
   "outputs": [
    {
     "data": {
      "text/plain": [
       "Snp2Dist(Bed('all.bed',count_A1=True))"
      ]
     },
     "execution_count": 3,
     "metadata": {},
     "output_type": "execute_result"
    }
   ],
   "source": [
    "from pysnptools.distreader import Snp2Dist\n",
    "distreader = Snp2Dist(snpreader)\n",
    "distreader"
   ]
  },
  {
   "cell_type": "markdown",
   "metadata": {},
   "source": [
    "#### Read a few values from the distribution reader. They are a 3D numpy array."
   ]
  },
  {
   "cell_type": "code",
   "execution_count": 4,
   "metadata": {},
   "outputs": [
    {
     "data": {
      "text/plain": [
       "array([[[1., 0., 0.],\n",
       "        [1., 0., 0.],\n",
       "        [0., 1., 0.],\n",
       "        [0., 0., 1.]],\n",
       "\n",
       "       [[1., 0., 0.],\n",
       "        [1., 0., 0.],\n",
       "        [0., 1., 0.],\n",
       "        [0., 1., 0.]]])"
      ]
     },
     "execution_count": 4,
     "metadata": {},
     "output_type": "execute_result"
    }
   ],
   "source": [
    "distdata = distreader[:2,:4].read()\n",
    "distdata.val"
   ]
  },
  {
   "cell_type": "markdown",
   "metadata": {},
   "source": [
    "#### Write the distribution values to a file."
   ]
  },
  {
   "cell_type": "code",
   "execution_count": 5,
   "metadata": {},
   "outputs": [
    {
     "data": {
      "text/plain": [
       "DistMemMap('sample.dist.memmap')"
      ]
     },
     "execution_count": 5,
     "metadata": {},
     "output_type": "execute_result"
    }
   ],
   "source": [
    "from pysnptools.distreader import DistMemMap\n",
    "DistMemMap.write('sample.dist.memmap',distdata)"
   ]
  },
  {
   "cell_type": "markdown",
   "metadata": {},
   "source": [
    "##### Read from the file. Listing the individual ID's the SNP id's and the values."
   ]
  },
  {
   "cell_type": "code",
   "execution_count": 6,
   "metadata": {},
   "outputs": [
    {
     "name": "stdout",
     "output_type": "stream",
     "text": [
      "[['cid0P0' 'cid0P0']\n",
      " ['cid1P0' 'cid1P0']]\n",
      "['snp625_m0_.03m1_.07' 'snp1750_m0_.02m1_.04' 'snp0_m0_.37m1_.24'\n",
      " 'snp375_m0_.52m1_.68']\n",
      "[[[1. 0. 0.]\n",
      "  [1. 0. 0.]\n",
      "  [0. 1. 0.]\n",
      "  [0. 0. 1.]]\n",
      "\n",
      " [[1. 0. 0.]\n",
      "  [1. 0. 0.]\n",
      "  [0. 1. 0.]\n",
      "  [0. 1. 0.]]]\n"
     ]
    }
   ],
   "source": [
    "distmemmap = DistMemMap('sample.dist.memmap')\n",
    "print(distmemmap.iid)\n",
    "print(distmemmap.sid)\n",
    "print(distmemmap.val)"
   ]
  },
  {
   "cell_type": "markdown",
   "metadata": {},
   "source": [
    "#### Create an in-memory distribution\n",
    "* Create via random\n",
    "* Create a second distribution with the individuals reversed and with every 10th SNP.\n",
    "* Print the start of the 2nd distribution's individual ID's the SNP id's and the values"
   ]
  },
  {
   "cell_type": "code",
   "execution_count": 7,
   "metadata": {},
   "outputs": [
    {
     "name": "stdout",
     "output_type": "stream",
     "text": [
      "[['fam0' 'iid99']\n",
      " ['fam0' 'iid98']\n",
      " ['fam0' 'iid97']]\n",
      "['sid0' 'sid10' 'sid20']\n",
      "[[[0.20081495 0.4737261  0.32545895]\n",
      "  [0.52343568 0.16311684 0.31344748]\n",
      "  [0.26296867 0.5548358  0.18219553]]\n",
      "\n",
      " [[0.29093073 0.36418333 0.34488594]\n",
      "  [0.12887058 0.64865356 0.22247586]\n",
      "  [0.00325359 0.69403215 0.30271426]]\n",
      "\n",
      " [[0.02445881 0.66399687 0.31154432]\n",
      "  [0.33538909 0.35483828 0.30977264]\n",
      "  [0.40125371 0.25403278 0.34471351]]]\n"
     ]
    }
   ],
   "source": [
    "from pysnptools.distreader import DistData\n",
    "import numpy as np\n",
    "\n",
    "np.random.seed(0)\n",
    "iid_count = 100\n",
    "sid_count = 1000\n",
    "val = np.random.random((iid_count,sid_count,3))\n",
    "val /= val.sum(axis=2,keepdims=True)  #make probabilities sum to 1\n",
    "distdata = DistData(val=val,\n",
    "                    iid=[('fam0','iid{0}'.format(i)) for i in range(iid_count)],\n",
    "                    sid=['sid{0}'.format(s) for s in range(sid_count)]\n",
    "                    )\n",
    "distdata2 = distdata[::-1,::10].read()\n",
    "print(distdata2.iid[:3])\n",
    "print(distdata2.sid[:3])\n",
    "print(distdata2.val[:3,:3])"
   ]
  },
  {
   "cell_type": "code",
   "execution_count": 8,
   "metadata": {},
   "outputs": [
    {
     "name": "stdout",
     "output_type": "stream",
     "text": [
      "cmk\n"
     ]
    },
    {
     "data": {
      "text/plain": [
       "(500, 199)"
      ]
     },
     "execution_count": 8,
     "metadata": {},
     "output_type": "execute_result"
    }
   ],
   "source": [
    "# test bgen reading\n",
    "from pysnptools.distreader.bgen import Bgen\n",
    "bgenfile = r'D:\\OneDrive\\programs\\pysnptools\\pysnptools\\examples\\example.bgen'\n",
    "bgen = Bgen(bgenfile) #!!!cmk make relative\n",
    "bgen.shape"
   ]
  },
  {
   "cell_type": "code",
   "execution_count": 9,
   "metadata": {},
   "outputs": [],
   "source": [
    "#!!!cmk would be nice to have *MemMap writes know how to work from *Readers and have optional runners\n",
    "memmapfile = 'example32.dist.memmap'\n",
    "memmap = DistMemMap.write(memmapfile,bgen.read(dtype=np.float32))"
   ]
  },
  {
   "cell_type": "code",
   "execution_count": 10,
   "metadata": {},
   "outputs": [
    {
     "data": {
      "text/plain": [
       "(665108, 1223090, 1.8389344286942872)"
      ]
     },
     "execution_count": 10,
     "metadata": {},
     "output_type": "execute_result"
    }
   ],
   "source": [
    "bgensize = os.stat(bgenfile).st_size\n",
    "memmapsize = os.stat(memmapfile).st_size\n",
    "bgensize,memmapsize,memmapsize/bgensize"
   ]
  },
  {
   "cell_type": "code",
   "execution_count": null,
   "metadata": {},
   "outputs": [],
   "source": []
  },
  {
   "cell_type": "code",
   "execution_count": null,
   "metadata": {},
   "outputs": [],
   "source": []
  },
  {
   "cell_type": "code",
   "execution_count": 44,
   "metadata": {},
   "outputs": [
    {
     "data": {
      "text/plain": [
       "memmap([[[           nan,            nan,            nan],\n",
       "         [5.06591937e-03, 2.07519974e-03, 9.92858887e-01],\n",
       "         [9.92095947e-01, 3.05176014e-04, 7.59887975e-03],\n",
       "         [4.88280971e-03, 2.83812974e-02, 9.66735899e-01],\n",
       "         [2.92977947e-03, 9.96612430e-01, 4.57778107e-04]],\n",
       "\n",
       "        [[2.78023630e-02, 8.63673817e-03, 9.63560879e-01],\n",
       "         [9.64354910e-03, 2.68554967e-03, 9.87670898e-01],\n",
       "         [1.22986045e-02, 9.81567383e-01, 6.13403227e-03],\n",
       "         [9.90447998e-01, 9.27734002e-03, 2.74657970e-04],\n",
       "         [9.93530273e-01, 2.38037063e-03, 4.08936106e-03]],\n",
       "\n",
       "        [[1.73650365e-02, 4.96841371e-02, 9.32950854e-01],\n",
       "         [9.79705811e-01, 1.94701962e-02, 8.23974842e-04],\n",
       "         [4.79125930e-03, 1.10778986e-02, 9.84130859e-01],\n",
       "         [9.89319146e-01, 3.90613219e-03, 6.77469606e-03],\n",
       "         [9.84344482e-01, 7.14111375e-03, 8.51440430e-03]],\n",
       "\n",
       "        [[2.48717945e-02, 9.32830811e-01, 4.22973931e-02],\n",
       "         [9.81903613e-01, 5.30989561e-03, 1.27865039e-02],\n",
       "         [4.73022042e-03, 9.94934082e-01, 3.35693127e-04],\n",
       "         [6.62231259e-03, 9.83276367e-01, 1.01013044e-02],\n",
       "         [9.95758057e-01, 1.77002023e-03, 2.47192010e-03]],\n",
       "\n",
       "        [[3.46068814e-02, 1.91955902e-02, 9.46197510e-01],\n",
       "         [7.20192678e-03, 9.84375477e-01, 8.42258893e-03],\n",
       "         [9.00269020e-03, 3.20434989e-03, 9.87792969e-01],\n",
       "         [2.89917015e-03, 9.82666016e-01, 1.44348005e-02],\n",
       "         [1.20239053e-02, 9.86816406e-01, 1.15967053e-03]]], dtype=float32)"
      ]
     },
     "execution_count": 44,
     "metadata": {},
     "output_type": "execute_result"
    }
   ],
   "source": [
    "memmap.val[:5,:5,:]"
   ]
  },
  {
   "cell_type": "code",
   "execution_count": 36,
   "metadata": {},
   "outputs": [],
   "source": [
    "memmap.flush()"
   ]
  },
  {
   "cell_type": "markdown",
   "metadata": {},
   "source": [
    "#/mnt/f/backup/carlk4d/data/carlk/cachebio/genetics/onemil/id1000000.sid_1000000.seed0.byiid.bychrom/iid620000to630000.chrom1.bed\n",
    "#F:\\backup\\carlk4d\\data\\carlk\\cachebio\\genetics\\onemil\\id1000000.sid_1000000.seed0.byiid.bychrom\\iid620000to630000.chrom1.bed\n",
    "209,629,000 bytes\n",
    "#to \n",
    "#UKbio using 8 bits per probability, \n",
    "#Qctool convertion with 10K IID and 100K SNPs takes 3000 seconds\n",
    "(py2) carlk@kadie2:/mnt/m/qctool$ build/release/qctool_v2.0.7 -g /mnt/f/backup/carlk4d/data/carlk/cachebio/genetics/onemil/id1000000.sid_1000000.seed0.byiid.bychrom/iid620000to630000.chrom1.bed -og /mnt/m/big.bgen\n",
    "    \n",
    "#-bgen-bits\tFor use when outputting BGEN files only. Tell QCTOOL to use this number of bits to store each probability.\n",
    "#-bgen-compression\tSpecify what compression to use when outputting BGEN files only. This can be \"none\", \"zlib\", or \"zstd\".    \n",
    "\n",
    "#https://bitbucket.org/gavinband/bgen/wiki/BGEN_in_the_UK_Biobank\n",
    "8bit and zlib\n",
    "\n",
    "(py2) carlk@kadie2:/mnt/m/qctool$ build/release/qctool_v2.0.7 -g /mnt/d/deldir/testsnps_1_10_50000_50000/data/chrom8.piece4of5.bed -og /mnt/m/1m.bgen -bg\n",
    "en-bits 8 -bgen-compression zlib\n",
    "9827000 bytes, 50Kiid, 805 snps, convertion takes 1.5 minutes\n",
    "5492 bgen"
   ]
  },
  {
   "cell_type": "code",
   "execution_count": 12,
   "metadata": {},
   "outputs": [
    {
     "name": "stdout",
     "output_type": "stream",
     "text": [
      "cmk\n"
     ]
    },
    {
     "data": {
      "text/plain": [
       "(50000, 805)"
      ]
     },
     "execution_count": 12,
     "metadata": {},
     "output_type": "execute_result"
    }
   ],
   "source": [
    "from pysnptools.distreader.bgen import Bgen\n",
    "bgenfile = r'M:\\1m.bgen'\n",
    "bgen = Bgen(bgenfile) #!!!cmk make relative\n",
    "bgen.shape"
   ]
  },
  {
   "cell_type": "code",
   "execution_count": 14,
   "metadata": {},
   "outputs": [],
   "source": [
    "memmapfile = r'm:/1m.dist.memmap'\n",
    "memmap = DistMemMap.write(memmapfile,bgen.read(dtype=np.float16))"
   ]
  },
  {
   "cell_type": "code",
   "execution_count": 15,
   "metadata": {},
   "outputs": [
    {
     "data": {
      "text/plain": [
       "(5623459, 242772418, 43.171368013886116)"
      ]
     },
     "execution_count": 15,
     "metadata": {},
     "output_type": "execute_result"
    }
   ],
   "source": [
    "bgensize = os.stat(bgenfile).st_size\n",
    "memmapsize = os.stat(memmapfile).st_size\n",
    "bgensize,memmapsize,memmapsize/bgensize"
   ]
  },
  {
   "cell_type": "code",
   "execution_count": 24,
   "metadata": {},
   "outputs": [
    {
     "data": {
      "text/plain": [
       "array([[[nan, nan, nan],\n",
       "        [ 0.,  0.,  1.],\n",
       "        [ 0.,  0.,  1.],\n",
       "        [ 0.,  0.,  1.],\n",
       "        [ 0.,  0.,  1.],\n",
       "        [nan, nan, nan],\n",
       "        [ 0.,  0.,  1.],\n",
       "        [nan, nan, nan],\n",
       "        [ 0.,  0.,  1.],\n",
       "        [ 0.,  0.,  1.]]])"
      ]
     },
     "execution_count": 24,
     "metadata": {},
     "output_type": "execute_result"
    }
   ],
   "source": [
    "bgen[1,50:60].read().val"
   ]
  },
  {
   "cell_type": "code",
   "execution_count": 29,
   "metadata": {},
   "outputs": [
    {
     "data": {
      "text/plain": [
       "array([[nan,  0.,  0., ...,  0.,  0.,  0.],\n",
       "       [ 0.,  0.,  0., ...,  0.,  0.,  0.],\n",
       "       [ 0.,  0.,  0., ...,  0.,  0., nan],\n",
       "       ...,\n",
       "       [nan, nan,  0., ...,  0.,  0.,  0.],\n",
       "       [ 0.,  0.,  0., ...,  0., nan, nan],\n",
       "       [ 0.,  0.,  0., ...,  0.,  0.,  0.]])"
      ]
     },
     "execution_count": 29,
     "metadata": {},
     "output_type": "execute_result"
    }
   ],
   "source": [
    "from pysnptools.snpreader import Bed\n",
    "bed = Bed(r'D:\\deldir\\testsnps_1_10_50000_50000\\data\\chrom8.piece4of5.bed',count_A1=True)\n",
    "bed[0:20,300:5000].read().val"
   ]
  },
  {
   "cell_type": "code",
   "execution_count": 24,
   "metadata": {},
   "outputs": [],
   "source": [
    "iid_count = 500*1000\n",
    "sid_count = 500\n",
    "from pysnptools.distreader import DistGen\n",
    "from pysnptools.distreader import Bgen\n",
    "gen_file = r'm:\\deldir\\{0}x{1}.gen'.format(iid_count,sid_count)\n",
    "sample_file2 = r'/mnt/m/deldir/{0}x{1}.sample'.format(iid_count,sid_count)\n",
    "gen_file2 = r'/mnt/m/deldir/{0}x{1}.gen'.format(iid_count,sid_count)\n",
    "bgen_file = r'm:\\deldir\\{0}x{1}.bgen'.format(iid_count,sid_count)\n",
    "bgen_file2 = r'/mnt/m/deldir/{0}x{1}.bgen'.format(iid_count,sid_count)"
   ]
  },
  {
   "cell_type": "code",
   "execution_count": 15,
   "metadata": {},
   "outputs": [
    {
     "name": "stdout",
     "output_type": "stream",
     "text": [
      "/mnt/m/qctool/build/release/qctool_v2.0.7 -g /mnt/m/deldir/500000x500.gen -s /mnt/m/deldir/500000x500.sample -og /mnt/m/deldir/500000x500.bgen -bgen-bits 8 -bgen-compression zlib\n"
     ]
    }
   ],
   "source": [
    "distgen = DistGen(seed=332,iid_count=iid_count,sid_count=sid_count)\n",
    "Bgen.genwrite(gen_file,distgen.read(),decimal_places=5)\n",
    "print ('/mnt/m/qctool/build/release/qctool_v2.0.7 -g {0} -s {1} -og {2} -bgen-bits 8 -bgen-compression zlib'.format(gen_file2,sample_file2,bgen_file2))"
   ]
  },
  {
   "cell_type": "code",
   "execution_count": 18,
   "metadata": {},
   "outputs": [
    {
     "data": {
      "text/plain": [
       "array([[1.0000000e+00, 0.0000000e+00, 1.0000000e+00],\n",
       "       [1.0000000e+00, 0.0000000e+00, 6.1260010e+06],\n",
       "       [1.0000000e+00, 0.0000000e+00, 1.2252001e+07],\n",
       "       ...,\n",
       "       [2.2000000e+01, 0.0000000e+00, 3.0498820e+09],\n",
       "       [2.2000000e+01, 0.0000000e+00, 3.0560080e+09],\n",
       "       [2.2000000e+01, 0.0000000e+00, 3.0621340e+09]])"
      ]
     },
     "execution_count": 18,
     "metadata": {},
     "output_type": "execute_result"
    }
   ],
   "source": [
    "distgen.pos"
   ]
  },
  {
   "cell_type": "code",
   "execution_count": 16,
   "metadata": {},
   "outputs": [
    {
     "data": {
      "text/plain": [
       "'m:\\\\deldir\\\\500000x500.bgen'"
      ]
     },
     "execution_count": 16,
     "metadata": {},
     "output_type": "execute_result"
    }
   ],
   "source": [
    "bgen_file"
   ]
  },
  {
   "cell_type": "code",
   "execution_count": 25,
   "metadata": {},
   "outputs": [
    {
     "name": "stdout",
     "output_type": "stream",
     "text": [
      "cmk\n"
     ]
    },
    {
     "data": {
      "text/plain": [
       "(array([['', 'iid_0'],\n",
       "        ['', 'iid_1'],\n",
       "        ['', 'iid_2'],\n",
       "        ...,\n",
       "        ['', 'iid_499997'],\n",
       "        ['', 'iid_499998'],\n",
       "        ['', 'iid_499999']], dtype='<U10'),\n",
       " array(['sid_0', 'sid_1', 'sid_2', 'sid_3', 'sid_4', 'sid_5', 'sid_6',\n",
       "        'sid_7', 'sid_8', 'sid_9', 'sid_10', 'sid_11', 'sid_12', 'sid_13',\n",
       "        'sid_14', 'sid_15', 'sid_16', 'sid_17', 'sid_18', 'sid_19',\n",
       "        'sid_20', 'sid_21', 'sid_22', 'sid_23', 'sid_24', 'sid_25',\n",
       "        'sid_26', 'sid_27', 'sid_28', 'sid_29', 'sid_30', 'sid_31',\n",
       "        'sid_32', 'sid_33', 'sid_34', 'sid_35', 'sid_36', 'sid_37',\n",
       "        'sid_38', 'sid_39', 'sid_40', 'sid_41', 'sid_42', 'sid_43',\n",
       "        'sid_44', 'sid_45', 'sid_46', 'sid_47', 'sid_48', 'sid_49',\n",
       "        'sid_50', 'sid_51', 'sid_52', 'sid_53', 'sid_54', 'sid_55',\n",
       "        'sid_56', 'sid_57', 'sid_58', 'sid_59', 'sid_60', 'sid_61',\n",
       "        'sid_62', 'sid_63', 'sid_64', 'sid_65', 'sid_66', 'sid_67',\n",
       "        'sid_68', 'sid_69', 'sid_70', 'sid_71', 'sid_72', 'sid_73',\n",
       "        'sid_74', 'sid_75', 'sid_76', 'sid_77', 'sid_78', 'sid_79',\n",
       "        'sid_80', 'sid_81', 'sid_82', 'sid_83', 'sid_84', 'sid_85',\n",
       "        'sid_86', 'sid_87', 'sid_88', 'sid_89', 'sid_90', 'sid_91',\n",
       "        'sid_92', 'sid_93', 'sid_94', 'sid_95', 'sid_96', 'sid_97',\n",
       "        'sid_98', 'sid_99', 'sid_100', 'sid_101', 'sid_102', 'sid_103',\n",
       "        'sid_104', 'sid_105', 'sid_106', 'sid_107', 'sid_108', 'sid_109',\n",
       "        'sid_110', 'sid_111', 'sid_112', 'sid_113', 'sid_114', 'sid_115',\n",
       "        'sid_116', 'sid_117', 'sid_118', 'sid_119', 'sid_120', 'sid_121',\n",
       "        'sid_122', 'sid_123', 'sid_124', 'sid_125', 'sid_126', 'sid_127',\n",
       "        'sid_128', 'sid_129', 'sid_130', 'sid_131', 'sid_132', 'sid_133',\n",
       "        'sid_134', 'sid_135', 'sid_136', 'sid_137', 'sid_138', 'sid_139',\n",
       "        'sid_140', 'sid_141', 'sid_142', 'sid_143', 'sid_144', 'sid_145',\n",
       "        'sid_146', 'sid_147', 'sid_148', 'sid_149', 'sid_150', 'sid_151',\n",
       "        'sid_152', 'sid_153', 'sid_154', 'sid_155', 'sid_156', 'sid_157',\n",
       "        'sid_158', 'sid_159', 'sid_160', 'sid_161', 'sid_162', 'sid_163',\n",
       "        'sid_164', 'sid_165', 'sid_166', 'sid_167', 'sid_168', 'sid_169',\n",
       "        'sid_170', 'sid_171', 'sid_172', 'sid_173', 'sid_174', 'sid_175',\n",
       "        'sid_176', 'sid_177', 'sid_178', 'sid_179', 'sid_180', 'sid_181',\n",
       "        'sid_182', 'sid_183', 'sid_184', 'sid_185', 'sid_186', 'sid_187',\n",
       "        'sid_188', 'sid_189', 'sid_190', 'sid_191', 'sid_192', 'sid_193',\n",
       "        'sid_194', 'sid_195', 'sid_196', 'sid_197', 'sid_198', 'sid_199',\n",
       "        'sid_200', 'sid_201', 'sid_202', 'sid_203', 'sid_204', 'sid_205',\n",
       "        'sid_206', 'sid_207', 'sid_208', 'sid_209', 'sid_210', 'sid_211',\n",
       "        'sid_212', 'sid_213', 'sid_214', 'sid_215', 'sid_216', 'sid_217',\n",
       "        'sid_218', 'sid_219', 'sid_220', 'sid_221', 'sid_222', 'sid_223',\n",
       "        'sid_224', 'sid_225', 'sid_226', 'sid_227', 'sid_228', 'sid_229',\n",
       "        'sid_230', 'sid_231', 'sid_232', 'sid_233', 'sid_234', 'sid_235',\n",
       "        'sid_236', 'sid_237', 'sid_238', 'sid_239', 'sid_240', 'sid_241',\n",
       "        'sid_242', 'sid_243', 'sid_244', 'sid_245', 'sid_246', 'sid_247',\n",
       "        'sid_248', 'sid_249', 'sid_250', 'sid_251', 'sid_252', 'sid_253',\n",
       "        'sid_254', 'sid_255', 'sid_256', 'sid_257', 'sid_258', 'sid_259',\n",
       "        'sid_260', 'sid_261', 'sid_262', 'sid_263', 'sid_264', 'sid_265',\n",
       "        'sid_266', 'sid_267', 'sid_268', 'sid_269', 'sid_270', 'sid_271',\n",
       "        'sid_272', 'sid_273', 'sid_274', 'sid_275', 'sid_276', 'sid_277',\n",
       "        'sid_278', 'sid_279', 'sid_280', 'sid_281', 'sid_282', 'sid_283',\n",
       "        'sid_284', 'sid_285', 'sid_286', 'sid_287', 'sid_288', 'sid_289',\n",
       "        'sid_290', 'sid_291', 'sid_292', 'sid_293', 'sid_294', 'sid_295',\n",
       "        'sid_296', 'sid_297', 'sid_298', 'sid_299', 'sid_300', 'sid_301',\n",
       "        'sid_302', 'sid_303', 'sid_304', 'sid_305', 'sid_306', 'sid_307',\n",
       "        'sid_308', 'sid_309', 'sid_310', 'sid_311', 'sid_312', 'sid_313',\n",
       "        'sid_314', 'sid_315', 'sid_316', 'sid_317', 'sid_318', 'sid_319',\n",
       "        'sid_320', 'sid_321', 'sid_322', 'sid_323', 'sid_324', 'sid_325',\n",
       "        'sid_326', 'sid_327', 'sid_328', 'sid_329', 'sid_330', 'sid_331',\n",
       "        'sid_332', 'sid_333', 'sid_334', 'sid_335', 'sid_336', 'sid_337',\n",
       "        'sid_338', 'sid_339', 'sid_340', 'sid_341', 'sid_342', 'sid_343',\n",
       "        'sid_344', 'sid_345', 'sid_346', 'sid_347', 'sid_348', 'sid_349',\n",
       "        'sid_350', 'sid_351', 'sid_352', 'sid_353', 'sid_354', 'sid_355',\n",
       "        'sid_356', 'sid_357', 'sid_358', 'sid_359', 'sid_360', 'sid_361',\n",
       "        'sid_362', 'sid_363', 'sid_364', 'sid_365', 'sid_366', 'sid_367',\n",
       "        'sid_368', 'sid_369', 'sid_370', 'sid_371', 'sid_372', 'sid_373',\n",
       "        'sid_374', 'sid_375', 'sid_376', 'sid_377', 'sid_378', 'sid_379',\n",
       "        'sid_380', 'sid_381', 'sid_382', 'sid_383', 'sid_384', 'sid_385',\n",
       "        'sid_386', 'sid_387', 'sid_388', 'sid_389', 'sid_390', 'sid_391',\n",
       "        'sid_392', 'sid_393', 'sid_394', 'sid_395', 'sid_396', 'sid_397',\n",
       "        'sid_398', 'sid_399', 'sid_400', 'sid_401', 'sid_402', 'sid_403',\n",
       "        'sid_404', 'sid_405', 'sid_406', 'sid_407', 'sid_408', 'sid_409',\n",
       "        'sid_410', 'sid_411', 'sid_412', 'sid_413', 'sid_414', 'sid_415',\n",
       "        'sid_416', 'sid_417', 'sid_418', 'sid_419', 'sid_420', 'sid_421',\n",
       "        'sid_422', 'sid_423', 'sid_424', 'sid_425', 'sid_426', 'sid_427',\n",
       "        'sid_428', 'sid_429', 'sid_430', 'sid_431', 'sid_432', 'sid_433',\n",
       "        'sid_434', 'sid_435', 'sid_436', 'sid_437', 'sid_438', 'sid_439',\n",
       "        'sid_440', 'sid_441', 'sid_442', 'sid_443', 'sid_444', 'sid_445',\n",
       "        'sid_446', 'sid_447', 'sid_448', 'sid_449', 'sid_450', 'sid_451',\n",
       "        'sid_452', 'sid_453', 'sid_454', 'sid_455', 'sid_456', 'sid_457',\n",
       "        'sid_458', 'sid_459', 'sid_460', 'sid_461', 'sid_462', 'sid_463',\n",
       "        'sid_464', 'sid_465', 'sid_466', 'sid_467', 'sid_468', 'sid_469',\n",
       "        'sid_470', 'sid_471', 'sid_472', 'sid_473', 'sid_474', 'sid_475',\n",
       "        'sid_476', 'sid_477', 'sid_478', 'sid_479', 'sid_480', 'sid_481',\n",
       "        'sid_482', 'sid_483', 'sid_484', 'sid_485', 'sid_486', 'sid_487',\n",
       "        'sid_488', 'sid_489', 'sid_490', 'sid_491', 'sid_492', 'sid_493',\n",
       "        'sid_494', 'sid_495', 'sid_496', 'sid_497', 'sid_498', 'sid_499'],\n",
       "       dtype='<U64'),\n",
       " array([[ 1.0000000e+00,  0.0000000e+00,  1.0000000e+00],\n",
       "        [ 1.0000000e+00,  0.0000000e+00,  6.1260010e+06],\n",
       "        [ 1.0000000e+00,  0.0000000e+00,  1.2252001e+07],\n",
       "        ...,\n",
       "        [ 2.2000000e+01,  0.0000000e+00, -1.2450853e+09],\n",
       "        [ 2.2000000e+01,  0.0000000e+00, -1.2389593e+09],\n",
       "        [ 2.2000000e+01,  0.0000000e+00, -1.2328333e+09]]))"
      ]
     },
     "execution_count": 25,
     "metadata": {},
     "output_type": "execute_result"
    }
   ],
   "source": [
    "bgen = Bgen(bgen_file,metadata=False) #!!!cmk metadata creation will fail, #!!!cmk False will create it?????\n",
    "bgen.iid,bgen.sid,bgen.pos"
   ]
  },
  {
   "cell_type": "code",
   "execution_count": 29,
   "metadata": {},
   "outputs": [
    {
     "data": {
      "text/plain": [
       "array([[[0.46666667, 0.38823529, 0.14509804],\n",
       "        [0.45098039, 0.24313725, 0.30588235],\n",
       "        [0.44705882, 0.42745098, 0.1254902 ],\n",
       "        [0.22352941, 0.40392157, 0.37254902],\n",
       "        [       nan,        nan,        nan],\n",
       "        [0.45098039, 0.41960784, 0.12941176],\n",
       "        [0.34117647, 0.63137255, 0.02745098],\n",
       "        [0.28235294, 0.38431373, 0.33333333],\n",
       "        [0.25490196, 0.35686275, 0.38823529],\n",
       "        [       nan,        nan,        nan]],\n",
       "\n",
       "       [[0.76862745, 0.18823529, 0.04313725],\n",
       "        [0.07843137, 0.48627451, 0.43529412],\n",
       "        [0.5254902 , 0.36470588, 0.10980392],\n",
       "        [0.75686275, 0.02745098, 0.21568627],\n",
       "        [       nan,        nan,        nan],\n",
       "        [0.35686275, 0.21960784, 0.42352941],\n",
       "        [0.11372549, 0.4       , 0.48627451],\n",
       "        [0.31372549, 0.35686275, 0.32941176],\n",
       "        [0.37254902, 0.34117647, 0.28627451],\n",
       "        [0.41960784, 0.4       , 0.18039216]],\n",
       "\n",
       "       [[0.29803922, 0.41176471, 0.29019608],\n",
       "        [0.17254902, 0.34509804, 0.48235294],\n",
       "        [0.39215686, 0.39215686, 0.21568627],\n",
       "        [0.41176471, 0.14901961, 0.43921569],\n",
       "        [0.46666667, 0.09803922, 0.43529412],\n",
       "        [0.47843137, 0.11372549, 0.40784314],\n",
       "        [       nan,        nan,        nan],\n",
       "        [0.50196078, 0.46666667, 0.03137255],\n",
       "        [0.12156863, 0.05882353, 0.81960784],\n",
       "        [       nan,        nan,        nan]],\n",
       "\n",
       "       [[       nan,        nan,        nan],\n",
       "        [0.44705882, 0.31764706, 0.23529412],\n",
       "        [       nan,        nan,        nan],\n",
       "        [       nan,        nan,        nan],\n",
       "        [0.46666667, 0.49803922, 0.03529412],\n",
       "        [0.35294118, 0.30980392, 0.3372549 ],\n",
       "        [0.17254902, 0.24705882, 0.58039216],\n",
       "        [0.31372549, 0.32156863, 0.36470588],\n",
       "        [0.33333333, 0.41176471, 0.25490196],\n",
       "        [       nan,        nan,        nan]],\n",
       "\n",
       "       [[0.17254902, 0.5254902 , 0.30196078],\n",
       "        [       nan,        nan,        nan],\n",
       "        [0.7372549 , 0.17647059, 0.08627451],\n",
       "        [0.16470588, 0.42352941, 0.41176471],\n",
       "        [0.36078431, 0.48627451, 0.15294118],\n",
       "        [0.14901961, 0.31764706, 0.53333333],\n",
       "        [0.37647059, 0.21176471, 0.41176471],\n",
       "        [0.26666667, 0.51372549, 0.21960784],\n",
       "        [0.43529412, 0.23137255, 0.33333333],\n",
       "        [0.07843137, 0.23529412, 0.68627451]]])"
      ]
     },
     "execution_count": 29,
     "metadata": {},
     "output_type": "execute_result"
    }
   ],
   "source": [
    "bgen[::100000,::50].read().val"
   ]
  },
  {
   "cell_type": "code",
   "execution_count": 2,
   "metadata": {},
   "outputs": [
    {
     "data": {
      "text/plain": [
       "[1.0,\n",
       " 2.0,\n",
       " 3.0,\n",
       " 4.0,\n",
       " 5.0,\n",
       " 6.0,\n",
       " 7.0,\n",
       " 8.0,\n",
       " 9.0,\n",
       " 10.0,\n",
       " 11.0,\n",
       " 12.0,\n",
       " 13.0,\n",
       " 14.0,\n",
       " 15.0,\n",
       " 16.0,\n",
       " 17.0,\n",
       " 18.0,\n",
       " 19.0,\n",
       " 20.0,\n",
       " 21.0,\n",
       " 22.0]"
      ]
     },
     "execution_count": 2,
     "metadata": {},
     "output_type": "execute_result"
    }
   ],
   "source": [
    "iid_count = 500*1000\n",
    "sid_count = 5*1000*1000\n",
    "\n",
    "from pysnptools.distreader import DistGen\n",
    "from pysnptools.distreader import Bgen\n",
    "distgen = DistGen(seed=332,iid_count=iid_count,sid_count=sid_count)\n",
    "chrom_list = sorted(set(distgen.pos[:,0]))\n",
    "len(chrom_list)"
   ]
  },
  {
   "cell_type": "code",
   "execution_count": 5,
   "metadata": {},
   "outputs": [
    {
     "name": "stdout",
     "output_type": "stream",
     "text": [
      "22.0 91414\n",
      "about to read 500000x91414\n"
     ]
    },
    {
     "ename": "KeyboardInterrupt",
     "evalue": "",
     "output_type": "error",
     "traceback": [
      "\u001b[1;31m---------------------------------------------------------------------------\u001b[0m",
      "\u001b[1;31mKeyboardInterrupt\u001b[0m                         Traceback (most recent call last)",
      "\u001b[1;32m<ipython-input-5-e843528a3d45>\u001b[0m in \u001b[0;36m<module>\u001b[1;34m\u001b[0m\n\u001b[0;32m      9\u001b[0m     \u001b[0mgen_file2\u001b[0m \u001b[1;33m=\u001b[0m \u001b[1;34mr'/mnt/m/deldir/{0}.gen'\u001b[0m\u001b[1;33m.\u001b[0m\u001b[0mformat\u001b[0m\u001b[1;33m(\u001b[0m\u001b[0mname\u001b[0m\u001b[1;33m)\u001b[0m\u001b[1;33m\u001b[0m\u001b[1;33m\u001b[0m\u001b[0m\n\u001b[0;32m     10\u001b[0m     \u001b[0mprint\u001b[0m\u001b[1;33m(\u001b[0m\u001b[1;34m\"about to read {0}x{1}\"\u001b[0m\u001b[1;33m.\u001b[0m\u001b[0mformat\u001b[0m\u001b[1;33m(\u001b[0m\u001b[0mchromgen\u001b[0m\u001b[1;33m.\u001b[0m\u001b[0miid_count\u001b[0m\u001b[1;33m,\u001b[0m\u001b[0mchromgen\u001b[0m\u001b[1;33m.\u001b[0m\u001b[0msid_count\u001b[0m\u001b[1;33m)\u001b[0m\u001b[1;33m)\u001b[0m\u001b[1;33m\u001b[0m\u001b[1;33m\u001b[0m\u001b[0m\n\u001b[1;32m---> 11\u001b[1;33m     \u001b[0mBgen\u001b[0m\u001b[1;33m.\u001b[0m\u001b[0mgenwrite\u001b[0m\u001b[1;33m(\u001b[0m\u001b[0mgen_file\u001b[0m\u001b[1;33m,\u001b[0m\u001b[0mchromgen\u001b[0m\u001b[1;33m,\u001b[0m\u001b[0mdecimal_places\u001b[0m\u001b[1;33m=\u001b[0m\u001b[1;36m5\u001b[0m\u001b[1;33m)\u001b[0m \u001b[1;31m#better in batches?\u001b[0m\u001b[1;33m\u001b[0m\u001b[1;33m\u001b[0m\u001b[0m\n\u001b[0m\u001b[0;32m     12\u001b[0m     \u001b[0mprint\u001b[0m\u001b[1;33m(\u001b[0m\u001b[1;34m\"done\"\u001b[0m\u001b[1;33m)\u001b[0m\u001b[1;33m\u001b[0m\u001b[1;33m\u001b[0m\u001b[0m\n\u001b[0;32m     13\u001b[0m     \u001b[0mbgen_file\u001b[0m \u001b[1;33m=\u001b[0m \u001b[1;34mr'm:\\deldir\\{0}.bgen'\u001b[0m\u001b[1;33m.\u001b[0m\u001b[0mformat\u001b[0m\u001b[1;33m(\u001b[0m\u001b[0mname\u001b[0m\u001b[1;33m)\u001b[0m\u001b[1;33m\u001b[0m\u001b[1;33m\u001b[0m\u001b[0m\n",
      "\u001b[1;32mD:\\OneDrive\\programs\\pysnptools\\pysnptools\\distreader\\bgen.py\u001b[0m in \u001b[0;36mgenwrite\u001b[1;34m(filename, distreader, decimal_places, snpid_function, rsid_function, iid_function, sid_batch_size)\u001b[0m\n\u001b[0;32m    160\u001b[0m             \u001b[1;32mwith\u001b[0m \u001b[0mopen\u001b[0m\u001b[1;33m(\u001b[0m\u001b[0mfilename\u001b[0m\u001b[1;33m,\u001b[0m\u001b[1;34m'w'\u001b[0m\u001b[1;33m,\u001b[0m\u001b[0mnewline\u001b[0m\u001b[1;33m=\u001b[0m\u001b[1;34m'\\n'\u001b[0m\u001b[1;33m)\u001b[0m \u001b[1;32mas\u001b[0m \u001b[0mgenfp\u001b[0m\u001b[1;33m:\u001b[0m\u001b[1;33m\u001b[0m\u001b[1;33m\u001b[0m\u001b[0m\n\u001b[0;32m    161\u001b[0m                 \u001b[1;32mwhile\u001b[0m \u001b[0mstart\u001b[0m \u001b[1;33m<\u001b[0m \u001b[0mdistreader\u001b[0m\u001b[1;33m.\u001b[0m\u001b[0msid_count\u001b[0m\u001b[1;33m:\u001b[0m\u001b[1;33m\u001b[0m\u001b[1;33m\u001b[0m\u001b[0m\n\u001b[1;32m--> 162\u001b[1;33m                     \u001b[0mdistdata\u001b[0m \u001b[1;33m=\u001b[0m \u001b[0mdistreader\u001b[0m\u001b[1;33m[\u001b[0m\u001b[1;33m:\u001b[0m\u001b[1;33m,\u001b[0m\u001b[0mstart\u001b[0m\u001b[1;33m:\u001b[0m\u001b[0mstart\u001b[0m\u001b[1;33m+\u001b[0m\u001b[0msid_batch_size\u001b[0m\u001b[1;33m]\u001b[0m\u001b[1;33m.\u001b[0m\u001b[0mread\u001b[0m\u001b[1;33m(\u001b[0m\u001b[0mview_ok\u001b[0m\u001b[1;33m=\u001b[0m\u001b[1;32mTrue\u001b[0m\u001b[1;33m)\u001b[0m\u001b[1;33m\u001b[0m\u001b[1;33m\u001b[0m\u001b[0m\n\u001b[0m\u001b[0;32m    163\u001b[0m                     \u001b[1;32mfor\u001b[0m \u001b[0msid_index\u001b[0m \u001b[1;32min\u001b[0m \u001b[0mrange\u001b[0m\u001b[1;33m(\u001b[0m\u001b[0mdistdata\u001b[0m\u001b[1;33m.\u001b[0m\u001b[0msid_count\u001b[0m\u001b[1;33m)\u001b[0m\u001b[1;33m:\u001b[0m\u001b[1;33m\u001b[0m\u001b[1;33m\u001b[0m\u001b[0m\n\u001b[0;32m    164\u001b[0m                         \u001b[0mupdater\u001b[0m\u001b[1;33m(\u001b[0m\u001b[1;34m'{0} of {1}'\u001b[0m\u001b[1;33m.\u001b[0m\u001b[0mformat\u001b[0m\u001b[1;33m(\u001b[0m\u001b[0mstart\u001b[0m\u001b[1;33m+\u001b[0m\u001b[0msid_index\u001b[0m\u001b[1;33m,\u001b[0m\u001b[0mdistreader\u001b[0m\u001b[1;33m.\u001b[0m\u001b[0msid_count\u001b[0m\u001b[1;33m)\u001b[0m\u001b[1;33m)\u001b[0m\u001b[1;33m\u001b[0m\u001b[1;33m\u001b[0m\u001b[0m\n",
      "\u001b[1;32mD:\\OneDrive\\programs\\pysnptools\\pysnptools\\distreader\\distreader.py\u001b[0m in \u001b[0;36mread\u001b[1;34m(self, order, dtype, force_python_only, view_ok)\u001b[0m\n\u001b[0;32m    247\u001b[0m         \u001b[1;33m>>\u001b[0m\u001b[1;33m>\u001b[0m \u001b[1;31m# print np.may_share_memory(subset_distdata.val, subsub_distdata.val) # Do the two ndarray's share memory? They could. Currently they won't.\u001b[0m\u001b[1;33m\u001b[0m\u001b[1;33m\u001b[0m\u001b[0m\n\u001b[0;32m    248\u001b[0m         \"\"\"\n\u001b[1;32m--> 249\u001b[1;33m         \u001b[0mval\u001b[0m \u001b[1;33m=\u001b[0m \u001b[0mself\u001b[0m\u001b[1;33m.\u001b[0m\u001b[0m_read\u001b[0m\u001b[1;33m(\u001b[0m\u001b[1;32mNone\u001b[0m\u001b[1;33m,\u001b[0m \u001b[1;32mNone\u001b[0m\u001b[1;33m,\u001b[0m \u001b[0morder\u001b[0m\u001b[1;33m,\u001b[0m \u001b[0mdtype\u001b[0m\u001b[1;33m,\u001b[0m \u001b[0mforce_python_only\u001b[0m\u001b[1;33m,\u001b[0m \u001b[0mview_ok\u001b[0m\u001b[1;33m)\u001b[0m\u001b[1;33m\u001b[0m\u001b[1;33m\u001b[0m\u001b[0m\n\u001b[0m\u001b[0;32m    250\u001b[0m         \u001b[1;32mfrom\u001b[0m \u001b[0mpysnptools\u001b[0m\u001b[1;33m.\u001b[0m\u001b[0mdistreader\u001b[0m \u001b[1;32mimport\u001b[0m \u001b[0mDistData\u001b[0m\u001b[1;33m\u001b[0m\u001b[1;33m\u001b[0m\u001b[0m\n\u001b[0;32m    251\u001b[0m         \u001b[0mret\u001b[0m \u001b[1;33m=\u001b[0m \u001b[0mDistData\u001b[0m\u001b[1;33m(\u001b[0m\u001b[0mself\u001b[0m\u001b[1;33m.\u001b[0m\u001b[0miid\u001b[0m\u001b[1;33m,\u001b[0m\u001b[0mself\u001b[0m\u001b[1;33m.\u001b[0m\u001b[0msid\u001b[0m\u001b[1;33m,\u001b[0m\u001b[0mval\u001b[0m\u001b[1;33m,\u001b[0m\u001b[0mpos\u001b[0m\u001b[1;33m=\u001b[0m\u001b[0mself\u001b[0m\u001b[1;33m.\u001b[0m\u001b[0mpos\u001b[0m\u001b[1;33m,\u001b[0m\u001b[0mname\u001b[0m\u001b[1;33m=\u001b[0m\u001b[0mstr\u001b[0m\u001b[1;33m(\u001b[0m\u001b[0mself\u001b[0m\u001b[1;33m)\u001b[0m\u001b[1;33m)\u001b[0m\u001b[1;33m\u001b[0m\u001b[1;33m\u001b[0m\u001b[0m\n",
      "\u001b[1;32mD:\\OneDrive\\programs\\pysnptools\\pysnptools\\pstreader\\_subset.py\u001b[0m in \u001b[0;36m_read\u001b[1;34m(self, row_indexer, col_indexer, order, dtype, force_python_only, view_ok)\u001b[0m\n\u001b[0;32m     61\u001b[0m             \u001b[0mcomposed_row_index_or_none\u001b[0m \u001b[1;33m=\u001b[0m \u001b[0m_PstSubset\u001b[0m\u001b[1;33m.\u001b[0m\u001b[0mcompose_indexer_with_indexer\u001b[0m\u001b[1;33m(\u001b[0m\u001b[0mself\u001b[0m\u001b[1;33m.\u001b[0m\u001b[0m_internal\u001b[0m\u001b[1;33m.\u001b[0m\u001b[0mrow_count\u001b[0m\u001b[1;33m,\u001b[0m \u001b[0mself\u001b[0m\u001b[1;33m.\u001b[0m\u001b[0m_row_indexer\u001b[0m\u001b[1;33m,\u001b[0m \u001b[0mself\u001b[0m\u001b[1;33m.\u001b[0m\u001b[0mrow_count\u001b[0m\u001b[1;33m,\u001b[0m \u001b[0mrow_indexer\u001b[0m\u001b[1;33m)\u001b[0m\u001b[1;33m\u001b[0m\u001b[1;33m\u001b[0m\u001b[0m\n\u001b[0;32m     62\u001b[0m             \u001b[0mcomposed_col_index_or_none\u001b[0m \u001b[1;33m=\u001b[0m \u001b[0m_PstSubset\u001b[0m\u001b[1;33m.\u001b[0m\u001b[0mcompose_indexer_with_indexer\u001b[0m\u001b[1;33m(\u001b[0m\u001b[0mself\u001b[0m\u001b[1;33m.\u001b[0m\u001b[0m_internal\u001b[0m\u001b[1;33m.\u001b[0m\u001b[0mcol_count\u001b[0m\u001b[1;33m,\u001b[0m \u001b[0mself\u001b[0m\u001b[1;33m.\u001b[0m\u001b[0m_col_indexer\u001b[0m\u001b[1;33m,\u001b[0m \u001b[0mself\u001b[0m\u001b[1;33m.\u001b[0m\u001b[0mcol_count\u001b[0m\u001b[1;33m,\u001b[0m \u001b[0mcol_indexer\u001b[0m\u001b[1;33m)\u001b[0m\u001b[1;33m\u001b[0m\u001b[1;33m\u001b[0m\u001b[0m\n\u001b[1;32m---> 63\u001b[1;33m             \u001b[0mval\u001b[0m \u001b[1;33m=\u001b[0m \u001b[0mself\u001b[0m\u001b[1;33m.\u001b[0m\u001b[0m_internal\u001b[0m\u001b[1;33m.\u001b[0m\u001b[0m_read\u001b[0m\u001b[1;33m(\u001b[0m\u001b[0mcomposed_row_index_or_none\u001b[0m\u001b[1;33m,\u001b[0m \u001b[0mcomposed_col_index_or_none\u001b[0m\u001b[1;33m,\u001b[0m \u001b[0morder\u001b[0m\u001b[1;33m,\u001b[0m \u001b[0mdtype\u001b[0m\u001b[1;33m,\u001b[0m \u001b[0mforce_python_only\u001b[0m\u001b[1;33m,\u001b[0m \u001b[0mview_ok\u001b[0m\u001b[1;33m)\u001b[0m\u001b[1;33m\u001b[0m\u001b[1;33m\u001b[0m\u001b[0m\n\u001b[0m\u001b[0;32m     64\u001b[0m             \u001b[1;32mreturn\u001b[0m \u001b[0mval\u001b[0m\u001b[1;33m\u001b[0m\u001b[1;33m\u001b[0m\u001b[0m\n\u001b[0;32m     65\u001b[0m         \u001b[1;32melse\u001b[0m\u001b[1;33m:\u001b[0m\u001b[1;33m\u001b[0m\u001b[1;33m\u001b[0m\u001b[0m\n",
      "\u001b[1;32mD:\\OneDrive\\programs\\pysnptools\\pysnptools\\pstreader\\_subset.py\u001b[0m in \u001b[0;36m_read\u001b[1;34m(self, row_indexer, col_indexer, order, dtype, force_python_only, view_ok)\u001b[0m\n\u001b[0;32m     68\u001b[0m             \u001b[0mcol_index_or_none\u001b[0m \u001b[1;33m=\u001b[0m \u001b[0mPstReader\u001b[0m\u001b[1;33m.\u001b[0m\u001b[0m_make_sparray_from_sparray_or_slice\u001b[0m\u001b[1;33m(\u001b[0m\u001b[0mself\u001b[0m\u001b[1;33m.\u001b[0m\u001b[0mcol_count\u001b[0m\u001b[1;33m,\u001b[0m \u001b[0mcol_indexer\u001b[0m\u001b[1;33m)\u001b[0m\u001b[1;33m\u001b[0m\u001b[1;33m\u001b[0m\u001b[0m\n\u001b[0;32m     69\u001b[0m             \u001b[0mcomposed_col_index_or_none\u001b[0m \u001b[1;33m=\u001b[0m \u001b[0m_PstSubset\u001b[0m\u001b[1;33m.\u001b[0m\u001b[0mcompose_indexer_with_index_or_none\u001b[0m\u001b[1;33m(\u001b[0m\u001b[0mself\u001b[0m\u001b[1;33m.\u001b[0m\u001b[0m_internal\u001b[0m\u001b[1;33m.\u001b[0m\u001b[0mcol_count\u001b[0m\u001b[1;33m,\u001b[0m \u001b[0mself\u001b[0m\u001b[1;33m.\u001b[0m\u001b[0m_col_indexer\u001b[0m\u001b[1;33m,\u001b[0m \u001b[0mself\u001b[0m\u001b[1;33m.\u001b[0m\u001b[0mcol_count\u001b[0m\u001b[1;33m,\u001b[0m \u001b[0mcol_index_or_none\u001b[0m\u001b[1;33m)\u001b[0m\u001b[1;33m\u001b[0m\u001b[1;33m\u001b[0m\u001b[0m\n\u001b[1;32m---> 70\u001b[1;33m             \u001b[0mval\u001b[0m \u001b[1;33m=\u001b[0m \u001b[0mself\u001b[0m\u001b[1;33m.\u001b[0m\u001b[0m_internal\u001b[0m\u001b[1;33m.\u001b[0m\u001b[0m_read\u001b[0m\u001b[1;33m(\u001b[0m\u001b[0mcomposed_row_index_or_none\u001b[0m\u001b[1;33m,\u001b[0m \u001b[0mcomposed_col_index_or_none\u001b[0m\u001b[1;33m,\u001b[0m \u001b[0morder\u001b[0m\u001b[1;33m,\u001b[0m \u001b[0mdtype\u001b[0m\u001b[1;33m,\u001b[0m \u001b[0mforce_python_only\u001b[0m\u001b[1;33m,\u001b[0m \u001b[0mview_ok\u001b[0m\u001b[1;33m)\u001b[0m\u001b[1;33m\u001b[0m\u001b[1;33m\u001b[0m\u001b[0m\n\u001b[0m\u001b[0;32m     71\u001b[0m             \u001b[1;32mreturn\u001b[0m \u001b[0mval\u001b[0m\u001b[1;33m\u001b[0m\u001b[1;33m\u001b[0m\u001b[0m\n\u001b[0;32m     72\u001b[0m \u001b[1;33m\u001b[0m\u001b[0m\n",
      "\u001b[1;32mD:\\OneDrive\\programs\\pysnptools\\pysnptools\\distreader\\distgen.py\u001b[0m in \u001b[0;36m_read\u001b[1;34m(self, row_index_or_none, col_index_or_none, order, dtype, force_python_only, view_ok)\u001b[0m\n\u001b[0;32m    127\u001b[0m             \u001b[0mstart\u001b[0m \u001b[1;33m=\u001b[0m \u001b[0mi\u001b[0m\u001b[1;33m*\u001b[0m\u001b[0mself\u001b[0m\u001b[1;33m.\u001b[0m\u001b[0m_sid_batch_size\u001b[0m  \u001b[1;31m#e.g. 0 (then 2000)\u001b[0m\u001b[1;33m\u001b[0m\u001b[1;33m\u001b[0m\u001b[0m\n\u001b[0;32m    128\u001b[0m             \u001b[0mstop\u001b[0m \u001b[1;33m=\u001b[0m \u001b[0mstart\u001b[0m \u001b[1;33m+\u001b[0m \u001b[0mself\u001b[0m\u001b[1;33m.\u001b[0m\u001b[0m_sid_batch_size\u001b[0m \u001b[1;31m#e.g. 1000, then 3000\u001b[0m\u001b[1;33m\u001b[0m\u001b[1;33m\u001b[0m\u001b[0m\n\u001b[1;32m--> 129\u001b[1;33m             \u001b[0mbatch_val\u001b[0m \u001b[1;33m=\u001b[0m \u001b[0mself\u001b[0m\u001b[1;33m.\u001b[0m\u001b[0m_get_val\u001b[0m\u001b[1;33m(\u001b[0m\u001b[0mstart\u001b[0m\u001b[1;33m,\u001b[0m\u001b[0mstop\u001b[0m\u001b[1;33m)\u001b[0m \u001b[1;31m# generate whole batch\u001b[0m\u001b[1;33m\u001b[0m\u001b[1;33m\u001b[0m\u001b[0m\n\u001b[0m\u001b[0;32m    130\u001b[0m             \u001b[0ma\u001b[0m \u001b[1;33m=\u001b[0m \u001b[1;33m(\u001b[0m\u001b[0mbatch_index\u001b[0m\u001b[1;33m==\u001b[0m\u001b[0mi\u001b[0m\u001b[1;33m)\u001b[0m \u001b[1;31m#e.g. [True,True,True,False,True], then [False,False,False,True,False]\u001b[0m\u001b[1;33m\u001b[0m\u001b[1;33m\u001b[0m\u001b[0m\n\u001b[0;32m    131\u001b[0m             \u001b[0mb\u001b[0m \u001b[1;33m=\u001b[0m \u001b[0mcol_index\u001b[0m\u001b[1;33m[\u001b[0m\u001b[0ma\u001b[0m\u001b[1;33m]\u001b[0m\u001b[1;33m-\u001b[0m\u001b[0mstart\u001b[0m \u001b[1;31m#e.g.  0,1,200,10, then 200\u001b[0m\u001b[1;33m\u001b[0m\u001b[1;33m\u001b[0m\u001b[0m\n",
      "\u001b[1;32mD:\\OneDrive\\programs\\pysnptools\\pysnptools\\distreader\\distgen.py\u001b[0m in \u001b[0;36m_get_val\u001b[1;34m(self, sid_start, sid_stop)\u001b[0m\n\u001b[0;32m    159\u001b[0m         \u001b[0mnp\u001b[0m\u001b[1;33m.\u001b[0m\u001b[0mrandom\u001b[0m\u001b[1;33m.\u001b[0m\u001b[0mseed\u001b[0m\u001b[1;33m(\u001b[0m\u001b[0mself\u001b[0m\u001b[1;33m.\u001b[0m\u001b[0m_seed\u001b[0m\u001b[1;33m+\u001b[0m\u001b[0msid_start\u001b[0m\u001b[1;33m)\u001b[0m\u001b[1;33m\u001b[0m\u001b[1;33m\u001b[0m\u001b[0m\n\u001b[0;32m    160\u001b[0m         \u001b[0mval\u001b[0m \u001b[1;33m=\u001b[0m \u001b[0mnp\u001b[0m\u001b[1;33m.\u001b[0m\u001b[0mrandom\u001b[0m\u001b[1;33m.\u001b[0m\u001b[0mrandom\u001b[0m\u001b[1;33m(\u001b[0m\u001b[1;33m(\u001b[0m\u001b[0mself\u001b[0m\u001b[1;33m.\u001b[0m\u001b[0miid_count\u001b[0m\u001b[1;33m,\u001b[0m\u001b[0msid_batch_size\u001b[0m\u001b[1;33m,\u001b[0m\u001b[1;36m3\u001b[0m\u001b[1;33m)\u001b[0m\u001b[1;33m)\u001b[0m\u001b[1;33m\u001b[0m\u001b[1;33m\u001b[0m\u001b[0m\n\u001b[1;32m--> 161\u001b[1;33m         \u001b[0mval\u001b[0m \u001b[1;33m/=\u001b[0m \u001b[0mval\u001b[0m\u001b[1;33m.\u001b[0m\u001b[0msum\u001b[0m\u001b[1;33m(\u001b[0m\u001b[0maxis\u001b[0m\u001b[1;33m=\u001b[0m\u001b[1;36m2\u001b[0m\u001b[1;33m,\u001b[0m\u001b[0mkeepdims\u001b[0m\u001b[1;33m=\u001b[0m\u001b[1;32mTrue\u001b[0m\u001b[1;33m)\u001b[0m  \u001b[1;31m#make probabilities sum to 1\u001b[0m\u001b[1;33m\u001b[0m\u001b[1;33m\u001b[0m\u001b[0m\n\u001b[0m\u001b[0;32m    162\u001b[0m \u001b[1;33m\u001b[0m\u001b[0m\n\u001b[0;32m    163\u001b[0m         \u001b[0mmissing\u001b[0m \u001b[1;33m=\u001b[0m \u001b[0mnp\u001b[0m\u001b[1;33m.\u001b[0m\u001b[0mrandom\u001b[0m\u001b[1;33m.\u001b[0m\u001b[0mrand\u001b[0m\u001b[1;33m(\u001b[0m\u001b[0mself\u001b[0m\u001b[1;33m.\u001b[0m\u001b[0miid_count\u001b[0m\u001b[1;33m,\u001b[0m\u001b[0msid_batch_size\u001b[0m\u001b[1;33m)\u001b[0m\u001b[1;33m<\u001b[0m\u001b[0mmissing_rate\u001b[0m\u001b[1;33m\u001b[0m\u001b[1;33m\u001b[0m\u001b[0m\n",
      "\u001b[1;32mC:\\ProgramData\\Anaconda3\\lib\\site-packages\\numpy\\core\\_methods.py\u001b[0m in \u001b[0;36m_sum\u001b[1;34m(a, axis, dtype, out, keepdims, initial)\u001b[0m\n\u001b[0;32m     34\u001b[0m def _sum(a, axis=None, dtype=None, out=None, keepdims=False,\n\u001b[0;32m     35\u001b[0m          initial=_NoValue):\n\u001b[1;32m---> 36\u001b[1;33m     \u001b[1;32mreturn\u001b[0m \u001b[0mumr_sum\u001b[0m\u001b[1;33m(\u001b[0m\u001b[0ma\u001b[0m\u001b[1;33m,\u001b[0m \u001b[0maxis\u001b[0m\u001b[1;33m,\u001b[0m \u001b[0mdtype\u001b[0m\u001b[1;33m,\u001b[0m \u001b[0mout\u001b[0m\u001b[1;33m,\u001b[0m \u001b[0mkeepdims\u001b[0m\u001b[1;33m,\u001b[0m \u001b[0minitial\u001b[0m\u001b[1;33m)\u001b[0m\u001b[1;33m\u001b[0m\u001b[1;33m\u001b[0m\u001b[0m\n\u001b[0m\u001b[0;32m     37\u001b[0m \u001b[1;33m\u001b[0m\u001b[0m\n\u001b[0;32m     38\u001b[0m def _prod(a, axis=None, dtype=None, out=None, keepdims=False,\n",
      "\u001b[1;31mKeyboardInterrupt\u001b[0m: "
     ]
    }
   ],
   "source": [
    "import logging\n",
    "logging.basicConfig(level=logging.INFO)\n",
    "for chrom in chrom_list[::-1]:\n",
    "    chromgen = distgen[:,distgen.pos[:,0]==chrom]\n",
    "    print(chrom,chromgen.sid_count)\n",
    "    name = '{0}x{1}.chrom{2}'.format(iid_count,sid_count,int(chrom))\n",
    "    gen_file = r'm:\\deldir\\{0}.gen'.format(name)\n",
    "    sample_file2 = r'/mnt/m/deldir/{0}.sample'.format(name)\n",
    "    gen_file2 = r'/mnt/m/deldir/{0}.gen'.format(name)\n",
    "    print(\"about to read {0}x{1}\".format(chromgen.iid_count,chromgen.sid_count))\n",
    "    Bgen.genwrite(gen_file,chromgen,decimal_places=5) #better in batches?\n",
    "    print(\"done\")\n",
    "    bgen_file = r'm:\\deldir\\{0}.bgen'.format(name)\n",
    "    bgen_file2 = r'/mnt/m/deldir/{0}.bgen'.format(name)\n",
    "    print ('/mnt/m/qctool/build/release/qctool_v2.0.7 -g {0} -s {1} -og {2} -bgen-bits 8 -bgen-compression zlib'.format(gen_file2,sample_file2,bgen_file2))"
   ]
  },
  {
   "cell_type": "code",
   "execution_count": 6,
   "metadata": {},
   "outputs": [
    {
     "data": {
      "text/plain": [
       "DistGen(seed=332,iid_count=100,sid_count=5000000,chrom_count=22,sid_batch_size=1000,cache_file=None)[:,[4908586,4908587,4908588,4908589,4908590,4908591,4908592,4908593,4908594,4908595,...]]"
      ]
     },
     "execution_count": 6,
     "metadata": {},
     "output_type": "execute_result"
    }
   ],
   "source": [
    "chromgen"
   ]
  },
  {
   "cell_type": "code",
   "execution_count": 3,
   "metadata": {},
   "outputs": [
    {
     "name": "stderr",
     "output_type": "stream",
     "text": [
      "Mapping variants: 100%|███████████████████████████████████████████████████████████| 100/100 [00:00<00:00, 50045.39it/s]\n"
     ]
    },
    {
     "name": "stdout",
     "output_type": "stream",
     "text": [
      "cmk\n",
      "(500000, 100)\n"
     ]
    }
   ],
   "source": [
    "import logging\n",
    "logging.basicConfig(level=logging.INFO)\n",
    "from pysnptools.distreader import Bgen\n",
    "bgen = Bgen(r'M:\\deldir\\500000x100.bgen',verbose=True)\n",
    "print(bgen.shape)"
   ]
  },
  {
   "cell_type": "code",
   "execution_count": 3,
   "metadata": {},
   "outputs": [
    {
     "ename": "TypeError",
     "evalue": "unhashable type: 'slice'",
     "output_type": "error",
     "traceback": [
      "\u001b[1;31m---------------------------------------------------------------------------\u001b[0m",
      "\u001b[1;31mTypeError\u001b[0m                                 Traceback (most recent call last)",
      "\u001b[1;32m<timed eval>\u001b[0m in \u001b[0;36m<module>\u001b[1;34m\u001b[0m\n",
      "\u001b[1;31mTypeError\u001b[0m: unhashable type: 'slice'"
     ]
    }
   ],
   "source": [
    "%%time\n",
    "bgen[0,50:60].read().val"
   ]
  },
  {
   "cell_type": "code",
   "execution_count": 7,
   "metadata": {},
   "outputs": [
    {
     "data": {
      "text/plain": [
       "DistMemMap('M:\\deldir\\500000x100.dist.memmap')"
      ]
     },
     "execution_count": 7,
     "metadata": {},
     "output_type": "execute_result"
    }
   ],
   "source": [
    "import logging\n",
    "import os\n",
    "logging.basicConfig(level=logging.INFO)\n",
    "from pysnptools.distreader import DistMemMap\n",
    "distmammap_file = r'M:\\deldir\\500000x100.dist.memmap'\n",
    "if not os.path.exists(distmammap_file):\n",
    "    distmemmap = DistMemMap.write(distmammap_file,bgen,dtype='float32',sid_batch_size=2)\n",
    "else:\n",
    "    distmemmap = DistMemMap(distmammap_file)\n",
    "distmemmap    "
   ]
  },
  {
   "cell_type": "code",
   "execution_count": 11,
   "metadata": {},
   "outputs": [
    {
     "name": "stdout",
     "output_type": "stream",
     "text": [
      "Wall time: 0 ns\n"
     ]
    },
    {
     "data": {
      "text/plain": [
       "memmap([[[       nan,        nan,        nan],\n",
       "         [0.6784314 , 0.04313726, 0.2784314 ],\n",
       "         [0.24705882, 0.29803923, 0.45490196],\n",
       "         [0.4862745 , 0.08235294, 0.43137255],\n",
       "         [0.28235295, 0.3882353 , 0.32941177],\n",
       "         [       nan,        nan,        nan],\n",
       "         [0.34509805, 0.18431373, 0.47058824],\n",
       "         [0.34901962, 0.30588236, 0.34509805],\n",
       "         [0.6666667 , 0.16862746, 0.16470589],\n",
       "         [0.4117647 , 0.2627451 , 0.3254902 ]],\n",
       "\n",
       "        [[0.39607844, 0.3137255 , 0.2901961 ],\n",
       "         [0.30588236, 0.28627452, 0.40784314],\n",
       "         [0.3647059 , 0.5019608 , 0.13333334],\n",
       "         [0.24705882, 0.3882353 , 0.3647059 ],\n",
       "         [       nan,        nan,        nan],\n",
       "         [       nan,        nan,        nan],\n",
       "         [0.44313726, 0.39215687, 0.16470589],\n",
       "         [       nan,        nan,        nan],\n",
       "         [       nan,        nan,        nan],\n",
       "         [       nan,        nan,        nan]],\n",
       "\n",
       "        [[       nan,        nan,        nan],\n",
       "         [0.45490196, 0.26666668, 0.2784314 ],\n",
       "         [0.15686275, 0.42745098, 0.41568628],\n",
       "         [0.47058824, 0.34901962, 0.18039216],\n",
       "         [0.45490196, 0.08627451, 0.45882353],\n",
       "         [0.27058825, 0.24705882, 0.48235294],\n",
       "         [0.5372549 , 0.39607844, 0.06666667],\n",
       "         [0.36078432, 0.29411766, 0.34509805],\n",
       "         [0.29803923, 0.41568628, 0.28627452],\n",
       "         [0.47058824, 0.50980395, 0.01960784]],\n",
       "\n",
       "        [[       nan,        nan,        nan],\n",
       "         [0.3882353 , 0.15294118, 0.45882353],\n",
       "         [0.5176471 , 0.4       , 0.08235294],\n",
       "         [0.23529412, 0.5254902 , 0.23921569],\n",
       "         [0.23137255, 0.01568628, 0.7529412 ],\n",
       "         [0.6       , 0.3882353 , 0.01176471],\n",
       "         [0.38431373, 0.50980395, 0.10588235],\n",
       "         [       nan,        nan,        nan],\n",
       "         [0.03137255, 0.7058824 , 0.2627451 ],\n",
       "         [0.53333336, 0.41568628, 0.05098039]],\n",
       "\n",
       "        [[       nan,        nan,        nan],\n",
       "         [       nan,        nan,        nan],\n",
       "         [0.23529412, 0.28627452, 0.47843137],\n",
       "         [0.29411766, 0.27450982, 0.43137255],\n",
       "         [0.6       , 0.15294118, 0.24705882],\n",
       "         [       nan,        nan,        nan],\n",
       "         [0.15294118, 0.40784314, 0.4392157 ],\n",
       "         [0.2627451 , 0.41568628, 0.32156864],\n",
       "         [       nan,        nan,        nan],\n",
       "         [0.5882353 , 0.        , 0.4117647 ]],\n",
       "\n",
       "        [[0.0627451 , 0.8862745 , 0.05098039],\n",
       "         [0.6784314 , 0.10980392, 0.21176471],\n",
       "         [0.25490198, 0.10980392, 0.63529414],\n",
       "         [0.01960784, 0.78039217, 0.2       ],\n",
       "         [0.4117647 , 0.21568628, 0.37254903],\n",
       "         [0.4509804 , 0.5294118 , 0.01960784],\n",
       "         [0.38431373, 0.47843137, 0.13725491],\n",
       "         [0.4392157 , 0.36862746, 0.19215687],\n",
       "         [       nan,        nan,        nan],\n",
       "         [0.34509805, 0.3764706 , 0.2784314 ]],\n",
       "\n",
       "        [[0.4392157 , 0.08235294, 0.47843137],\n",
       "         [0.07843138, 0.41568628, 0.5058824 ],\n",
       "         [0.49019608, 0.30980393, 0.2       ],\n",
       "         [0.69803923, 0.01176471, 0.2901961 ],\n",
       "         [0.3647059 , 0.27450982, 0.36078432],\n",
       "         [       nan,        nan,        nan],\n",
       "         [0.46666667, 0.15294118, 0.38039216],\n",
       "         [0.01176471, 0.63529414, 0.3529412 ],\n",
       "         [0.06666667, 0.85882354, 0.07450981],\n",
       "         [0.21568628, 0.2627451 , 0.52156866]],\n",
       "\n",
       "        [[0.9607843 , 0.03137255, 0.00784314],\n",
       "         [0.00784314, 0.57254905, 0.41960785],\n",
       "         [0.2901961 , 0.34901962, 0.36078432],\n",
       "         [0.45490196, 0.49019608, 0.05490196],\n",
       "         [       nan,        nan,        nan],\n",
       "         [       nan,        nan,        nan],\n",
       "         [0.4       , 0.43137255, 0.16862746],\n",
       "         [       nan,        nan,        nan],\n",
       "         [0.5176471 , 0.2627451 , 0.21960784],\n",
       "         [0.6039216 , 0.18431373, 0.21176471]],\n",
       "\n",
       "        [[0.5019608 , 0.1764706 , 0.32156864],\n",
       "         [0.45490196, 0.21176471, 0.33333334],\n",
       "         [       nan,        nan,        nan],\n",
       "         [0.4117647 , 0.01568628, 0.57254905],\n",
       "         [       nan,        nan,        nan],\n",
       "         [       nan,        nan,        nan],\n",
       "         [       nan,        nan,        nan],\n",
       "         [0.28235295, 0.30980393, 0.40784314],\n",
       "         [0.10980392, 0.03529412, 0.85490197],\n",
       "         [0.65882355, 0.13725491, 0.20392157]],\n",
       "\n",
       "        [[0.00392157, 0.7921569 , 0.20392157],\n",
       "         [0.41568628, 0.34509805, 0.23921569],\n",
       "         [0.11372549, 0.49411765, 0.39215687],\n",
       "         [0.19215687, 0.36862746, 0.4392157 ],\n",
       "         [0.57254905, 0.40392157, 0.02352941],\n",
       "         [0.5176471 , 0.28235295, 0.2       ],\n",
       "         [0.34117648, 0.34117648, 0.31764707],\n",
       "         [0.34117648, 0.5372549 , 0.12156863],\n",
       "         [       nan,        nan,        nan],\n",
       "         [0.24313726, 0.28627452, 0.47058824]]], dtype=float32)"
      ]
     },
     "execution_count": 11,
     "metadata": {},
     "output_type": "execute_result"
    }
   ],
   "source": [
    "%%time\n",
    "distmemmap.val[::50000,::10]"
   ]
  },
  {
   "cell_type": "code",
   "execution_count": 2,
   "metadata": {},
   "outputs": [
    {
     "name": "stderr",
     "output_type": "stream",
     "text": [
      "Mapping variants: 100%|███████████████████████████████████████████████████| 1000000/1000000 [00:17<00:00, 58341.24it/s]\n"
     ]
    },
    {
     "name": "stdout",
     "output_type": "stream",
     "text": [
      "(1, 1000000)\n",
      "Wall time: 1min 6s\n"
     ]
    }
   ],
   "source": [
    "%%time\n",
    "from pysnptools.distreader import Bgen\n",
    "bgen2 = Bgen(r'M:\\deldir\\1x1000000.bgen',verbose=True) #!!!cmk why does this keep re-\"Mapping variants\" after metadata file already there?\n",
    "#!!!cmk why slow even after mapping is done?\n",
    "print(bgen2.shape)"
   ]
  },
  {
   "cell_type": "code",
   "execution_count": 4,
   "metadata": {},
   "outputs": [
    {
     "name": "stdout",
     "output_type": "stream",
     "text": [
      "Wall time: 0 ns\n"
     ]
    },
    {
     "data": {
      "text/plain": [
       "(1, 1000000)"
      ]
     },
     "execution_count": 4,
     "metadata": {},
     "output_type": "execute_result"
    }
   ],
   "source": [
    "%%time\n",
    "bgen2.shape"
   ]
  },
  {
   "cell_type": "code",
   "execution_count": 5,
   "metadata": {},
   "outputs": [
    {
     "name": "stdout",
     "output_type": "stream",
     "text": [
      "Wall time: 2 ms\n"
     ]
    },
    {
     "data": {
      "text/plain": [
       "array([], shape=(1, 0, 3), dtype=float64)"
      ]
     },
     "execution_count": 5,
     "metadata": {},
     "output_type": "execute_result"
    }
   ],
   "source": [
    "%%time\n",
    "start = 2500000\n",
    "bgen2[-1,start:start+100].read().val"
   ]
  },
  {
   "cell_type": "code",
   "execution_count": null,
   "metadata": {},
   "outputs": [
    {
     "name": "stderr",
     "output_type": "stream",
     "text": [
      "INFO:root:About to start allocating memmap 'M:\\deldir\\10x5000000b.dist.memmap'\n",
      "INFO:root:Finished allocating memmap 'M:\\deldir\\10x5000000b.dist.memmap'. Size is 1040001460\n"
     ]
    },
    {
     "name": "stdout",
     "output_type": "stream",
     "text": [
      "sid_index  -- time=7:28:54.96, 99720 of 5000000\r"
     ]
    }
   ],
   "source": [
    "import logging\n",
    "import os\n",
    "logging.basicConfig(level=logging.INFO)\n",
    "from pysnptools.distreader import DistMemMap\n",
    "distmammap_file2 = r'M:\\deldir\\1x5000000.dist.memmap'\n",
    "if not os.path.exists(distmammap_file2):\n",
    "    distmemmap2 = DistMemMap.write(distmammap_file2,bgen2,dtype='float32',sid_batch_size=10)\n",
    "else:\n",
    "    distmemmap2 = DistMemMap(distmammap_file2)\n",
    "distmemmap2    "
   ]
  },
  {
   "cell_type": "code",
   "execution_count": 1,
   "metadata": {},
   "outputs": [
    {
     "name": "stderr",
     "output_type": "stream",
     "text": [
      "Mapping variants: 100%|███████████████████████████████████████████████████| 1000000/1000000 [00:15<00:00, 66431.58it/s]\n"
     ]
    },
    {
     "name": "stdout",
     "output_type": "stream",
     "text": [
      "Wall time: 16.2 s\n"
     ]
    }
   ],
   "source": [
    "%%time\n",
    "#/mnt/m/qctool/build/release/qctool_v2.0.7 -g /mnt/m/deldir/1x1000000.gen -s /mnt/m/deldir/1x1000000.sample -og /mnt/m/deldir/1x1000000.bgen -bgen-bits 8 -bgen-compression zlib   \n",
    "from bgen_reader import read_bgen\n",
    "filename = r'm:\\deldir\\1x1000000.bgen'\n",
    "bgen = read_bgen(filename,verbose=True)"
   ]
  },
  {
   "cell_type": "code",
   "execution_count": 11,
   "metadata": {},
   "outputs": [
    {
     "name": "stdout",
     "output_type": "stream",
     "text": [
      "Wall time: 19.2 s\n"
     ]
    },
    {
     "data": {
      "text/plain": [
       "1000000"
      ]
     },
     "execution_count": 11,
     "metadata": {},
     "output_type": "execute_result"
    }
   ],
   "source": [
    "%%time\n",
    "id_list = bgen['variants']['id']\n",
    "len(id_list)"
   ]
  },
  {
   "cell_type": "code",
   "execution_count": 3,
   "metadata": {},
   "outputs": [
    {
     "name": "stdout",
     "output_type": "stream",
     "text": [
      "Wall time: 16.3 s\n"
     ]
    },
    {
     "data": {
      "text/plain": [
       "1000000"
      ]
     },
     "execution_count": 3,
     "metadata": {},
     "output_type": "execute_result"
    }
   ],
   "source": [
    "%%time\n",
    "chrom_list = bgen['variants']['chrom']\n",
    "len(chrom_list)"
   ]
  },
  {
   "cell_type": "code",
   "execution_count": 6,
   "metadata": {},
   "outputs": [
    {
     "name": "stdout",
     "output_type": "stream",
     "text": [
      "Wall time: 140 ms\n"
     ]
    },
    {
     "data": {
      "text/plain": [
       "array([[0.65490196, 0.2       , 0.14509804]])"
      ]
     },
     "execution_count": 6,
     "metadata": {},
     "output_type": "execute_result"
    }
   ],
   "source": [
    "%%time\n",
    "bgen[\"genotype\"][500000].compute()['probs']"
   ]
  },
  {
   "cell_type": "code",
   "execution_count": 8,
   "metadata": {},
   "outputs": [
    {
     "name": "stderr",
     "output_type": "stream",
     "text": [
      "Mapping variants: 100%|███████████████████████████████████████████████████| 1000000/1000000 [00:14<00:00, 67933.42it/s]\n"
     ]
    },
    {
     "name": "stdout",
     "output_type": "stream",
     "text": [
      "Wall time: 15.4 s\n"
     ]
    }
   ],
   "source": [
    "%%time\n",
    "del bgen\n",
    "bgen = read_bgen(filename,verbose=True)"
   ]
  },
  {
   "cell_type": "code",
   "execution_count": 9,
   "metadata": {},
   "outputs": [
    {
     "name": "stdout",
     "output_type": "stream",
     "text": [
      "Wall time: 18.5 s\n"
     ]
    },
    {
     "data": {
      "text/plain": [
       "1000000"
      ]
     },
     "execution_count": 9,
     "metadata": {},
     "output_type": "execute_result"
    }
   ],
   "source": [
    "%%time\n",
    "chrom_list = bgen['variants']['chrom']\n",
    "len(chrom_list)"
   ]
  },
  {
   "cell_type": "code",
   "execution_count": null,
   "metadata": {},
   "outputs": [],
   "source": []
  }
 ],
 "metadata": {
  "kernelspec": {
   "display_name": "Python 3",
   "language": "python",
   "name": "python3"
  },
  "language_info": {
   "codemirror_mode": {
    "name": "ipython",
    "version": 3
   },
   "file_extension": ".py",
   "mimetype": "text/x-python",
   "name": "python",
   "nbconvert_exporter": "python",
   "pygments_lexer": "ipython3",
   "version": "3.7.4"
  }
 },
 "nbformat": 4,
 "nbformat_minor": 2
}
